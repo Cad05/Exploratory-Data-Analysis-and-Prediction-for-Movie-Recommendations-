{
 "cells": [
  {
   "cell_type": "markdown",
   "metadata": {
    "id": "DzPTHKCmyYM9"
   },
   "source": [
    "##Name : Sanyuja Kadam\n",
    "###Title : MovieBuff - We recommend better\n",
    "\n",
    "####Sub-Title : Confused on what to watch today? Leave that on the MovieBuff."
   ]
  },
  {
   "cell_type": "markdown",
   "metadata": {
    "id": "OuUq9mT4Z7NS"
   },
   "source": [
    "1) Objective of the Project\n",
    "\n",
    "We all face this challenging task on choosing what to watch when it comes to movies or tv series. We can have numerous discussions on these but we end up watching those same movies that we have been watching over these years. Now that our cohor wants to host a movie night its time we devise a recommendation system.\n",
    "\n",
    "Our Data Science program wants students to interact and get to know each other so they are hosting a movie night and have asked the students to vote on different parameters such as their likeness to different Genres. Based on this, our team will decide on what movie to be hosted on Movie Night.\n",
    "\n",
    "I have decided to make everyone's life easier by devising a recommendation system where you put the students likeness and decide on what type of Genre is most liked by the student, so we can host a movie of that type.\n",
    "\n",
    "Now lets say we have a new student who joined up late where do we classify him/her. Here is where MovieBuff comes in action. MovieBuff will help everyone understand what a student likes, their favourite genre and if there is a point to choose a movie what could the student choose."
   ]
  },
  {
   "cell_type": "markdown",
   "metadata": {
    "id": "6-y3CB5f1tjN"
   },
   "source": [
    "Lets import all the libraries neede for our code"
   ]
  },
  {
   "cell_type": "code",
   "execution_count": 1,
   "metadata": {
    "id": "YRxRVPn52Ged"
   },
   "outputs": [],
   "source": [
    "import numpy as np\n",
    "import pandas as pd\n",
    "from pandas import DataFrame, Series\n",
    "import matplotlib.pyplot as plt\n",
    "from matplotlib.pyplot import figure\n",
    "import seaborn as sns\n",
    "from sklearn.preprocessing import LabelEncoder"
   ]
  },
  {
   "cell_type": "markdown",
   "metadata": {
    "id": "yhL2WoJFkZ1j"
   },
   "source": [
    "2) Data Exploration"
   ]
  },
  {
   "cell_type": "markdown",
   "metadata": {
    "id": "j27m0myt1yes"
   },
   "source": [
    "The below dataset is generated from www.socrative.com where all of our stuents have voted on different parameters and this is how we have created the dataset"
   ]
  },
  {
   "cell_type": "markdown",
   "metadata": {
    "id": "RcZ1LVbW3p0U"
   },
   "source": [
    "2.1)Understanding the dataset"
   ]
  },
  {
   "cell_type": "code",
   "execution_count": 2,
   "metadata": {
    "id": "bXOOxIAk2KeN"
   },
   "outputs": [],
   "source": [
    "data = pd.read_csv(\"Class_2022_10_15__22_05_QZ_Movies Movies & Movies.csv\")"
   ]
  },
  {
   "cell_type": "code",
   "execution_count": 3,
   "metadata": {
    "id": "I2jJgzxz2wKj"
   },
   "outputs": [],
   "source": [
    "df = pd.DataFrame(data)"
   ]
  },
  {
   "cell_type": "markdown",
   "metadata": {
    "id": "UwOMdQTV3t2R"
   },
   "source": [
    "The dataset consists of 38 observations and 17 features which has voting of different likeness to genres and thier preffered movie"
   ]
  },
  {
   "cell_type": "code",
   "execution_count": 4,
   "metadata": {
    "colab": {
     "base_uri": "https://localhost:8080/"
    },
    "id": "xWsAWxD72xch",
    "outputId": "c5be33b1-153b-45fe-ef02-0548207389b8"
   },
   "outputs": [
    {
     "data": {
      "text/plain": [
       "(38, 17)"
      ]
     },
     "execution_count": 4,
     "metadata": {},
     "output_type": "execute_result"
    }
   ],
   "source": [
    "data.shape"
   ]
  },
  {
   "cell_type": "markdown",
   "metadata": {
    "id": "4HpFkOIS4Bcb"
   },
   "source": [
    "Let's check the sample of our dataset"
   ]
  },
  {
   "cell_type": "code",
   "execution_count": 5,
   "metadata": {
    "colab": {
     "base_uri": "https://localhost:8080/",
     "height": 611
    },
    "id": "o4ZtnoqpeHRd",
    "outputId": "102a23f7-bccb-42ba-ceb8-5b5c3f874ad8"
   },
   "outputs": [
    {
     "data": {
      "text/html": [
       "\n",
       "  <div id=\"df-f6a4c6d0-3709-4614-bb9d-3f415bfaac9c\">\n",
       "    <div class=\"colab-df-container\">\n",
       "      <div>\n",
       "<style scoped>\n",
       "    .dataframe tbody tr th:only-of-type {\n",
       "        vertical-align: middle;\n",
       "    }\n",
       "\n",
       "    .dataframe tbody tr th {\n",
       "        vertical-align: top;\n",
       "    }\n",
       "\n",
       "    .dataframe thead th {\n",
       "        text-align: right;\n",
       "    }\n",
       "</style>\n",
       "<table border=\"1\" class=\"dataframe\">\n",
       "  <thead>\n",
       "    <tr style=\"text-align: right;\">\n",
       "      <th></th>\n",
       "      <th>Student Name</th>\n",
       "      <th>Using a scale 1 to 10, how much do you like action movies? (use decimals, e.g. 4.2)</th>\n",
       "      <th>Using a scale 1 to 10, how much do you like adventure movies? (use decimals, e.g. 4.2)</th>\n",
       "      <th>Using a scale 1 to 10, how much do you like comedy movies? (use decimals, e.g. 4.2)</th>\n",
       "      <th>Using a scale 1 to 10, how much do you like crime movies? (use decimals, e.g. 4.2)</th>\n",
       "      <th>Using a scale 1 to 10, how much do you like drama movies?</th>\n",
       "      <th>Using a scale 1 to 10, how much do you like fantasy movies?</th>\n",
       "      <th>Using a scale 1 to 10, how much do you like science fiction movies?</th>\n",
       "      <th>Using a scale 1 to 10, how much do you like horror movies?</th>\n",
       "      <th>Using a scale 1 to 10, how much do you like mystery movies?</th>\n",
       "      <th>Using a scale 1 to 10, how much do you like romance movies?</th>\n",
       "      <th>Using a scale 1 to 10, how much do you like thriller movies?</th>\n",
       "      <th>Using a scale 1 to 10, how much do you like documentary movies?</th>\n",
       "      <th>Using a scale 1 to 10, how much do you like animated movies?</th>\n",
       "      <th>On average, how many movies you watch on a single week</th>\n",
       "      <th>Which of the following movies you'd say is your preferred?</th>\n",
       "      <th>Describe yourself with 5 adjectives. For example:- Capable- Friendly- Happy- Sociable- Slow</th>\n",
       "    </tr>\n",
       "  </thead>\n",
       "  <tbody>\n",
       "    <tr>\n",
       "      <th>0</th>\n",
       "      <td>Akbar</td>\n",
       "      <td>9.9</td>\n",
       "      <td>9.9</td>\n",
       "      <td>9.8</td>\n",
       "      <td>8.5</td>\n",
       "      <td>5.4</td>\n",
       "      <td>7.9</td>\n",
       "      <td>8.9</td>\n",
       "      <td>9.9</td>\n",
       "      <td>6.9</td>\n",
       "      <td>10.0</td>\n",
       "      <td>9.5</td>\n",
       "      <td>3.8</td>\n",
       "      <td>7.4</td>\n",
       "      <td>D. 4) Three to four movies a week</td>\n",
       "      <td>D. Spiderman</td>\n",
       "      <td>Sociable\\nFriendly\\nchatty\\nloyal\\nHappy</td>\n",
       "    </tr>\n",
       "    <tr>\n",
       "      <th>1</th>\n",
       "      <td>Ali</td>\n",
       "      <td>6.0</td>\n",
       "      <td>6.0</td>\n",
       "      <td>6.0</td>\n",
       "      <td>5.0</td>\n",
       "      <td>7.0</td>\n",
       "      <td>3.0</td>\n",
       "      <td>10.0</td>\n",
       "      <td>3.0</td>\n",
       "      <td>7.0</td>\n",
       "      <td>4.0</td>\n",
       "      <td>5.0</td>\n",
       "      <td>9.0</td>\n",
       "      <td>7.0</td>\n",
       "      <td>B. 2) One movie a week</td>\n",
       "      <td>A. Star Wars\\nE. Mulan</td>\n",
       "      <td>Motivated, Reliable, Intuitive, Independent, A...</td>\n",
       "    </tr>\n",
       "    <tr>\n",
       "      <th>2</th>\n",
       "      <td>Anh T</td>\n",
       "      <td>8.9</td>\n",
       "      <td>7.5</td>\n",
       "      <td>5.1</td>\n",
       "      <td>9.4</td>\n",
       "      <td>6.6</td>\n",
       "      <td>7.2</td>\n",
       "      <td>5.5</td>\n",
       "      <td>4.6</td>\n",
       "      <td>7.7</td>\n",
       "      <td>6.4</td>\n",
       "      <td>9.5</td>\n",
       "      <td>2.2</td>\n",
       "      <td>4.8</td>\n",
       "      <td>D. 4) Three to four movies a week</td>\n",
       "      <td>D. Spiderman</td>\n",
       "      <td>- Quiet\\n- Introverted\\n- Happy\\n- Slow\\n- Funny</td>\n",
       "    </tr>\n",
       "    <tr>\n",
       "      <th>3</th>\n",
       "      <td>Brandon Inoshita</td>\n",
       "      <td>8.9</td>\n",
       "      <td>9.1</td>\n",
       "      <td>5.6</td>\n",
       "      <td>6.1</td>\n",
       "      <td>1.2</td>\n",
       "      <td>9.3</td>\n",
       "      <td>9.0</td>\n",
       "      <td>6.2</td>\n",
       "      <td>6.3</td>\n",
       "      <td>5.2</td>\n",
       "      <td>8.3</td>\n",
       "      <td>7.2</td>\n",
       "      <td>9.7</td>\n",
       "      <td>C. 3) Two movies a week</td>\n",
       "      <td>A. Star Wars</td>\n",
       "      <td>-Slow\\n-Anxious\\n-Awkward\\n-Happy\\n-Diligent</td>\n",
       "    </tr>\n",
       "  </tbody>\n",
       "</table>\n",
       "</div>\n",
       "      <button class=\"colab-df-convert\" onclick=\"convertToInteractive('df-f6a4c6d0-3709-4614-bb9d-3f415bfaac9c')\"\n",
       "              title=\"Convert this dataframe to an interactive table.\"\n",
       "              style=\"display:none;\">\n",
       "        \n",
       "  <svg xmlns=\"http://www.w3.org/2000/svg\" height=\"24px\"viewBox=\"0 0 24 24\"\n",
       "       width=\"24px\">\n",
       "    <path d=\"M0 0h24v24H0V0z\" fill=\"none\"/>\n",
       "    <path d=\"M18.56 5.44l.94 2.06.94-2.06 2.06-.94-2.06-.94-.94-2.06-.94 2.06-2.06.94zm-11 1L8.5 8.5l.94-2.06 2.06-.94-2.06-.94L8.5 2.5l-.94 2.06-2.06.94zm10 10l.94 2.06.94-2.06 2.06-.94-2.06-.94-.94-2.06-.94 2.06-2.06.94z\"/><path d=\"M17.41 7.96l-1.37-1.37c-.4-.4-.92-.59-1.43-.59-.52 0-1.04.2-1.43.59L10.3 9.45l-7.72 7.72c-.78.78-.78 2.05 0 2.83L4 21.41c.39.39.9.59 1.41.59.51 0 1.02-.2 1.41-.59l7.78-7.78 2.81-2.81c.8-.78.8-2.07 0-2.86zM5.41 20L4 18.59l7.72-7.72 1.47 1.35L5.41 20z\"/>\n",
       "  </svg>\n",
       "      </button>\n",
       "      \n",
       "  <style>\n",
       "    .colab-df-container {\n",
       "      display:flex;\n",
       "      flex-wrap:wrap;\n",
       "      gap: 12px;\n",
       "    }\n",
       "\n",
       "    .colab-df-convert {\n",
       "      background-color: #E8F0FE;\n",
       "      border: none;\n",
       "      border-radius: 50%;\n",
       "      cursor: pointer;\n",
       "      display: none;\n",
       "      fill: #1967D2;\n",
       "      height: 32px;\n",
       "      padding: 0 0 0 0;\n",
       "      width: 32px;\n",
       "    }\n",
       "\n",
       "    .colab-df-convert:hover {\n",
       "      background-color: #E2EBFA;\n",
       "      box-shadow: 0px 1px 2px rgba(60, 64, 67, 0.3), 0px 1px 3px 1px rgba(60, 64, 67, 0.15);\n",
       "      fill: #174EA6;\n",
       "    }\n",
       "\n",
       "    [theme=dark] .colab-df-convert {\n",
       "      background-color: #3B4455;\n",
       "      fill: #D2E3FC;\n",
       "    }\n",
       "\n",
       "    [theme=dark] .colab-df-convert:hover {\n",
       "      background-color: #434B5C;\n",
       "      box-shadow: 0px 1px 3px 1px rgba(0, 0, 0, 0.15);\n",
       "      filter: drop-shadow(0px 1px 2px rgba(0, 0, 0, 0.3));\n",
       "      fill: #FFFFFF;\n",
       "    }\n",
       "  </style>\n",
       "\n",
       "      <script>\n",
       "        const buttonEl =\n",
       "          document.querySelector('#df-f6a4c6d0-3709-4614-bb9d-3f415bfaac9c button.colab-df-convert');\n",
       "        buttonEl.style.display =\n",
       "          google.colab.kernel.accessAllowed ? 'block' : 'none';\n",
       "\n",
       "        async function convertToInteractive(key) {\n",
       "          const element = document.querySelector('#df-f6a4c6d0-3709-4614-bb9d-3f415bfaac9c');\n",
       "          const dataTable =\n",
       "            await google.colab.kernel.invokeFunction('convertToInteractive',\n",
       "                                                     [key], {});\n",
       "          if (!dataTable) return;\n",
       "\n",
       "          const docLinkHtml = 'Like what you see? Visit the ' +\n",
       "            '<a target=\"_blank\" href=https://colab.research.google.com/notebooks/data_table.ipynb>data table notebook</a>'\n",
       "            + ' to learn more about interactive tables.';\n",
       "          element.innerHTML = '';\n",
       "          dataTable['output_type'] = 'display_data';\n",
       "          await google.colab.output.renderOutput(dataTable, element);\n",
       "          const docLink = document.createElement('div');\n",
       "          docLink.innerHTML = docLinkHtml;\n",
       "          element.appendChild(docLink);\n",
       "        }\n",
       "      </script>\n",
       "    </div>\n",
       "  </div>\n",
       "  "
      ],
      "text/plain": [
       "       Student Name  \\\n",
       "0             Akbar   \n",
       "1               Ali   \n",
       "2             Anh T   \n",
       "3  Brandon Inoshita   \n",
       "\n",
       "   Using a scale 1 to 10, how much do you like action movies? (use decimals, e.g. 4.2)  \\\n",
       "0                                                9.9                                     \n",
       "1                                                6.0                                     \n",
       "2                                                8.9                                     \n",
       "3                                                8.9                                     \n",
       "\n",
       "   Using a scale 1 to 10, how much do you like adventure movies? (use decimals, e.g. 4.2)  \\\n",
       "0                                                9.9                                        \n",
       "1                                                6.0                                        \n",
       "2                                                7.5                                        \n",
       "3                                                9.1                                        \n",
       "\n",
       "   Using a scale 1 to 10, how much do you like comedy movies? (use decimals, e.g. 4.2)  \\\n",
       "0                                                9.8                                     \n",
       "1                                                6.0                                     \n",
       "2                                                5.1                                     \n",
       "3                                                5.6                                     \n",
       "\n",
       "   Using a scale 1 to 10, how much do you like crime movies? (use decimals, e.g. 4.2)  \\\n",
       "0                                                8.5                                    \n",
       "1                                                5.0                                    \n",
       "2                                                9.4                                    \n",
       "3                                                6.1                                    \n",
       "\n",
       "   Using a scale 1 to 10, how much do you like drama movies?  \\\n",
       "0                                                5.4           \n",
       "1                                                7.0           \n",
       "2                                                6.6           \n",
       "3                                                1.2           \n",
       "\n",
       "   Using a scale 1 to 10, how much do you like fantasy movies?  \\\n",
       "0                                                7.9             \n",
       "1                                                3.0             \n",
       "2                                                7.2             \n",
       "3                                                9.3             \n",
       "\n",
       "   Using a scale 1 to 10, how much do you like science fiction movies?  \\\n",
       "0                                                8.9                     \n",
       "1                                               10.0                     \n",
       "2                                                5.5                     \n",
       "3                                                9.0                     \n",
       "\n",
       "   Using a scale 1 to 10, how much do you like horror movies?  \\\n",
       "0                                                9.9            \n",
       "1                                                3.0            \n",
       "2                                                4.6            \n",
       "3                                                6.2            \n",
       "\n",
       "   Using a scale 1 to 10, how much do you like mystery movies?  \\\n",
       "0                                                6.9             \n",
       "1                                                7.0             \n",
       "2                                                7.7             \n",
       "3                                                6.3             \n",
       "\n",
       "   Using a scale 1 to 10, how much do you like romance movies?  \\\n",
       "0                                               10.0             \n",
       "1                                                4.0             \n",
       "2                                                6.4             \n",
       "3                                                5.2             \n",
       "\n",
       "   Using a scale 1 to 10, how much do you like thriller movies?  \\\n",
       "0                                                9.5              \n",
       "1                                                5.0              \n",
       "2                                                9.5              \n",
       "3                                                8.3              \n",
       "\n",
       "   Using a scale 1 to 10, how much do you like documentary movies?  \\\n",
       "0                                                3.8                 \n",
       "1                                                9.0                 \n",
       "2                                                2.2                 \n",
       "3                                                7.2                 \n",
       "\n",
       "   Using a scale 1 to 10, how much do you like animated movies?  \\\n",
       "0                                                7.4              \n",
       "1                                                7.0              \n",
       "2                                                4.8              \n",
       "3                                                9.7              \n",
       "\n",
       "  On average, how many movies you watch on a single week  \\\n",
       "0                  D. 4) Three to four movies a week       \n",
       "1                             B. 2) One movie a week       \n",
       "2                  D. 4) Three to four movies a week       \n",
       "3                            C. 3) Two movies a week       \n",
       "\n",
       "  Which of the following movies you'd say is your preferred?  \\\n",
       "0                                       D. Spiderman           \n",
       "1                             A. Star Wars\\nE. Mulan           \n",
       "2                                       D. Spiderman           \n",
       "3                                       A. Star Wars           \n",
       "\n",
       "  Describe yourself with 5 adjectives. For example:- Capable- Friendly- Happy- Sociable- Slow  \n",
       "0           Sociable\\nFriendly\\nchatty\\nloyal\\nHappy                                           \n",
       "1  Motivated, Reliable, Intuitive, Independent, A...                                           \n",
       "2   - Quiet\\n- Introverted\\n- Happy\\n- Slow\\n- Funny                                           \n",
       "3       -Slow\\n-Anxious\\n-Awkward\\n-Happy\\n-Diligent                                           "
      ]
     },
     "execution_count": 5,
     "metadata": {},
     "output_type": "execute_result"
    }
   ],
   "source": [
    "df.head(4)"
   ]
  },
  {
   "cell_type": "markdown",
   "metadata": {
    "id": "x34LUVyAkerB"
   },
   "source": [
    "2.2) Cleaning the data:\n",
    "\n",
    "2.2.1) Changing column names"
   ]
  },
  {
   "cell_type": "markdown",
   "metadata": {
    "id": "fyhP_iaK2F1M"
   },
   "source": [
    "We have very larger column names so I have reduced their name so as to make th coding easier"
   ]
  },
  {
   "cell_type": "code",
   "execution_count": 6,
   "metadata": {
    "id": "5CvHnCIpgdD7"
   },
   "outputs": [],
   "source": [
    "df = df.rename(columns={\"Using a scale 1 to 10, how much do you like comedy movies? (use decimals, e.g. 4.2)\": \"Comedy\", \"Using a scale 1 to 10, how much do you like crime movies? (use decimals, e.g. 4.2)\": \"Crime\", \"Using a scale 1 to 10, how much do you like drama movies?\":\"Drama\", \"Using a scale 1 to 10, how much do you like fantasy movies?\":\"Fantasy\", \"Using a scale 1 to 10, how much do you like science fiction movies?\" : \"Science Fiction\", \"Using a scale 1 to 10, how much do you like action movies? (use decimals, e.g. 4.2)\": \"Action\", \"Using a scale 1 to 10, how much do you like adventure movies? (use decimals, e.g. 4.2)\": \"Adventure\", \"Using a scale 1 to 10, how much do you like horror movies?\" : \"Horror\", \"Using a scale 1 to 10, how much do you like mystery movies?\": \"Mystery\", \"Using a scale 1 to 10, how much do you like romance movies?\": \"Romance\", \"Using a scale 1 to 10, how much do you like thriller movies?\": \"Thriller\", \"Using a scale 1 to 10, how much do you like documentary movies?\": \"Documentary\", \"Using a scale 1 to 10, how much do you like animated movies?\": \"Animated\", \"On average, how many movies you watch on a single week\": \"Average in a Week\", \"Which of the following movies you'd say is your preferred?\":\"Preference\",\"Describe yourself with 5 adjectives. For example:- Capable- Friendly- Happy- Sociable- Slow\": \"Describe Yourself\"})"
   ]
  },
  {
   "cell_type": "code",
   "execution_count": 7,
   "metadata": {
    "id": "NKofb_uufZEz"
   },
   "outputs": [],
   "source": [
    "test = df.copy()"
   ]
  },
  {
   "cell_type": "code",
   "execution_count": 8,
   "metadata": {
    "colab": {
     "base_uri": "https://localhost:8080/",
     "height": 427
    },
    "id": "AQwK8SOBii5c",
    "outputId": "c7a1c7c5-535e-4723-e0f7-943d39d049f3"
   },
   "outputs": [
    {
     "data": {
      "text/html": [
       "\n",
       "  <div id=\"df-6c6cf41c-9e78-4686-8a35-9d9d7a76b907\">\n",
       "    <div class=\"colab-df-container\">\n",
       "      <div>\n",
       "<style scoped>\n",
       "    .dataframe tbody tr th:only-of-type {\n",
       "        vertical-align: middle;\n",
       "    }\n",
       "\n",
       "    .dataframe tbody tr th {\n",
       "        vertical-align: top;\n",
       "    }\n",
       "\n",
       "    .dataframe thead th {\n",
       "        text-align: right;\n",
       "    }\n",
       "</style>\n",
       "<table border=\"1\" class=\"dataframe\">\n",
       "  <thead>\n",
       "    <tr style=\"text-align: right;\">\n",
       "      <th></th>\n",
       "      <th>Student Name</th>\n",
       "      <th>Action</th>\n",
       "      <th>Adventure</th>\n",
       "      <th>Comedy</th>\n",
       "      <th>Crime</th>\n",
       "      <th>Drama</th>\n",
       "      <th>Fantasy</th>\n",
       "      <th>Science Fiction</th>\n",
       "      <th>Horror</th>\n",
       "      <th>Mystery</th>\n",
       "      <th>Romance</th>\n",
       "      <th>Thriller</th>\n",
       "      <th>Documentary</th>\n",
       "      <th>Animated</th>\n",
       "      <th>Average in a Week</th>\n",
       "      <th>Preference</th>\n",
       "      <th>Describe Yourself</th>\n",
       "    </tr>\n",
       "  </thead>\n",
       "  <tbody>\n",
       "    <tr>\n",
       "      <th>0</th>\n",
       "      <td>Akbar</td>\n",
       "      <td>9.9</td>\n",
       "      <td>9.9</td>\n",
       "      <td>9.8</td>\n",
       "      <td>8.5</td>\n",
       "      <td>5.4</td>\n",
       "      <td>7.9</td>\n",
       "      <td>8.9</td>\n",
       "      <td>9.9</td>\n",
       "      <td>6.9</td>\n",
       "      <td>10.0</td>\n",
       "      <td>9.5</td>\n",
       "      <td>3.8</td>\n",
       "      <td>7.4</td>\n",
       "      <td>D. 4) Three to four movies a week</td>\n",
       "      <td>D. Spiderman</td>\n",
       "      <td>Sociable\\nFriendly\\nchatty\\nloyal\\nHappy</td>\n",
       "    </tr>\n",
       "    <tr>\n",
       "      <th>1</th>\n",
       "      <td>Ali</td>\n",
       "      <td>6.0</td>\n",
       "      <td>6.0</td>\n",
       "      <td>6.0</td>\n",
       "      <td>5.0</td>\n",
       "      <td>7.0</td>\n",
       "      <td>3.0</td>\n",
       "      <td>10.0</td>\n",
       "      <td>3.0</td>\n",
       "      <td>7.0</td>\n",
       "      <td>4.0</td>\n",
       "      <td>5.0</td>\n",
       "      <td>9.0</td>\n",
       "      <td>7.0</td>\n",
       "      <td>B. 2) One movie a week</td>\n",
       "      <td>A. Star Wars\\nE. Mulan</td>\n",
       "      <td>Motivated, Reliable, Intuitive, Independent, A...</td>\n",
       "    </tr>\n",
       "    <tr>\n",
       "      <th>2</th>\n",
       "      <td>Anh T</td>\n",
       "      <td>8.9</td>\n",
       "      <td>7.5</td>\n",
       "      <td>5.1</td>\n",
       "      <td>9.4</td>\n",
       "      <td>6.6</td>\n",
       "      <td>7.2</td>\n",
       "      <td>5.5</td>\n",
       "      <td>4.6</td>\n",
       "      <td>7.7</td>\n",
       "      <td>6.4</td>\n",
       "      <td>9.5</td>\n",
       "      <td>2.2</td>\n",
       "      <td>4.8</td>\n",
       "      <td>D. 4) Three to four movies a week</td>\n",
       "      <td>D. Spiderman</td>\n",
       "      <td>- Quiet\\n- Introverted\\n- Happy\\n- Slow\\n- Funny</td>\n",
       "    </tr>\n",
       "  </tbody>\n",
       "</table>\n",
       "</div>\n",
       "      <button class=\"colab-df-convert\" onclick=\"convertToInteractive('df-6c6cf41c-9e78-4686-8a35-9d9d7a76b907')\"\n",
       "              title=\"Convert this dataframe to an interactive table.\"\n",
       "              style=\"display:none;\">\n",
       "        \n",
       "  <svg xmlns=\"http://www.w3.org/2000/svg\" height=\"24px\"viewBox=\"0 0 24 24\"\n",
       "       width=\"24px\">\n",
       "    <path d=\"M0 0h24v24H0V0z\" fill=\"none\"/>\n",
       "    <path d=\"M18.56 5.44l.94 2.06.94-2.06 2.06-.94-2.06-.94-.94-2.06-.94 2.06-2.06.94zm-11 1L8.5 8.5l.94-2.06 2.06-.94-2.06-.94L8.5 2.5l-.94 2.06-2.06.94zm10 10l.94 2.06.94-2.06 2.06-.94-2.06-.94-.94-2.06-.94 2.06-2.06.94z\"/><path d=\"M17.41 7.96l-1.37-1.37c-.4-.4-.92-.59-1.43-.59-.52 0-1.04.2-1.43.59L10.3 9.45l-7.72 7.72c-.78.78-.78 2.05 0 2.83L4 21.41c.39.39.9.59 1.41.59.51 0 1.02-.2 1.41-.59l7.78-7.78 2.81-2.81c.8-.78.8-2.07 0-2.86zM5.41 20L4 18.59l7.72-7.72 1.47 1.35L5.41 20z\"/>\n",
       "  </svg>\n",
       "      </button>\n",
       "      \n",
       "  <style>\n",
       "    .colab-df-container {\n",
       "      display:flex;\n",
       "      flex-wrap:wrap;\n",
       "      gap: 12px;\n",
       "    }\n",
       "\n",
       "    .colab-df-convert {\n",
       "      background-color: #E8F0FE;\n",
       "      border: none;\n",
       "      border-radius: 50%;\n",
       "      cursor: pointer;\n",
       "      display: none;\n",
       "      fill: #1967D2;\n",
       "      height: 32px;\n",
       "      padding: 0 0 0 0;\n",
       "      width: 32px;\n",
       "    }\n",
       "\n",
       "    .colab-df-convert:hover {\n",
       "      background-color: #E2EBFA;\n",
       "      box-shadow: 0px 1px 2px rgba(60, 64, 67, 0.3), 0px 1px 3px 1px rgba(60, 64, 67, 0.15);\n",
       "      fill: #174EA6;\n",
       "    }\n",
       "\n",
       "    [theme=dark] .colab-df-convert {\n",
       "      background-color: #3B4455;\n",
       "      fill: #D2E3FC;\n",
       "    }\n",
       "\n",
       "    [theme=dark] .colab-df-convert:hover {\n",
       "      background-color: #434B5C;\n",
       "      box-shadow: 0px 1px 3px 1px rgba(0, 0, 0, 0.15);\n",
       "      filter: drop-shadow(0px 1px 2px rgba(0, 0, 0, 0.3));\n",
       "      fill: #FFFFFF;\n",
       "    }\n",
       "  </style>\n",
       "\n",
       "      <script>\n",
       "        const buttonEl =\n",
       "          document.querySelector('#df-6c6cf41c-9e78-4686-8a35-9d9d7a76b907 button.colab-df-convert');\n",
       "        buttonEl.style.display =\n",
       "          google.colab.kernel.accessAllowed ? 'block' : 'none';\n",
       "\n",
       "        async function convertToInteractive(key) {\n",
       "          const element = document.querySelector('#df-6c6cf41c-9e78-4686-8a35-9d9d7a76b907');\n",
       "          const dataTable =\n",
       "            await google.colab.kernel.invokeFunction('convertToInteractive',\n",
       "                                                     [key], {});\n",
       "          if (!dataTable) return;\n",
       "\n",
       "          const docLinkHtml = 'Like what you see? Visit the ' +\n",
       "            '<a target=\"_blank\" href=https://colab.research.google.com/notebooks/data_table.ipynb>data table notebook</a>'\n",
       "            + ' to learn more about interactive tables.';\n",
       "          element.innerHTML = '';\n",
       "          dataTable['output_type'] = 'display_data';\n",
       "          await google.colab.output.renderOutput(dataTable, element);\n",
       "          const docLink = document.createElement('div');\n",
       "          docLink.innerHTML = docLinkHtml;\n",
       "          element.appendChild(docLink);\n",
       "        }\n",
       "      </script>\n",
       "    </div>\n",
       "  </div>\n",
       "  "
      ],
      "text/plain": [
       "  Student Name  Action  Adventure  Comedy  Crime  Drama  Fantasy  \\\n",
       "0        Akbar     9.9        9.9     9.8    8.5    5.4      7.9   \n",
       "1          Ali     6.0        6.0     6.0    5.0    7.0      3.0   \n",
       "2        Anh T     8.9        7.5     5.1    9.4    6.6      7.2   \n",
       "\n",
       "   Science Fiction  Horror  Mystery  Romance  Thriller  Documentary  Animated  \\\n",
       "0              8.9     9.9      6.9     10.0       9.5          3.8       7.4   \n",
       "1             10.0     3.0      7.0      4.0       5.0          9.0       7.0   \n",
       "2              5.5     4.6      7.7      6.4       9.5          2.2       4.8   \n",
       "\n",
       "                   Average in a Week              Preference  \\\n",
       "0  D. 4) Three to four movies a week            D. Spiderman   \n",
       "1             B. 2) One movie a week  A. Star Wars\\nE. Mulan   \n",
       "2  D. 4) Three to four movies a week            D. Spiderman   \n",
       "\n",
       "                                   Describe Yourself  \n",
       "0           Sociable\\nFriendly\\nchatty\\nloyal\\nHappy  \n",
       "1  Motivated, Reliable, Intuitive, Independent, A...  \n",
       "2   - Quiet\\n- Introverted\\n- Happy\\n- Slow\\n- Funny  "
      ]
     },
     "execution_count": 8,
     "metadata": {},
     "output_type": "execute_result"
    }
   ],
   "source": [
    "test.head(3)"
   ]
  },
  {
   "cell_type": "markdown",
   "metadata": {
    "id": "SNVHumpQknqs"
   },
   "source": [
    "2.2.2) Changing Categorical Data to Numerical Data so that we can apply clustering on **it**"
   ]
  },
  {
   "cell_type": "markdown",
   "metadata": {
    "id": "w24wgGk52UMK"
   },
   "source": [
    "I am applying encoding techniques so that the dataset can be used more efficiently for K-Means clustering"
   ]
  },
  {
   "cell_type": "code",
   "execution_count": 9,
   "metadata": {
    "id": "uBUsHM89jWRg"
   },
   "outputs": [],
   "source": [
    "le = LabelEncoder()"
   ]
  },
  {
   "cell_type": "code",
   "execution_count": 10,
   "metadata": {
    "id": "VMdbIIuOfgIT"
   },
   "outputs": [],
   "source": [
    "test[\"Average in a Week\"] = le.fit_transform(test[\"Average in a Week\"])"
   ]
  },
  {
   "cell_type": "code",
   "execution_count": 11,
   "metadata": {
    "colab": {
     "base_uri": "https://localhost:8080/",
     "height": 356
    },
    "id": "cTGjkEawjcaJ",
    "outputId": "82b93f07-a1ff-44e7-8878-ac54c7bfa6d9"
   },
   "outputs": [
    {
     "data": {
      "text/html": [
       "\n",
       "  <div id=\"df-2246b4a7-277e-4567-ac86-e2255eec6222\">\n",
       "    <div class=\"colab-df-container\">\n",
       "      <div>\n",
       "<style scoped>\n",
       "    .dataframe tbody tr th:only-of-type {\n",
       "        vertical-align: middle;\n",
       "    }\n",
       "\n",
       "    .dataframe tbody tr th {\n",
       "        vertical-align: top;\n",
       "    }\n",
       "\n",
       "    .dataframe thead th {\n",
       "        text-align: right;\n",
       "    }\n",
       "</style>\n",
       "<table border=\"1\" class=\"dataframe\">\n",
       "  <thead>\n",
       "    <tr style=\"text-align: right;\">\n",
       "      <th></th>\n",
       "      <th>Student Name</th>\n",
       "      <th>Action</th>\n",
       "      <th>Adventure</th>\n",
       "      <th>Comedy</th>\n",
       "      <th>Crime</th>\n",
       "      <th>Drama</th>\n",
       "      <th>Fantasy</th>\n",
       "      <th>Science Fiction</th>\n",
       "      <th>Horror</th>\n",
       "      <th>Mystery</th>\n",
       "      <th>Romance</th>\n",
       "      <th>Thriller</th>\n",
       "      <th>Documentary</th>\n",
       "      <th>Animated</th>\n",
       "      <th>Average in a Week</th>\n",
       "      <th>Preference</th>\n",
       "      <th>Describe Yourself</th>\n",
       "    </tr>\n",
       "  </thead>\n",
       "  <tbody>\n",
       "    <tr>\n",
       "      <th>0</th>\n",
       "      <td>Akbar</td>\n",
       "      <td>9.9</td>\n",
       "      <td>9.9</td>\n",
       "      <td>9.8</td>\n",
       "      <td>8.5</td>\n",
       "      <td>5.4</td>\n",
       "      <td>7.9</td>\n",
       "      <td>8.9</td>\n",
       "      <td>9.9</td>\n",
       "      <td>6.9</td>\n",
       "      <td>10.0</td>\n",
       "      <td>9.5</td>\n",
       "      <td>3.8</td>\n",
       "      <td>7.4</td>\n",
       "      <td>3</td>\n",
       "      <td>D. Spiderman</td>\n",
       "      <td>Sociable\\nFriendly\\nchatty\\nloyal\\nHappy</td>\n",
       "    </tr>\n",
       "    <tr>\n",
       "      <th>1</th>\n",
       "      <td>Ali</td>\n",
       "      <td>6.0</td>\n",
       "      <td>6.0</td>\n",
       "      <td>6.0</td>\n",
       "      <td>5.0</td>\n",
       "      <td>7.0</td>\n",
       "      <td>3.0</td>\n",
       "      <td>10.0</td>\n",
       "      <td>3.0</td>\n",
       "      <td>7.0</td>\n",
       "      <td>4.0</td>\n",
       "      <td>5.0</td>\n",
       "      <td>9.0</td>\n",
       "      <td>7.0</td>\n",
       "      <td>1</td>\n",
       "      <td>A. Star Wars\\nE. Mulan</td>\n",
       "      <td>Motivated, Reliable, Intuitive, Independent, A...</td>\n",
       "    </tr>\n",
       "    <tr>\n",
       "      <th>2</th>\n",
       "      <td>Anh T</td>\n",
       "      <td>8.9</td>\n",
       "      <td>7.5</td>\n",
       "      <td>5.1</td>\n",
       "      <td>9.4</td>\n",
       "      <td>6.6</td>\n",
       "      <td>7.2</td>\n",
       "      <td>5.5</td>\n",
       "      <td>4.6</td>\n",
       "      <td>7.7</td>\n",
       "      <td>6.4</td>\n",
       "      <td>9.5</td>\n",
       "      <td>2.2</td>\n",
       "      <td>4.8</td>\n",
       "      <td>3</td>\n",
       "      <td>D. Spiderman</td>\n",
       "      <td>- Quiet\\n- Introverted\\n- Happy\\n- Slow\\n- Funny</td>\n",
       "    </tr>\n",
       "    <tr>\n",
       "      <th>3</th>\n",
       "      <td>Brandon Inoshita</td>\n",
       "      <td>8.9</td>\n",
       "      <td>9.1</td>\n",
       "      <td>5.6</td>\n",
       "      <td>6.1</td>\n",
       "      <td>1.2</td>\n",
       "      <td>9.3</td>\n",
       "      <td>9.0</td>\n",
       "      <td>6.2</td>\n",
       "      <td>6.3</td>\n",
       "      <td>5.2</td>\n",
       "      <td>8.3</td>\n",
       "      <td>7.2</td>\n",
       "      <td>9.7</td>\n",
       "      <td>2</td>\n",
       "      <td>A. Star Wars</td>\n",
       "      <td>-Slow\\n-Anxious\\n-Awkward\\n-Happy\\n-Diligent</td>\n",
       "    </tr>\n",
       "  </tbody>\n",
       "</table>\n",
       "</div>\n",
       "      <button class=\"colab-df-convert\" onclick=\"convertToInteractive('df-2246b4a7-277e-4567-ac86-e2255eec6222')\"\n",
       "              title=\"Convert this dataframe to an interactive table.\"\n",
       "              style=\"display:none;\">\n",
       "        \n",
       "  <svg xmlns=\"http://www.w3.org/2000/svg\" height=\"24px\"viewBox=\"0 0 24 24\"\n",
       "       width=\"24px\">\n",
       "    <path d=\"M0 0h24v24H0V0z\" fill=\"none\"/>\n",
       "    <path d=\"M18.56 5.44l.94 2.06.94-2.06 2.06-.94-2.06-.94-.94-2.06-.94 2.06-2.06.94zm-11 1L8.5 8.5l.94-2.06 2.06-.94-2.06-.94L8.5 2.5l-.94 2.06-2.06.94zm10 10l.94 2.06.94-2.06 2.06-.94-2.06-.94-.94-2.06-.94 2.06-2.06.94z\"/><path d=\"M17.41 7.96l-1.37-1.37c-.4-.4-.92-.59-1.43-.59-.52 0-1.04.2-1.43.59L10.3 9.45l-7.72 7.72c-.78.78-.78 2.05 0 2.83L4 21.41c.39.39.9.59 1.41.59.51 0 1.02-.2 1.41-.59l7.78-7.78 2.81-2.81c.8-.78.8-2.07 0-2.86zM5.41 20L4 18.59l7.72-7.72 1.47 1.35L5.41 20z\"/>\n",
       "  </svg>\n",
       "      </button>\n",
       "      \n",
       "  <style>\n",
       "    .colab-df-container {\n",
       "      display:flex;\n",
       "      flex-wrap:wrap;\n",
       "      gap: 12px;\n",
       "    }\n",
       "\n",
       "    .colab-df-convert {\n",
       "      background-color: #E8F0FE;\n",
       "      border: none;\n",
       "      border-radius: 50%;\n",
       "      cursor: pointer;\n",
       "      display: none;\n",
       "      fill: #1967D2;\n",
       "      height: 32px;\n",
       "      padding: 0 0 0 0;\n",
       "      width: 32px;\n",
       "    }\n",
       "\n",
       "    .colab-df-convert:hover {\n",
       "      background-color: #E2EBFA;\n",
       "      box-shadow: 0px 1px 2px rgba(60, 64, 67, 0.3), 0px 1px 3px 1px rgba(60, 64, 67, 0.15);\n",
       "      fill: #174EA6;\n",
       "    }\n",
       "\n",
       "    [theme=dark] .colab-df-convert {\n",
       "      background-color: #3B4455;\n",
       "      fill: #D2E3FC;\n",
       "    }\n",
       "\n",
       "    [theme=dark] .colab-df-convert:hover {\n",
       "      background-color: #434B5C;\n",
       "      box-shadow: 0px 1px 3px 1px rgba(0, 0, 0, 0.15);\n",
       "      filter: drop-shadow(0px 1px 2px rgba(0, 0, 0, 0.3));\n",
       "      fill: #FFFFFF;\n",
       "    }\n",
       "  </style>\n",
       "\n",
       "      <script>\n",
       "        const buttonEl =\n",
       "          document.querySelector('#df-2246b4a7-277e-4567-ac86-e2255eec6222 button.colab-df-convert');\n",
       "        buttonEl.style.display =\n",
       "          google.colab.kernel.accessAllowed ? 'block' : 'none';\n",
       "\n",
       "        async function convertToInteractive(key) {\n",
       "          const element = document.querySelector('#df-2246b4a7-277e-4567-ac86-e2255eec6222');\n",
       "          const dataTable =\n",
       "            await google.colab.kernel.invokeFunction('convertToInteractive',\n",
       "                                                     [key], {});\n",
       "          if (!dataTable) return;\n",
       "\n",
       "          const docLinkHtml = 'Like what you see? Visit the ' +\n",
       "            '<a target=\"_blank\" href=https://colab.research.google.com/notebooks/data_table.ipynb>data table notebook</a>'\n",
       "            + ' to learn more about interactive tables.';\n",
       "          element.innerHTML = '';\n",
       "          dataTable['output_type'] = 'display_data';\n",
       "          await google.colab.output.renderOutput(dataTable, element);\n",
       "          const docLink = document.createElement('div');\n",
       "          docLink.innerHTML = docLinkHtml;\n",
       "          element.appendChild(docLink);\n",
       "        }\n",
       "      </script>\n",
       "    </div>\n",
       "  </div>\n",
       "  "
      ],
      "text/plain": [
       "       Student Name  Action  Adventure  Comedy  Crime  Drama  Fantasy  \\\n",
       "0             Akbar     9.9        9.9     9.8    8.5    5.4      7.9   \n",
       "1               Ali     6.0        6.0     6.0    5.0    7.0      3.0   \n",
       "2             Anh T     8.9        7.5     5.1    9.4    6.6      7.2   \n",
       "3  Brandon Inoshita     8.9        9.1     5.6    6.1    1.2      9.3   \n",
       "\n",
       "   Science Fiction  Horror  Mystery  Romance  Thriller  Documentary  Animated  \\\n",
       "0              8.9     9.9      6.9     10.0       9.5          3.8       7.4   \n",
       "1             10.0     3.0      7.0      4.0       5.0          9.0       7.0   \n",
       "2              5.5     4.6      7.7      6.4       9.5          2.2       4.8   \n",
       "3              9.0     6.2      6.3      5.2       8.3          7.2       9.7   \n",
       "\n",
       "   Average in a Week              Preference  \\\n",
       "0                  3            D. Spiderman   \n",
       "1                  1  A. Star Wars\\nE. Mulan   \n",
       "2                  3            D. Spiderman   \n",
       "3                  2            A. Star Wars   \n",
       "\n",
       "                                   Describe Yourself  \n",
       "0           Sociable\\nFriendly\\nchatty\\nloyal\\nHappy  \n",
       "1  Motivated, Reliable, Intuitive, Independent, A...  \n",
       "2   - Quiet\\n- Introverted\\n- Happy\\n- Slow\\n- Funny  \n",
       "3       -Slow\\n-Anxious\\n-Awkward\\n-Happy\\n-Diligent  "
      ]
     },
     "execution_count": 11,
     "metadata": {},
     "output_type": "execute_result"
    }
   ],
   "source": [
    "test.head(4)"
   ]
  },
  {
   "cell_type": "code",
   "execution_count": 97,
   "metadata": {
    "colab": {
     "base_uri": "https://localhost:8080/"
    },
    "id": "YbGov9zw21Xx",
    "outputId": "68d13b9c-b7a4-4111-a111-61017c71ee24"
   },
   "outputs": [
    {
     "data": {
      "text/plain": [
       "B. 2) One movie a week                     18\n",
       "C. 3) Two movies a week                     6\n",
       "A. 1) zero movies. I don't watch movies     5\n",
       "E. 5) More than 4 movies a week             4\n",
       "D. 4) Three to four movies a week           3\n",
       "D. 4) Three to four movies a week\\n         1\n",
       "Name: On average, how many movies you watch on a single week, dtype: int64"
      ]
     },
     "execution_count": 97,
     "metadata": {},
     "output_type": "execute_result"
    }
   ],
   "source": [
    "data['On average, how many movies you watch on a single week'].value_counts()"
   ]
  },
  {
   "cell_type": "code",
   "execution_count": 98,
   "metadata": {
    "colab": {
     "base_uri": "https://localhost:8080/"
    },
    "id": "s_Y80UZP3Sz5",
    "outputId": "46851e93-259b-4bc0-f41e-359a6896d8b1"
   },
   "outputs": [
    {
     "data": {
      "text/plain": [
       "1    18\n",
       "2     6\n",
       "0     5\n",
       "5     4\n",
       "3     3\n",
       "4     1\n",
       "6     1\n",
       "Name: Average in a Week, dtype: int64"
      ]
     },
     "execution_count": 98,
     "metadata": {},
     "output_type": "execute_result"
    }
   ],
   "source": [
    "test['Average in a Week'].value_counts()"
   ]
  },
  {
   "cell_type": "markdown",
   "metadata": {
    "id": "nE0kv8to2dn_"
   },
   "source": [
    "The above code assigns a nuerical value to the chosen option. Like for One movie a week it has assigned the value \"1\" as well as for others too."
   ]
  },
  {
   "cell_type": "markdown",
   "metadata": {
    "id": "TaK8NXpunYoV"
   },
   "source": [
    "2.2.3) Splitting the prefrence column and then converting to numerical data"
   ]
  },
  {
   "cell_type": "markdown",
   "metadata": {
    "id": "yiOAlhvC4LK1"
   },
   "source": [
    "The column preference has many different movie options so we need to consider each and every prefrence of the student and then convert he categorical data to numerical data using Label Encoding"
   ]
  },
  {
   "cell_type": "code",
   "execution_count": 12,
   "metadata": {
    "id": "4xUpiif-mMPZ"
   },
   "outputs": [],
   "source": [
    "new = test[\"Preference\"].str.split(\"\\n\", n = 3, expand = True)\n",
    "test[\"Preference 1\"]= new[0]\n",
    "test[\"Preference 2\"]= new[1]\n",
    "test[\"Preference 3\"]= new[2]\n",
    "test[\"Preference 4\"]= new[3]"
   ]
  },
  {
   "cell_type": "code",
   "execution_count": 13,
   "metadata": {
    "colab": {
     "base_uri": "https://localhost:8080/",
     "height": 436
    },
    "id": "niFTtcL4m0LZ",
    "outputId": "5741546e-1e41-4f95-a303-813f6946a286"
   },
   "outputs": [
    {
     "data": {
      "text/html": [
       "\n",
       "  <div id=\"df-aca0ad9f-68fb-4143-91b2-dea7e2db4d97\">\n",
       "    <div class=\"colab-df-container\">\n",
       "      <div>\n",
       "<style scoped>\n",
       "    .dataframe tbody tr th:only-of-type {\n",
       "        vertical-align: middle;\n",
       "    }\n",
       "\n",
       "    .dataframe tbody tr th {\n",
       "        vertical-align: top;\n",
       "    }\n",
       "\n",
       "    .dataframe thead th {\n",
       "        text-align: right;\n",
       "    }\n",
       "</style>\n",
       "<table border=\"1\" class=\"dataframe\">\n",
       "  <thead>\n",
       "    <tr style=\"text-align: right;\">\n",
       "      <th></th>\n",
       "      <th>Student Name</th>\n",
       "      <th>Action</th>\n",
       "      <th>Adventure</th>\n",
       "      <th>Comedy</th>\n",
       "      <th>Crime</th>\n",
       "      <th>Drama</th>\n",
       "      <th>Fantasy</th>\n",
       "      <th>Science Fiction</th>\n",
       "      <th>Horror</th>\n",
       "      <th>Mystery</th>\n",
       "      <th>...</th>\n",
       "      <th>Thriller</th>\n",
       "      <th>Documentary</th>\n",
       "      <th>Animated</th>\n",
       "      <th>Average in a Week</th>\n",
       "      <th>Preference</th>\n",
       "      <th>Describe Yourself</th>\n",
       "      <th>Preference 1</th>\n",
       "      <th>Preference 2</th>\n",
       "      <th>Preference 3</th>\n",
       "      <th>Preference 4</th>\n",
       "    </tr>\n",
       "  </thead>\n",
       "  <tbody>\n",
       "    <tr>\n",
       "      <th>34</th>\n",
       "      <td>anusha reddy</td>\n",
       "      <td>5.5</td>\n",
       "      <td>6.0</td>\n",
       "      <td>8.5</td>\n",
       "      <td>9.9</td>\n",
       "      <td>9.0</td>\n",
       "      <td>10.0</td>\n",
       "      <td>8.5</td>\n",
       "      <td>10.0</td>\n",
       "      <td>9.5</td>\n",
       "      <td>...</td>\n",
       "      <td>9.1</td>\n",
       "      <td>5.1</td>\n",
       "      <td>7.5</td>\n",
       "      <td>1</td>\n",
       "      <td>D. Spiderman\\nG. Jurassic Park</td>\n",
       "      <td>Ambitious\\nSociable\\nNight Owl\\nFriendly\\nEasy...</td>\n",
       "      <td>D. Spiderman</td>\n",
       "      <td>G. Jurassic Park</td>\n",
       "      <td>None</td>\n",
       "      <td>None</td>\n",
       "    </tr>\n",
       "    <tr>\n",
       "      <th>35</th>\n",
       "      <td>eknath vamsi punna</td>\n",
       "      <td>10.0</td>\n",
       "      <td>10.0</td>\n",
       "      <td>7.0</td>\n",
       "      <td>10.0</td>\n",
       "      <td>1.0</td>\n",
       "      <td>1.0</td>\n",
       "      <td>10.0</td>\n",
       "      <td>5.0</td>\n",
       "      <td>10.0</td>\n",
       "      <td>...</td>\n",
       "      <td>10.0</td>\n",
       "      <td>0.1</td>\n",
       "      <td>0.2</td>\n",
       "      <td>5</td>\n",
       "      <td>D. Spiderman\\nG. Jurassic Park</td>\n",
       "      <td>-Punctual\\n-quick\\n-aggressive\\n-happy\\n-self-...</td>\n",
       "      <td>D. Spiderman</td>\n",
       "      <td>G. Jurassic Park</td>\n",
       "      <td>None</td>\n",
       "      <td>None</td>\n",
       "    </tr>\n",
       "    <tr>\n",
       "      <th>36</th>\n",
       "      <td>sai</td>\n",
       "      <td>8.5</td>\n",
       "      <td>9.0</td>\n",
       "      <td>10.0</td>\n",
       "      <td>10.0</td>\n",
       "      <td>6.0</td>\n",
       "      <td>8.9</td>\n",
       "      <td>9.0</td>\n",
       "      <td>2.0</td>\n",
       "      <td>7.8</td>\n",
       "      <td>...</td>\n",
       "      <td>7.5</td>\n",
       "      <td>6.0</td>\n",
       "      <td>10.0</td>\n",
       "      <td>1</td>\n",
       "      <td>C. Gladiator</td>\n",
       "      <td>calm\\ndedicated \\nambivert\\nreligious \\nthankful</td>\n",
       "      <td>C. Gladiator</td>\n",
       "      <td>None</td>\n",
       "      <td>None</td>\n",
       "      <td>None</td>\n",
       "    </tr>\n",
       "    <tr>\n",
       "      <th>37</th>\n",
       "      <td>vrushabhkumar shrimali</td>\n",
       "      <td>10.0</td>\n",
       "      <td>10.0</td>\n",
       "      <td>10.0</td>\n",
       "      <td>9.0</td>\n",
       "      <td>6.0</td>\n",
       "      <td>8.0</td>\n",
       "      <td>6.0</td>\n",
       "      <td>9.0</td>\n",
       "      <td>10.0</td>\n",
       "      <td>...</td>\n",
       "      <td>6.0</td>\n",
       "      <td>3.0</td>\n",
       "      <td>10.0</td>\n",
       "      <td>1</td>\n",
       "      <td>B. Shrek\\nD. Spiderman\\nE. Mulan\\nG. Jurassic ...</td>\n",
       "      <td>Friendly,\\nStrong,\\nGood,\\nSociable,\\nCapable</td>\n",
       "      <td>B. Shrek</td>\n",
       "      <td>D. Spiderman</td>\n",
       "      <td>E. Mulan</td>\n",
       "      <td>G. Jurassic Park</td>\n",
       "    </tr>\n",
       "  </tbody>\n",
       "</table>\n",
       "<p>4 rows × 21 columns</p>\n",
       "</div>\n",
       "      <button class=\"colab-df-convert\" onclick=\"convertToInteractive('df-aca0ad9f-68fb-4143-91b2-dea7e2db4d97')\"\n",
       "              title=\"Convert this dataframe to an interactive table.\"\n",
       "              style=\"display:none;\">\n",
       "        \n",
       "  <svg xmlns=\"http://www.w3.org/2000/svg\" height=\"24px\"viewBox=\"0 0 24 24\"\n",
       "       width=\"24px\">\n",
       "    <path d=\"M0 0h24v24H0V0z\" fill=\"none\"/>\n",
       "    <path d=\"M18.56 5.44l.94 2.06.94-2.06 2.06-.94-2.06-.94-.94-2.06-.94 2.06-2.06.94zm-11 1L8.5 8.5l.94-2.06 2.06-.94-2.06-.94L8.5 2.5l-.94 2.06-2.06.94zm10 10l.94 2.06.94-2.06 2.06-.94-2.06-.94-.94-2.06-.94 2.06-2.06.94z\"/><path d=\"M17.41 7.96l-1.37-1.37c-.4-.4-.92-.59-1.43-.59-.52 0-1.04.2-1.43.59L10.3 9.45l-7.72 7.72c-.78.78-.78 2.05 0 2.83L4 21.41c.39.39.9.59 1.41.59.51 0 1.02-.2 1.41-.59l7.78-7.78 2.81-2.81c.8-.78.8-2.07 0-2.86zM5.41 20L4 18.59l7.72-7.72 1.47 1.35L5.41 20z\"/>\n",
       "  </svg>\n",
       "      </button>\n",
       "      \n",
       "  <style>\n",
       "    .colab-df-container {\n",
       "      display:flex;\n",
       "      flex-wrap:wrap;\n",
       "      gap: 12px;\n",
       "    }\n",
       "\n",
       "    .colab-df-convert {\n",
       "      background-color: #E8F0FE;\n",
       "      border: none;\n",
       "      border-radius: 50%;\n",
       "      cursor: pointer;\n",
       "      display: none;\n",
       "      fill: #1967D2;\n",
       "      height: 32px;\n",
       "      padding: 0 0 0 0;\n",
       "      width: 32px;\n",
       "    }\n",
       "\n",
       "    .colab-df-convert:hover {\n",
       "      background-color: #E2EBFA;\n",
       "      box-shadow: 0px 1px 2px rgba(60, 64, 67, 0.3), 0px 1px 3px 1px rgba(60, 64, 67, 0.15);\n",
       "      fill: #174EA6;\n",
       "    }\n",
       "\n",
       "    [theme=dark] .colab-df-convert {\n",
       "      background-color: #3B4455;\n",
       "      fill: #D2E3FC;\n",
       "    }\n",
       "\n",
       "    [theme=dark] .colab-df-convert:hover {\n",
       "      background-color: #434B5C;\n",
       "      box-shadow: 0px 1px 3px 1px rgba(0, 0, 0, 0.15);\n",
       "      filter: drop-shadow(0px 1px 2px rgba(0, 0, 0, 0.3));\n",
       "      fill: #FFFFFF;\n",
       "    }\n",
       "  </style>\n",
       "\n",
       "      <script>\n",
       "        const buttonEl =\n",
       "          document.querySelector('#df-aca0ad9f-68fb-4143-91b2-dea7e2db4d97 button.colab-df-convert');\n",
       "        buttonEl.style.display =\n",
       "          google.colab.kernel.accessAllowed ? 'block' : 'none';\n",
       "\n",
       "        async function convertToInteractive(key) {\n",
       "          const element = document.querySelector('#df-aca0ad9f-68fb-4143-91b2-dea7e2db4d97');\n",
       "          const dataTable =\n",
       "            await google.colab.kernel.invokeFunction('convertToInteractive',\n",
       "                                                     [key], {});\n",
       "          if (!dataTable) return;\n",
       "\n",
       "          const docLinkHtml = 'Like what you see? Visit the ' +\n",
       "            '<a target=\"_blank\" href=https://colab.research.google.com/notebooks/data_table.ipynb>data table notebook</a>'\n",
       "            + ' to learn more about interactive tables.';\n",
       "          element.innerHTML = '';\n",
       "          dataTable['output_type'] = 'display_data';\n",
       "          await google.colab.output.renderOutput(dataTable, element);\n",
       "          const docLink = document.createElement('div');\n",
       "          docLink.innerHTML = docLinkHtml;\n",
       "          element.appendChild(docLink);\n",
       "        }\n",
       "      </script>\n",
       "    </div>\n",
       "  </div>\n",
       "  "
      ],
      "text/plain": [
       "              Student Name  Action  Adventure  Comedy  Crime  Drama  Fantasy  \\\n",
       "34            anusha reddy     5.5        6.0     8.5    9.9    9.0     10.0   \n",
       "35      eknath vamsi punna    10.0       10.0     7.0   10.0    1.0      1.0   \n",
       "36                     sai     8.5        9.0    10.0   10.0    6.0      8.9   \n",
       "37  vrushabhkumar shrimali    10.0       10.0    10.0    9.0    6.0      8.0   \n",
       "\n",
       "    Science Fiction  Horror  Mystery  ...  Thriller  Documentary  Animated  \\\n",
       "34              8.5    10.0      9.5  ...       9.1          5.1       7.5   \n",
       "35             10.0     5.0     10.0  ...      10.0          0.1       0.2   \n",
       "36              9.0     2.0      7.8  ...       7.5          6.0      10.0   \n",
       "37              6.0     9.0     10.0  ...       6.0          3.0      10.0   \n",
       "\n",
       "    Average in a Week                                         Preference  \\\n",
       "34                  1                     D. Spiderman\\nG. Jurassic Park   \n",
       "35                  5                     D. Spiderman\\nG. Jurassic Park   \n",
       "36                  1                                       C. Gladiator   \n",
       "37                  1  B. Shrek\\nD. Spiderman\\nE. Mulan\\nG. Jurassic ...   \n",
       "\n",
       "                                    Describe Yourself  Preference 1  \\\n",
       "34  Ambitious\\nSociable\\nNight Owl\\nFriendly\\nEasy...  D. Spiderman   \n",
       "35  -Punctual\\n-quick\\n-aggressive\\n-happy\\n-self-...  D. Spiderman   \n",
       "36   calm\\ndedicated \\nambivert\\nreligious \\nthankful  C. Gladiator   \n",
       "37      Friendly,\\nStrong,\\nGood,\\nSociable,\\nCapable      B. Shrek   \n",
       "\n",
       "        Preference 2 Preference 3      Preference 4  \n",
       "34  G. Jurassic Park         None              None  \n",
       "35  G. Jurassic Park         None              None  \n",
       "36              None         None              None  \n",
       "37      D. Spiderman     E. Mulan  G. Jurassic Park  \n",
       "\n",
       "[4 rows x 21 columns]"
      ]
     },
     "execution_count": 13,
     "metadata": {},
     "output_type": "execute_result"
    }
   ],
   "source": [
    "test.tail(4)"
   ]
  },
  {
   "cell_type": "code",
   "execution_count": 14,
   "metadata": {
    "id": "ztc9TVmfnnNx"
   },
   "outputs": [],
   "source": [
    "test[\"Preference 1\"] = le.fit_transform(test[\"Preference 1\"])\n",
    "test[\"Preference 2\"] = le.fit_transform(test[\"Preference 2\"])\n",
    "test[\"Preference 3\"] = le.fit_transform(test[\"Preference 3\"])\n",
    "test[\"Preference 4\"] = le.fit_transform(test[\"Preference 4\"])"
   ]
  },
  {
   "cell_type": "code",
   "execution_count": 15,
   "metadata": {
    "colab": {
     "base_uri": "https://localhost:8080/",
     "height": 436
    },
    "id": "LtogTVA0nzMm",
    "outputId": "41f6c43a-e462-42f1-b233-1c65bf553775"
   },
   "outputs": [
    {
     "data": {
      "text/html": [
       "\n",
       "  <div id=\"df-6f78c13f-f1c1-4bd5-8c3e-4ab1b6448116\">\n",
       "    <div class=\"colab-df-container\">\n",
       "      <div>\n",
       "<style scoped>\n",
       "    .dataframe tbody tr th:only-of-type {\n",
       "        vertical-align: middle;\n",
       "    }\n",
       "\n",
       "    .dataframe tbody tr th {\n",
       "        vertical-align: top;\n",
       "    }\n",
       "\n",
       "    .dataframe thead th {\n",
       "        text-align: right;\n",
       "    }\n",
       "</style>\n",
       "<table border=\"1\" class=\"dataframe\">\n",
       "  <thead>\n",
       "    <tr style=\"text-align: right;\">\n",
       "      <th></th>\n",
       "      <th>Student Name</th>\n",
       "      <th>Action</th>\n",
       "      <th>Adventure</th>\n",
       "      <th>Comedy</th>\n",
       "      <th>Crime</th>\n",
       "      <th>Drama</th>\n",
       "      <th>Fantasy</th>\n",
       "      <th>Science Fiction</th>\n",
       "      <th>Horror</th>\n",
       "      <th>Mystery</th>\n",
       "      <th>...</th>\n",
       "      <th>Thriller</th>\n",
       "      <th>Documentary</th>\n",
       "      <th>Animated</th>\n",
       "      <th>Average in a Week</th>\n",
       "      <th>Preference</th>\n",
       "      <th>Describe Yourself</th>\n",
       "      <th>Preference 1</th>\n",
       "      <th>Preference 2</th>\n",
       "      <th>Preference 3</th>\n",
       "      <th>Preference 4</th>\n",
       "    </tr>\n",
       "  </thead>\n",
       "  <tbody>\n",
       "    <tr>\n",
       "      <th>34</th>\n",
       "      <td>anusha reddy</td>\n",
       "      <td>5.5</td>\n",
       "      <td>6.0</td>\n",
       "      <td>8.5</td>\n",
       "      <td>9.9</td>\n",
       "      <td>9.0</td>\n",
       "      <td>10.0</td>\n",
       "      <td>8.5</td>\n",
       "      <td>10.0</td>\n",
       "      <td>9.5</td>\n",
       "      <td>...</td>\n",
       "      <td>9.1</td>\n",
       "      <td>5.1</td>\n",
       "      <td>7.5</td>\n",
       "      <td>1</td>\n",
       "      <td>D. Spiderman\\nG. Jurassic Park</td>\n",
       "      <td>Ambitious\\nSociable\\nNight Owl\\nFriendly\\nEasy...</td>\n",
       "      <td>3</td>\n",
       "      <td>3</td>\n",
       "      <td>3</td>\n",
       "      <td>1</td>\n",
       "    </tr>\n",
       "    <tr>\n",
       "      <th>35</th>\n",
       "      <td>eknath vamsi punna</td>\n",
       "      <td>10.0</td>\n",
       "      <td>10.0</td>\n",
       "      <td>7.0</td>\n",
       "      <td>10.0</td>\n",
       "      <td>1.0</td>\n",
       "      <td>1.0</td>\n",
       "      <td>10.0</td>\n",
       "      <td>5.0</td>\n",
       "      <td>10.0</td>\n",
       "      <td>...</td>\n",
       "      <td>10.0</td>\n",
       "      <td>0.1</td>\n",
       "      <td>0.2</td>\n",
       "      <td>5</td>\n",
       "      <td>D. Spiderman\\nG. Jurassic Park</td>\n",
       "      <td>-Punctual\\n-quick\\n-aggressive\\n-happy\\n-self-...</td>\n",
       "      <td>3</td>\n",
       "      <td>3</td>\n",
       "      <td>3</td>\n",
       "      <td>1</td>\n",
       "    </tr>\n",
       "    <tr>\n",
       "      <th>36</th>\n",
       "      <td>sai</td>\n",
       "      <td>8.5</td>\n",
       "      <td>9.0</td>\n",
       "      <td>10.0</td>\n",
       "      <td>10.0</td>\n",
       "      <td>6.0</td>\n",
       "      <td>8.9</td>\n",
       "      <td>9.0</td>\n",
       "      <td>2.0</td>\n",
       "      <td>7.8</td>\n",
       "      <td>...</td>\n",
       "      <td>7.5</td>\n",
       "      <td>6.0</td>\n",
       "      <td>10.0</td>\n",
       "      <td>1</td>\n",
       "      <td>C. Gladiator</td>\n",
       "      <td>calm\\ndedicated \\nambivert\\nreligious \\nthankful</td>\n",
       "      <td>2</td>\n",
       "      <td>4</td>\n",
       "      <td>3</td>\n",
       "      <td>1</td>\n",
       "    </tr>\n",
       "    <tr>\n",
       "      <th>37</th>\n",
       "      <td>vrushabhkumar shrimali</td>\n",
       "      <td>10.0</td>\n",
       "      <td>10.0</td>\n",
       "      <td>10.0</td>\n",
       "      <td>9.0</td>\n",
       "      <td>6.0</td>\n",
       "      <td>8.0</td>\n",
       "      <td>6.0</td>\n",
       "      <td>9.0</td>\n",
       "      <td>10.0</td>\n",
       "      <td>...</td>\n",
       "      <td>6.0</td>\n",
       "      <td>3.0</td>\n",
       "      <td>10.0</td>\n",
       "      <td>1</td>\n",
       "      <td>B. Shrek\\nD. Spiderman\\nE. Mulan\\nG. Jurassic ...</td>\n",
       "      <td>Friendly,\\nStrong,\\nGood,\\nSociable,\\nCapable</td>\n",
       "      <td>1</td>\n",
       "      <td>1</td>\n",
       "      <td>1</td>\n",
       "      <td>0</td>\n",
       "    </tr>\n",
       "  </tbody>\n",
       "</table>\n",
       "<p>4 rows × 21 columns</p>\n",
       "</div>\n",
       "      <button class=\"colab-df-convert\" onclick=\"convertToInteractive('df-6f78c13f-f1c1-4bd5-8c3e-4ab1b6448116')\"\n",
       "              title=\"Convert this dataframe to an interactive table.\"\n",
       "              style=\"display:none;\">\n",
       "        \n",
       "  <svg xmlns=\"http://www.w3.org/2000/svg\" height=\"24px\"viewBox=\"0 0 24 24\"\n",
       "       width=\"24px\">\n",
       "    <path d=\"M0 0h24v24H0V0z\" fill=\"none\"/>\n",
       "    <path d=\"M18.56 5.44l.94 2.06.94-2.06 2.06-.94-2.06-.94-.94-2.06-.94 2.06-2.06.94zm-11 1L8.5 8.5l.94-2.06 2.06-.94-2.06-.94L8.5 2.5l-.94 2.06-2.06.94zm10 10l.94 2.06.94-2.06 2.06-.94-2.06-.94-.94-2.06-.94 2.06-2.06.94z\"/><path d=\"M17.41 7.96l-1.37-1.37c-.4-.4-.92-.59-1.43-.59-.52 0-1.04.2-1.43.59L10.3 9.45l-7.72 7.72c-.78.78-.78 2.05 0 2.83L4 21.41c.39.39.9.59 1.41.59.51 0 1.02-.2 1.41-.59l7.78-7.78 2.81-2.81c.8-.78.8-2.07 0-2.86zM5.41 20L4 18.59l7.72-7.72 1.47 1.35L5.41 20z\"/>\n",
       "  </svg>\n",
       "      </button>\n",
       "      \n",
       "  <style>\n",
       "    .colab-df-container {\n",
       "      display:flex;\n",
       "      flex-wrap:wrap;\n",
       "      gap: 12px;\n",
       "    }\n",
       "\n",
       "    .colab-df-convert {\n",
       "      background-color: #E8F0FE;\n",
       "      border: none;\n",
       "      border-radius: 50%;\n",
       "      cursor: pointer;\n",
       "      display: none;\n",
       "      fill: #1967D2;\n",
       "      height: 32px;\n",
       "      padding: 0 0 0 0;\n",
       "      width: 32px;\n",
       "    }\n",
       "\n",
       "    .colab-df-convert:hover {\n",
       "      background-color: #E2EBFA;\n",
       "      box-shadow: 0px 1px 2px rgba(60, 64, 67, 0.3), 0px 1px 3px 1px rgba(60, 64, 67, 0.15);\n",
       "      fill: #174EA6;\n",
       "    }\n",
       "\n",
       "    [theme=dark] .colab-df-convert {\n",
       "      background-color: #3B4455;\n",
       "      fill: #D2E3FC;\n",
       "    }\n",
       "\n",
       "    [theme=dark] .colab-df-convert:hover {\n",
       "      background-color: #434B5C;\n",
       "      box-shadow: 0px 1px 3px 1px rgba(0, 0, 0, 0.15);\n",
       "      filter: drop-shadow(0px 1px 2px rgba(0, 0, 0, 0.3));\n",
       "      fill: #FFFFFF;\n",
       "    }\n",
       "  </style>\n",
       "\n",
       "      <script>\n",
       "        const buttonEl =\n",
       "          document.querySelector('#df-6f78c13f-f1c1-4bd5-8c3e-4ab1b6448116 button.colab-df-convert');\n",
       "        buttonEl.style.display =\n",
       "          google.colab.kernel.accessAllowed ? 'block' : 'none';\n",
       "\n",
       "        async function convertToInteractive(key) {\n",
       "          const element = document.querySelector('#df-6f78c13f-f1c1-4bd5-8c3e-4ab1b6448116');\n",
       "          const dataTable =\n",
       "            await google.colab.kernel.invokeFunction('convertToInteractive',\n",
       "                                                     [key], {});\n",
       "          if (!dataTable) return;\n",
       "\n",
       "          const docLinkHtml = 'Like what you see? Visit the ' +\n",
       "            '<a target=\"_blank\" href=https://colab.research.google.com/notebooks/data_table.ipynb>data table notebook</a>'\n",
       "            + ' to learn more about interactive tables.';\n",
       "          element.innerHTML = '';\n",
       "          dataTable['output_type'] = 'display_data';\n",
       "          await google.colab.output.renderOutput(dataTable, element);\n",
       "          const docLink = document.createElement('div');\n",
       "          docLink.innerHTML = docLinkHtml;\n",
       "          element.appendChild(docLink);\n",
       "        }\n",
       "      </script>\n",
       "    </div>\n",
       "  </div>\n",
       "  "
      ],
      "text/plain": [
       "              Student Name  Action  Adventure  Comedy  Crime  Drama  Fantasy  \\\n",
       "34            anusha reddy     5.5        6.0     8.5    9.9    9.0     10.0   \n",
       "35      eknath vamsi punna    10.0       10.0     7.0   10.0    1.0      1.0   \n",
       "36                     sai     8.5        9.0    10.0   10.0    6.0      8.9   \n",
       "37  vrushabhkumar shrimali    10.0       10.0    10.0    9.0    6.0      8.0   \n",
       "\n",
       "    Science Fiction  Horror  Mystery  ...  Thriller  Documentary  Animated  \\\n",
       "34              8.5    10.0      9.5  ...       9.1          5.1       7.5   \n",
       "35             10.0     5.0     10.0  ...      10.0          0.1       0.2   \n",
       "36              9.0     2.0      7.8  ...       7.5          6.0      10.0   \n",
       "37              6.0     9.0     10.0  ...       6.0          3.0      10.0   \n",
       "\n",
       "    Average in a Week                                         Preference  \\\n",
       "34                  1                     D. Spiderman\\nG. Jurassic Park   \n",
       "35                  5                     D. Spiderman\\nG. Jurassic Park   \n",
       "36                  1                                       C. Gladiator   \n",
       "37                  1  B. Shrek\\nD. Spiderman\\nE. Mulan\\nG. Jurassic ...   \n",
       "\n",
       "                                    Describe Yourself Preference 1  \\\n",
       "34  Ambitious\\nSociable\\nNight Owl\\nFriendly\\nEasy...            3   \n",
       "35  -Punctual\\n-quick\\n-aggressive\\n-happy\\n-self-...            3   \n",
       "36   calm\\ndedicated \\nambivert\\nreligious \\nthankful            2   \n",
       "37      Friendly,\\nStrong,\\nGood,\\nSociable,\\nCapable            1   \n",
       "\n",
       "    Preference 2  Preference 3  Preference 4  \n",
       "34             3             3             1  \n",
       "35             3             3             1  \n",
       "36             4             3             1  \n",
       "37             1             1             0  \n",
       "\n",
       "[4 rows x 21 columns]"
      ]
     },
     "execution_count": 15,
     "metadata": {},
     "output_type": "execute_result"
    }
   ],
   "source": [
    "test.tail(4)"
   ]
  },
  {
   "cell_type": "code",
   "execution_count": 16,
   "metadata": {
    "id": "5z9j29Qjom0w"
   },
   "outputs": [],
   "source": [
    "use = test.copy()"
   ]
  },
  {
   "cell_type": "code",
   "execution_count": 17,
   "metadata": {
    "id": "qzG-0nJyotkY"
   },
   "outputs": [],
   "source": [
    "use.drop(\"Preference\", inplace=True, axis=1)"
   ]
  },
  {
   "cell_type": "code",
   "execution_count": 18,
   "metadata": {
    "colab": {
     "base_uri": "https://localhost:8080/",
     "height": 322
    },
    "id": "Jx1sLlYyoxtj",
    "outputId": "200ced64-a9e0-40e5-9283-ae1c7e53ea8a"
   },
   "outputs": [
    {
     "data": {
      "text/html": [
       "\n",
       "  <div id=\"df-768f526b-61ba-457c-b60d-724f8065d074\">\n",
       "    <div class=\"colab-df-container\">\n",
       "      <div>\n",
       "<style scoped>\n",
       "    .dataframe tbody tr th:only-of-type {\n",
       "        vertical-align: middle;\n",
       "    }\n",
       "\n",
       "    .dataframe tbody tr th {\n",
       "        vertical-align: top;\n",
       "    }\n",
       "\n",
       "    .dataframe thead th {\n",
       "        text-align: right;\n",
       "    }\n",
       "</style>\n",
       "<table border=\"1\" class=\"dataframe\">\n",
       "  <thead>\n",
       "    <tr style=\"text-align: right;\">\n",
       "      <th></th>\n",
       "      <th>Student Name</th>\n",
       "      <th>Action</th>\n",
       "      <th>Adventure</th>\n",
       "      <th>Comedy</th>\n",
       "      <th>Crime</th>\n",
       "      <th>Drama</th>\n",
       "      <th>Fantasy</th>\n",
       "      <th>Science Fiction</th>\n",
       "      <th>Horror</th>\n",
       "      <th>Mystery</th>\n",
       "      <th>Romance</th>\n",
       "      <th>Thriller</th>\n",
       "      <th>Documentary</th>\n",
       "      <th>Animated</th>\n",
       "      <th>Average in a Week</th>\n",
       "      <th>Describe Yourself</th>\n",
       "      <th>Preference 1</th>\n",
       "      <th>Preference 2</th>\n",
       "      <th>Preference 3</th>\n",
       "      <th>Preference 4</th>\n",
       "    </tr>\n",
       "  </thead>\n",
       "  <tbody>\n",
       "    <tr>\n",
       "      <th>0</th>\n",
       "      <td>Akbar</td>\n",
       "      <td>9.9</td>\n",
       "      <td>9.9</td>\n",
       "      <td>9.8</td>\n",
       "      <td>8.5</td>\n",
       "      <td>5.4</td>\n",
       "      <td>7.9</td>\n",
       "      <td>8.9</td>\n",
       "      <td>9.9</td>\n",
       "      <td>6.9</td>\n",
       "      <td>10.0</td>\n",
       "      <td>9.5</td>\n",
       "      <td>3.8</td>\n",
       "      <td>7.4</td>\n",
       "      <td>3</td>\n",
       "      <td>Sociable\\nFriendly\\nchatty\\nloyal\\nHappy</td>\n",
       "      <td>3</td>\n",
       "      <td>4</td>\n",
       "      <td>3</td>\n",
       "      <td>1</td>\n",
       "    </tr>\n",
       "    <tr>\n",
       "      <th>1</th>\n",
       "      <td>Ali</td>\n",
       "      <td>6.0</td>\n",
       "      <td>6.0</td>\n",
       "      <td>6.0</td>\n",
       "      <td>5.0</td>\n",
       "      <td>7.0</td>\n",
       "      <td>3.0</td>\n",
       "      <td>10.0</td>\n",
       "      <td>3.0</td>\n",
       "      <td>7.0</td>\n",
       "      <td>4.0</td>\n",
       "      <td>5.0</td>\n",
       "      <td>9.0</td>\n",
       "      <td>7.0</td>\n",
       "      <td>1</td>\n",
       "      <td>Motivated, Reliable, Intuitive, Independent, A...</td>\n",
       "      <td>0</td>\n",
       "      <td>2</td>\n",
       "      <td>3</td>\n",
       "      <td>1</td>\n",
       "    </tr>\n",
       "    <tr>\n",
       "      <th>2</th>\n",
       "      <td>Anh T</td>\n",
       "      <td>8.9</td>\n",
       "      <td>7.5</td>\n",
       "      <td>5.1</td>\n",
       "      <td>9.4</td>\n",
       "      <td>6.6</td>\n",
       "      <td>7.2</td>\n",
       "      <td>5.5</td>\n",
       "      <td>4.6</td>\n",
       "      <td>7.7</td>\n",
       "      <td>6.4</td>\n",
       "      <td>9.5</td>\n",
       "      <td>2.2</td>\n",
       "      <td>4.8</td>\n",
       "      <td>3</td>\n",
       "      <td>- Quiet\\n- Introverted\\n- Happy\\n- Slow\\n- Funny</td>\n",
       "      <td>3</td>\n",
       "      <td>4</td>\n",
       "      <td>3</td>\n",
       "      <td>1</td>\n",
       "    </tr>\n",
       "    <tr>\n",
       "      <th>3</th>\n",
       "      <td>Brandon Inoshita</td>\n",
       "      <td>8.9</td>\n",
       "      <td>9.1</td>\n",
       "      <td>5.6</td>\n",
       "      <td>6.1</td>\n",
       "      <td>1.2</td>\n",
       "      <td>9.3</td>\n",
       "      <td>9.0</td>\n",
       "      <td>6.2</td>\n",
       "      <td>6.3</td>\n",
       "      <td>5.2</td>\n",
       "      <td>8.3</td>\n",
       "      <td>7.2</td>\n",
       "      <td>9.7</td>\n",
       "      <td>2</td>\n",
       "      <td>-Slow\\n-Anxious\\n-Awkward\\n-Happy\\n-Diligent</td>\n",
       "      <td>0</td>\n",
       "      <td>4</td>\n",
       "      <td>3</td>\n",
       "      <td>1</td>\n",
       "    </tr>\n",
       "  </tbody>\n",
       "</table>\n",
       "</div>\n",
       "      <button class=\"colab-df-convert\" onclick=\"convertToInteractive('df-768f526b-61ba-457c-b60d-724f8065d074')\"\n",
       "              title=\"Convert this dataframe to an interactive table.\"\n",
       "              style=\"display:none;\">\n",
       "        \n",
       "  <svg xmlns=\"http://www.w3.org/2000/svg\" height=\"24px\"viewBox=\"0 0 24 24\"\n",
       "       width=\"24px\">\n",
       "    <path d=\"M0 0h24v24H0V0z\" fill=\"none\"/>\n",
       "    <path d=\"M18.56 5.44l.94 2.06.94-2.06 2.06-.94-2.06-.94-.94-2.06-.94 2.06-2.06.94zm-11 1L8.5 8.5l.94-2.06 2.06-.94-2.06-.94L8.5 2.5l-.94 2.06-2.06.94zm10 10l.94 2.06.94-2.06 2.06-.94-2.06-.94-.94-2.06-.94 2.06-2.06.94z\"/><path d=\"M17.41 7.96l-1.37-1.37c-.4-.4-.92-.59-1.43-.59-.52 0-1.04.2-1.43.59L10.3 9.45l-7.72 7.72c-.78.78-.78 2.05 0 2.83L4 21.41c.39.39.9.59 1.41.59.51 0 1.02-.2 1.41-.59l7.78-7.78 2.81-2.81c.8-.78.8-2.07 0-2.86zM5.41 20L4 18.59l7.72-7.72 1.47 1.35L5.41 20z\"/>\n",
       "  </svg>\n",
       "      </button>\n",
       "      \n",
       "  <style>\n",
       "    .colab-df-container {\n",
       "      display:flex;\n",
       "      flex-wrap:wrap;\n",
       "      gap: 12px;\n",
       "    }\n",
       "\n",
       "    .colab-df-convert {\n",
       "      background-color: #E8F0FE;\n",
       "      border: none;\n",
       "      border-radius: 50%;\n",
       "      cursor: pointer;\n",
       "      display: none;\n",
       "      fill: #1967D2;\n",
       "      height: 32px;\n",
       "      padding: 0 0 0 0;\n",
       "      width: 32px;\n",
       "    }\n",
       "\n",
       "    .colab-df-convert:hover {\n",
       "      background-color: #E2EBFA;\n",
       "      box-shadow: 0px 1px 2px rgba(60, 64, 67, 0.3), 0px 1px 3px 1px rgba(60, 64, 67, 0.15);\n",
       "      fill: #174EA6;\n",
       "    }\n",
       "\n",
       "    [theme=dark] .colab-df-convert {\n",
       "      background-color: #3B4455;\n",
       "      fill: #D2E3FC;\n",
       "    }\n",
       "\n",
       "    [theme=dark] .colab-df-convert:hover {\n",
       "      background-color: #434B5C;\n",
       "      box-shadow: 0px 1px 3px 1px rgba(0, 0, 0, 0.15);\n",
       "      filter: drop-shadow(0px 1px 2px rgba(0, 0, 0, 0.3));\n",
       "      fill: #FFFFFF;\n",
       "    }\n",
       "  </style>\n",
       "\n",
       "      <script>\n",
       "        const buttonEl =\n",
       "          document.querySelector('#df-768f526b-61ba-457c-b60d-724f8065d074 button.colab-df-convert');\n",
       "        buttonEl.style.display =\n",
       "          google.colab.kernel.accessAllowed ? 'block' : 'none';\n",
       "\n",
       "        async function convertToInteractive(key) {\n",
       "          const element = document.querySelector('#df-768f526b-61ba-457c-b60d-724f8065d074');\n",
       "          const dataTable =\n",
       "            await google.colab.kernel.invokeFunction('convertToInteractive',\n",
       "                                                     [key], {});\n",
       "          if (!dataTable) return;\n",
       "\n",
       "          const docLinkHtml = 'Like what you see? Visit the ' +\n",
       "            '<a target=\"_blank\" href=https://colab.research.google.com/notebooks/data_table.ipynb>data table notebook</a>'\n",
       "            + ' to learn more about interactive tables.';\n",
       "          element.innerHTML = '';\n",
       "          dataTable['output_type'] = 'display_data';\n",
       "          await google.colab.output.renderOutput(dataTable, element);\n",
       "          const docLink = document.createElement('div');\n",
       "          docLink.innerHTML = docLinkHtml;\n",
       "          element.appendChild(docLink);\n",
       "        }\n",
       "      </script>\n",
       "    </div>\n",
       "  </div>\n",
       "  "
      ],
      "text/plain": [
       "       Student Name  Action  Adventure  Comedy  Crime  Drama  Fantasy  \\\n",
       "0             Akbar     9.9        9.9     9.8    8.5    5.4      7.9   \n",
       "1               Ali     6.0        6.0     6.0    5.0    7.0      3.0   \n",
       "2             Anh T     8.9        7.5     5.1    9.4    6.6      7.2   \n",
       "3  Brandon Inoshita     8.9        9.1     5.6    6.1    1.2      9.3   \n",
       "\n",
       "   Science Fiction  Horror  Mystery  Romance  Thriller  Documentary  Animated  \\\n",
       "0              8.9     9.9      6.9     10.0       9.5          3.8       7.4   \n",
       "1             10.0     3.0      7.0      4.0       5.0          9.0       7.0   \n",
       "2              5.5     4.6      7.7      6.4       9.5          2.2       4.8   \n",
       "3              9.0     6.2      6.3      5.2       8.3          7.2       9.7   \n",
       "\n",
       "   Average in a Week                                  Describe Yourself  \\\n",
       "0                  3           Sociable\\nFriendly\\nchatty\\nloyal\\nHappy   \n",
       "1                  1  Motivated, Reliable, Intuitive, Independent, A...   \n",
       "2                  3   - Quiet\\n- Introverted\\n- Happy\\n- Slow\\n- Funny   \n",
       "3                  2       -Slow\\n-Anxious\\n-Awkward\\n-Happy\\n-Diligent   \n",
       "\n",
       "   Preference 1  Preference 2  Preference 3  Preference 4  \n",
       "0             3             4             3             1  \n",
       "1             0             2             3             1  \n",
       "2             3             4             3             1  \n",
       "3             0             4             3             1  "
      ]
     },
     "execution_count": 18,
     "metadata": {},
     "output_type": "execute_result"
    }
   ],
   "source": [
    "use.head(4)"
   ]
  },
  {
   "cell_type": "code",
   "execution_count": 19,
   "metadata": {
    "colab": {
     "base_uri": "https://localhost:8080/"
    },
    "id": "0hJaKhBVrQDB",
    "outputId": "9c22a913-b626-4c2e-8739-9d16a3cc2581"
   },
   "outputs": [
    {
     "data": {
      "text/plain": [
       "(38, 20)"
      ]
     },
     "execution_count": 19,
     "metadata": {},
     "output_type": "execute_result"
    }
   ],
   "source": [
    "use.shape"
   ]
  },
  {
   "cell_type": "code",
   "execution_count": 20,
   "metadata": {
    "id": "XaTAG7MbqF8v"
   },
   "outputs": [],
   "source": [
    "Describe = use[\"Describe Yourself\"]\n",
    "use = use.drop(columns=[\"Describe Yourself\"])\n",
    "use.insert(loc=19, column=\"Describe Yourself\", value = Describe)"
   ]
  },
  {
   "cell_type": "code",
   "execution_count": 21,
   "metadata": {
    "colab": {
     "base_uri": "https://localhost:8080/",
     "height": 339
    },
    "id": "E86B2YanrVXb",
    "outputId": "13fff699-c276-49fb-9c4b-ea880d68bc10"
   },
   "outputs": [
    {
     "data": {
      "text/html": [
       "\n",
       "  <div id=\"df-a08239da-0ff5-41de-8d16-72af2d929fcd\">\n",
       "    <div class=\"colab-df-container\">\n",
       "      <div>\n",
       "<style scoped>\n",
       "    .dataframe tbody tr th:only-of-type {\n",
       "        vertical-align: middle;\n",
       "    }\n",
       "\n",
       "    .dataframe tbody tr th {\n",
       "        vertical-align: top;\n",
       "    }\n",
       "\n",
       "    .dataframe thead th {\n",
       "        text-align: right;\n",
       "    }\n",
       "</style>\n",
       "<table border=\"1\" class=\"dataframe\">\n",
       "  <thead>\n",
       "    <tr style=\"text-align: right;\">\n",
       "      <th></th>\n",
       "      <th>Student Name</th>\n",
       "      <th>Action</th>\n",
       "      <th>Adventure</th>\n",
       "      <th>Comedy</th>\n",
       "      <th>Crime</th>\n",
       "      <th>Drama</th>\n",
       "      <th>Fantasy</th>\n",
       "      <th>Science Fiction</th>\n",
       "      <th>Horror</th>\n",
       "      <th>Mystery</th>\n",
       "      <th>Romance</th>\n",
       "      <th>Thriller</th>\n",
       "      <th>Documentary</th>\n",
       "      <th>Animated</th>\n",
       "      <th>Average in a Week</th>\n",
       "      <th>Preference 1</th>\n",
       "      <th>Preference 2</th>\n",
       "      <th>Preference 3</th>\n",
       "      <th>Preference 4</th>\n",
       "      <th>Describe Yourself</th>\n",
       "    </tr>\n",
       "  </thead>\n",
       "  <tbody>\n",
       "    <tr>\n",
       "      <th>34</th>\n",
       "      <td>anusha reddy</td>\n",
       "      <td>5.5</td>\n",
       "      <td>6.0</td>\n",
       "      <td>8.5</td>\n",
       "      <td>9.9</td>\n",
       "      <td>9.0</td>\n",
       "      <td>10.0</td>\n",
       "      <td>8.5</td>\n",
       "      <td>10.0</td>\n",
       "      <td>9.5</td>\n",
       "      <td>8.5</td>\n",
       "      <td>9.1</td>\n",
       "      <td>5.1</td>\n",
       "      <td>7.5</td>\n",
       "      <td>1</td>\n",
       "      <td>3</td>\n",
       "      <td>3</td>\n",
       "      <td>3</td>\n",
       "      <td>1</td>\n",
       "      <td>Ambitious\\nSociable\\nNight Owl\\nFriendly\\nEasy...</td>\n",
       "    </tr>\n",
       "    <tr>\n",
       "      <th>35</th>\n",
       "      <td>eknath vamsi punna</td>\n",
       "      <td>10.0</td>\n",
       "      <td>10.0</td>\n",
       "      <td>7.0</td>\n",
       "      <td>10.0</td>\n",
       "      <td>1.0</td>\n",
       "      <td>1.0</td>\n",
       "      <td>10.0</td>\n",
       "      <td>5.0</td>\n",
       "      <td>10.0</td>\n",
       "      <td>0.1</td>\n",
       "      <td>10.0</td>\n",
       "      <td>0.1</td>\n",
       "      <td>0.2</td>\n",
       "      <td>5</td>\n",
       "      <td>3</td>\n",
       "      <td>3</td>\n",
       "      <td>3</td>\n",
       "      <td>1</td>\n",
       "      <td>-Punctual\\n-quick\\n-aggressive\\n-happy\\n-self-...</td>\n",
       "    </tr>\n",
       "    <tr>\n",
       "      <th>36</th>\n",
       "      <td>sai</td>\n",
       "      <td>8.5</td>\n",
       "      <td>9.0</td>\n",
       "      <td>10.0</td>\n",
       "      <td>10.0</td>\n",
       "      <td>6.0</td>\n",
       "      <td>8.9</td>\n",
       "      <td>9.0</td>\n",
       "      <td>2.0</td>\n",
       "      <td>7.8</td>\n",
       "      <td>8.0</td>\n",
       "      <td>7.5</td>\n",
       "      <td>6.0</td>\n",
       "      <td>10.0</td>\n",
       "      <td>1</td>\n",
       "      <td>2</td>\n",
       "      <td>4</td>\n",
       "      <td>3</td>\n",
       "      <td>1</td>\n",
       "      <td>calm\\ndedicated \\nambivert\\nreligious \\nthankful</td>\n",
       "    </tr>\n",
       "    <tr>\n",
       "      <th>37</th>\n",
       "      <td>vrushabhkumar shrimali</td>\n",
       "      <td>10.0</td>\n",
       "      <td>10.0</td>\n",
       "      <td>10.0</td>\n",
       "      <td>9.0</td>\n",
       "      <td>6.0</td>\n",
       "      <td>8.0</td>\n",
       "      <td>6.0</td>\n",
       "      <td>9.0</td>\n",
       "      <td>10.0</td>\n",
       "      <td>1.0</td>\n",
       "      <td>6.0</td>\n",
       "      <td>3.0</td>\n",
       "      <td>10.0</td>\n",
       "      <td>1</td>\n",
       "      <td>1</td>\n",
       "      <td>1</td>\n",
       "      <td>1</td>\n",
       "      <td>0</td>\n",
       "      <td>Friendly,\\nStrong,\\nGood,\\nSociable,\\nCapable</td>\n",
       "    </tr>\n",
       "  </tbody>\n",
       "</table>\n",
       "</div>\n",
       "      <button class=\"colab-df-convert\" onclick=\"convertToInteractive('df-a08239da-0ff5-41de-8d16-72af2d929fcd')\"\n",
       "              title=\"Convert this dataframe to an interactive table.\"\n",
       "              style=\"display:none;\">\n",
       "        \n",
       "  <svg xmlns=\"http://www.w3.org/2000/svg\" height=\"24px\"viewBox=\"0 0 24 24\"\n",
       "       width=\"24px\">\n",
       "    <path d=\"M0 0h24v24H0V0z\" fill=\"none\"/>\n",
       "    <path d=\"M18.56 5.44l.94 2.06.94-2.06 2.06-.94-2.06-.94-.94-2.06-.94 2.06-2.06.94zm-11 1L8.5 8.5l.94-2.06 2.06-.94-2.06-.94L8.5 2.5l-.94 2.06-2.06.94zm10 10l.94 2.06.94-2.06 2.06-.94-2.06-.94-.94-2.06-.94 2.06-2.06.94z\"/><path d=\"M17.41 7.96l-1.37-1.37c-.4-.4-.92-.59-1.43-.59-.52 0-1.04.2-1.43.59L10.3 9.45l-7.72 7.72c-.78.78-.78 2.05 0 2.83L4 21.41c.39.39.9.59 1.41.59.51 0 1.02-.2 1.41-.59l7.78-7.78 2.81-2.81c.8-.78.8-2.07 0-2.86zM5.41 20L4 18.59l7.72-7.72 1.47 1.35L5.41 20z\"/>\n",
       "  </svg>\n",
       "      </button>\n",
       "      \n",
       "  <style>\n",
       "    .colab-df-container {\n",
       "      display:flex;\n",
       "      flex-wrap:wrap;\n",
       "      gap: 12px;\n",
       "    }\n",
       "\n",
       "    .colab-df-convert {\n",
       "      background-color: #E8F0FE;\n",
       "      border: none;\n",
       "      border-radius: 50%;\n",
       "      cursor: pointer;\n",
       "      display: none;\n",
       "      fill: #1967D2;\n",
       "      height: 32px;\n",
       "      padding: 0 0 0 0;\n",
       "      width: 32px;\n",
       "    }\n",
       "\n",
       "    .colab-df-convert:hover {\n",
       "      background-color: #E2EBFA;\n",
       "      box-shadow: 0px 1px 2px rgba(60, 64, 67, 0.3), 0px 1px 3px 1px rgba(60, 64, 67, 0.15);\n",
       "      fill: #174EA6;\n",
       "    }\n",
       "\n",
       "    [theme=dark] .colab-df-convert {\n",
       "      background-color: #3B4455;\n",
       "      fill: #D2E3FC;\n",
       "    }\n",
       "\n",
       "    [theme=dark] .colab-df-convert:hover {\n",
       "      background-color: #434B5C;\n",
       "      box-shadow: 0px 1px 3px 1px rgba(0, 0, 0, 0.15);\n",
       "      filter: drop-shadow(0px 1px 2px rgba(0, 0, 0, 0.3));\n",
       "      fill: #FFFFFF;\n",
       "    }\n",
       "  </style>\n",
       "\n",
       "      <script>\n",
       "        const buttonEl =\n",
       "          document.querySelector('#df-a08239da-0ff5-41de-8d16-72af2d929fcd button.colab-df-convert');\n",
       "        buttonEl.style.display =\n",
       "          google.colab.kernel.accessAllowed ? 'block' : 'none';\n",
       "\n",
       "        async function convertToInteractive(key) {\n",
       "          const element = document.querySelector('#df-a08239da-0ff5-41de-8d16-72af2d929fcd');\n",
       "          const dataTable =\n",
       "            await google.colab.kernel.invokeFunction('convertToInteractive',\n",
       "                                                     [key], {});\n",
       "          if (!dataTable) return;\n",
       "\n",
       "          const docLinkHtml = 'Like what you see? Visit the ' +\n",
       "            '<a target=\"_blank\" href=https://colab.research.google.com/notebooks/data_table.ipynb>data table notebook</a>'\n",
       "            + ' to learn more about interactive tables.';\n",
       "          element.innerHTML = '';\n",
       "          dataTable['output_type'] = 'display_data';\n",
       "          await google.colab.output.renderOutput(dataTable, element);\n",
       "          const docLink = document.createElement('div');\n",
       "          docLink.innerHTML = docLinkHtml;\n",
       "          element.appendChild(docLink);\n",
       "        }\n",
       "      </script>\n",
       "    </div>\n",
       "  </div>\n",
       "  "
      ],
      "text/plain": [
       "              Student Name  Action  Adventure  Comedy  Crime  Drama  Fantasy  \\\n",
       "34            anusha reddy     5.5        6.0     8.5    9.9    9.0     10.0   \n",
       "35      eknath vamsi punna    10.0       10.0     7.0   10.0    1.0      1.0   \n",
       "36                     sai     8.5        9.0    10.0   10.0    6.0      8.9   \n",
       "37  vrushabhkumar shrimali    10.0       10.0    10.0    9.0    6.0      8.0   \n",
       "\n",
       "    Science Fiction  Horror  Mystery  Romance  Thriller  Documentary  \\\n",
       "34              8.5    10.0      9.5      8.5       9.1          5.1   \n",
       "35             10.0     5.0     10.0      0.1      10.0          0.1   \n",
       "36              9.0     2.0      7.8      8.0       7.5          6.0   \n",
       "37              6.0     9.0     10.0      1.0       6.0          3.0   \n",
       "\n",
       "    Animated  Average in a Week  Preference 1  Preference 2  Preference 3  \\\n",
       "34       7.5                  1             3             3             3   \n",
       "35       0.2                  5             3             3             3   \n",
       "36      10.0                  1             2             4             3   \n",
       "37      10.0                  1             1             1             1   \n",
       "\n",
       "    Preference 4                                  Describe Yourself  \n",
       "34             1  Ambitious\\nSociable\\nNight Owl\\nFriendly\\nEasy...  \n",
       "35             1  -Punctual\\n-quick\\n-aggressive\\n-happy\\n-self-...  \n",
       "36             1   calm\\ndedicated \\nambivert\\nreligious \\nthankful  \n",
       "37             0      Friendly,\\nStrong,\\nGood,\\nSociable,\\nCapable  "
      ]
     },
     "execution_count": 21,
     "metadata": {},
     "output_type": "execute_result"
    }
   ],
   "source": [
    "use.tail(4)"
   ]
  },
  {
   "cell_type": "markdown",
   "metadata": {
    "id": "ORI7TtMr4w9o"
   },
   "source": [
    "2.2.4) Using the copy dataset for our analysis."
   ]
  },
  {
   "cell_type": "code",
   "execution_count": 22,
   "metadata": {
    "id": "EpyQPeemsRWv"
   },
   "outputs": [],
   "source": [
    "final = use.copy()"
   ]
  },
  {
   "cell_type": "code",
   "execution_count": 23,
   "metadata": {
    "id": "GxjD9Wi8sMez"
   },
   "outputs": [],
   "source": [
    "final = final.drop(columns=[\"Describe Yourself\"])"
   ]
  },
  {
   "cell_type": "code",
   "execution_count": 24,
   "metadata": {
    "colab": {
     "base_uri": "https://localhost:8080/",
     "height": 305
    },
    "id": "c5uLc6ZYsUTS",
    "outputId": "47aa3fe5-3e73-466e-96f3-183d20cd8760"
   },
   "outputs": [
    {
     "data": {
      "text/html": [
       "\n",
       "  <div id=\"df-0a7faaf0-c93b-4b73-9ff5-7123a7804178\">\n",
       "    <div class=\"colab-df-container\">\n",
       "      <div>\n",
       "<style scoped>\n",
       "    .dataframe tbody tr th:only-of-type {\n",
       "        vertical-align: middle;\n",
       "    }\n",
       "\n",
       "    .dataframe tbody tr th {\n",
       "        vertical-align: top;\n",
       "    }\n",
       "\n",
       "    .dataframe thead th {\n",
       "        text-align: right;\n",
       "    }\n",
       "</style>\n",
       "<table border=\"1\" class=\"dataframe\">\n",
       "  <thead>\n",
       "    <tr style=\"text-align: right;\">\n",
       "      <th></th>\n",
       "      <th>Student Name</th>\n",
       "      <th>Action</th>\n",
       "      <th>Adventure</th>\n",
       "      <th>Comedy</th>\n",
       "      <th>Crime</th>\n",
       "      <th>Drama</th>\n",
       "      <th>Fantasy</th>\n",
       "      <th>Science Fiction</th>\n",
       "      <th>Horror</th>\n",
       "      <th>Mystery</th>\n",
       "      <th>Romance</th>\n",
       "      <th>Thriller</th>\n",
       "      <th>Documentary</th>\n",
       "      <th>Animated</th>\n",
       "      <th>Average in a Week</th>\n",
       "      <th>Preference 1</th>\n",
       "      <th>Preference 2</th>\n",
       "      <th>Preference 3</th>\n",
       "      <th>Preference 4</th>\n",
       "    </tr>\n",
       "  </thead>\n",
       "  <tbody>\n",
       "    <tr>\n",
       "      <th>34</th>\n",
       "      <td>anusha reddy</td>\n",
       "      <td>5.5</td>\n",
       "      <td>6.0</td>\n",
       "      <td>8.5</td>\n",
       "      <td>9.9</td>\n",
       "      <td>9.0</td>\n",
       "      <td>10.0</td>\n",
       "      <td>8.5</td>\n",
       "      <td>10.0</td>\n",
       "      <td>9.5</td>\n",
       "      <td>8.5</td>\n",
       "      <td>9.1</td>\n",
       "      <td>5.1</td>\n",
       "      <td>7.5</td>\n",
       "      <td>1</td>\n",
       "      <td>3</td>\n",
       "      <td>3</td>\n",
       "      <td>3</td>\n",
       "      <td>1</td>\n",
       "    </tr>\n",
       "    <tr>\n",
       "      <th>35</th>\n",
       "      <td>eknath vamsi punna</td>\n",
       "      <td>10.0</td>\n",
       "      <td>10.0</td>\n",
       "      <td>7.0</td>\n",
       "      <td>10.0</td>\n",
       "      <td>1.0</td>\n",
       "      <td>1.0</td>\n",
       "      <td>10.0</td>\n",
       "      <td>5.0</td>\n",
       "      <td>10.0</td>\n",
       "      <td>0.1</td>\n",
       "      <td>10.0</td>\n",
       "      <td>0.1</td>\n",
       "      <td>0.2</td>\n",
       "      <td>5</td>\n",
       "      <td>3</td>\n",
       "      <td>3</td>\n",
       "      <td>3</td>\n",
       "      <td>1</td>\n",
       "    </tr>\n",
       "    <tr>\n",
       "      <th>36</th>\n",
       "      <td>sai</td>\n",
       "      <td>8.5</td>\n",
       "      <td>9.0</td>\n",
       "      <td>10.0</td>\n",
       "      <td>10.0</td>\n",
       "      <td>6.0</td>\n",
       "      <td>8.9</td>\n",
       "      <td>9.0</td>\n",
       "      <td>2.0</td>\n",
       "      <td>7.8</td>\n",
       "      <td>8.0</td>\n",
       "      <td>7.5</td>\n",
       "      <td>6.0</td>\n",
       "      <td>10.0</td>\n",
       "      <td>1</td>\n",
       "      <td>2</td>\n",
       "      <td>4</td>\n",
       "      <td>3</td>\n",
       "      <td>1</td>\n",
       "    </tr>\n",
       "    <tr>\n",
       "      <th>37</th>\n",
       "      <td>vrushabhkumar shrimali</td>\n",
       "      <td>10.0</td>\n",
       "      <td>10.0</td>\n",
       "      <td>10.0</td>\n",
       "      <td>9.0</td>\n",
       "      <td>6.0</td>\n",
       "      <td>8.0</td>\n",
       "      <td>6.0</td>\n",
       "      <td>9.0</td>\n",
       "      <td>10.0</td>\n",
       "      <td>1.0</td>\n",
       "      <td>6.0</td>\n",
       "      <td>3.0</td>\n",
       "      <td>10.0</td>\n",
       "      <td>1</td>\n",
       "      <td>1</td>\n",
       "      <td>1</td>\n",
       "      <td>1</td>\n",
       "      <td>0</td>\n",
       "    </tr>\n",
       "  </tbody>\n",
       "</table>\n",
       "</div>\n",
       "      <button class=\"colab-df-convert\" onclick=\"convertToInteractive('df-0a7faaf0-c93b-4b73-9ff5-7123a7804178')\"\n",
       "              title=\"Convert this dataframe to an interactive table.\"\n",
       "              style=\"display:none;\">\n",
       "        \n",
       "  <svg xmlns=\"http://www.w3.org/2000/svg\" height=\"24px\"viewBox=\"0 0 24 24\"\n",
       "       width=\"24px\">\n",
       "    <path d=\"M0 0h24v24H0V0z\" fill=\"none\"/>\n",
       "    <path d=\"M18.56 5.44l.94 2.06.94-2.06 2.06-.94-2.06-.94-.94-2.06-.94 2.06-2.06.94zm-11 1L8.5 8.5l.94-2.06 2.06-.94-2.06-.94L8.5 2.5l-.94 2.06-2.06.94zm10 10l.94 2.06.94-2.06 2.06-.94-2.06-.94-.94-2.06-.94 2.06-2.06.94z\"/><path d=\"M17.41 7.96l-1.37-1.37c-.4-.4-.92-.59-1.43-.59-.52 0-1.04.2-1.43.59L10.3 9.45l-7.72 7.72c-.78.78-.78 2.05 0 2.83L4 21.41c.39.39.9.59 1.41.59.51 0 1.02-.2 1.41-.59l7.78-7.78 2.81-2.81c.8-.78.8-2.07 0-2.86zM5.41 20L4 18.59l7.72-7.72 1.47 1.35L5.41 20z\"/>\n",
       "  </svg>\n",
       "      </button>\n",
       "      \n",
       "  <style>\n",
       "    .colab-df-container {\n",
       "      display:flex;\n",
       "      flex-wrap:wrap;\n",
       "      gap: 12px;\n",
       "    }\n",
       "\n",
       "    .colab-df-convert {\n",
       "      background-color: #E8F0FE;\n",
       "      border: none;\n",
       "      border-radius: 50%;\n",
       "      cursor: pointer;\n",
       "      display: none;\n",
       "      fill: #1967D2;\n",
       "      height: 32px;\n",
       "      padding: 0 0 0 0;\n",
       "      width: 32px;\n",
       "    }\n",
       "\n",
       "    .colab-df-convert:hover {\n",
       "      background-color: #E2EBFA;\n",
       "      box-shadow: 0px 1px 2px rgba(60, 64, 67, 0.3), 0px 1px 3px 1px rgba(60, 64, 67, 0.15);\n",
       "      fill: #174EA6;\n",
       "    }\n",
       "\n",
       "    [theme=dark] .colab-df-convert {\n",
       "      background-color: #3B4455;\n",
       "      fill: #D2E3FC;\n",
       "    }\n",
       "\n",
       "    [theme=dark] .colab-df-convert:hover {\n",
       "      background-color: #434B5C;\n",
       "      box-shadow: 0px 1px 3px 1px rgba(0, 0, 0, 0.15);\n",
       "      filter: drop-shadow(0px 1px 2px rgba(0, 0, 0, 0.3));\n",
       "      fill: #FFFFFF;\n",
       "    }\n",
       "  </style>\n",
       "\n",
       "      <script>\n",
       "        const buttonEl =\n",
       "          document.querySelector('#df-0a7faaf0-c93b-4b73-9ff5-7123a7804178 button.colab-df-convert');\n",
       "        buttonEl.style.display =\n",
       "          google.colab.kernel.accessAllowed ? 'block' : 'none';\n",
       "\n",
       "        async function convertToInteractive(key) {\n",
       "          const element = document.querySelector('#df-0a7faaf0-c93b-4b73-9ff5-7123a7804178');\n",
       "          const dataTable =\n",
       "            await google.colab.kernel.invokeFunction('convertToInteractive',\n",
       "                                                     [key], {});\n",
       "          if (!dataTable) return;\n",
       "\n",
       "          const docLinkHtml = 'Like what you see? Visit the ' +\n",
       "            '<a target=\"_blank\" href=https://colab.research.google.com/notebooks/data_table.ipynb>data table notebook</a>'\n",
       "            + ' to learn more about interactive tables.';\n",
       "          element.innerHTML = '';\n",
       "          dataTable['output_type'] = 'display_data';\n",
       "          await google.colab.output.renderOutput(dataTable, element);\n",
       "          const docLink = document.createElement('div');\n",
       "          docLink.innerHTML = docLinkHtml;\n",
       "          element.appendChild(docLink);\n",
       "        }\n",
       "      </script>\n",
       "    </div>\n",
       "  </div>\n",
       "  "
      ],
      "text/plain": [
       "              Student Name  Action  Adventure  Comedy  Crime  Drama  Fantasy  \\\n",
       "34            anusha reddy     5.5        6.0     8.5    9.9    9.0     10.0   \n",
       "35      eknath vamsi punna    10.0       10.0     7.0   10.0    1.0      1.0   \n",
       "36                     sai     8.5        9.0    10.0   10.0    6.0      8.9   \n",
       "37  vrushabhkumar shrimali    10.0       10.0    10.0    9.0    6.0      8.0   \n",
       "\n",
       "    Science Fiction  Horror  Mystery  Romance  Thriller  Documentary  \\\n",
       "34              8.5    10.0      9.5      8.5       9.1          5.1   \n",
       "35             10.0     5.0     10.0      0.1      10.0          0.1   \n",
       "36              9.0     2.0      7.8      8.0       7.5          6.0   \n",
       "37              6.0     9.0     10.0      1.0       6.0          3.0   \n",
       "\n",
       "    Animated  Average in a Week  Preference 1  Preference 2  Preference 3  \\\n",
       "34       7.5                  1             3             3             3   \n",
       "35       0.2                  5             3             3             3   \n",
       "36      10.0                  1             2             4             3   \n",
       "37      10.0                  1             1             1             1   \n",
       "\n",
       "    Preference 4  \n",
       "34             1  \n",
       "35             1  \n",
       "36             1  \n",
       "37             0  "
      ]
     },
     "execution_count": 24,
     "metadata": {},
     "output_type": "execute_result"
    }
   ],
   "source": [
    "final.tail(4)"
   ]
  },
  {
   "cell_type": "markdown",
   "metadata": {
    "id": "i-E-0bJJ46C3"
   },
   "source": [
    "Here we have dropped the column \"Describe yourself\" since it contains too much categorical data. And we have set our rown names to the names of the students from our cohort"
   ]
  },
  {
   "cell_type": "code",
   "execution_count": 25,
   "metadata": {
    "id": "20Di-M7Dstcq"
   },
   "outputs": [],
   "source": [
    "final = final.set_index(\"Student Name\")"
   ]
  },
  {
   "cell_type": "code",
   "execution_count": 26,
   "metadata": {
    "colab": {
     "base_uri": "https://localhost:8080/",
     "height": 336
    },
    "id": "OggAX2P9tRQL",
    "outputId": "949a2e00-a58a-48e2-cbfb-2f59fddceb84"
   },
   "outputs": [
    {
     "data": {
      "text/html": [
       "\n",
       "  <div id=\"df-b0392d2e-3b34-453d-9b76-9023ccc25dbc\">\n",
       "    <div class=\"colab-df-container\">\n",
       "      <div>\n",
       "<style scoped>\n",
       "    .dataframe tbody tr th:only-of-type {\n",
       "        vertical-align: middle;\n",
       "    }\n",
       "\n",
       "    .dataframe tbody tr th {\n",
       "        vertical-align: top;\n",
       "    }\n",
       "\n",
       "    .dataframe thead th {\n",
       "        text-align: right;\n",
       "    }\n",
       "</style>\n",
       "<table border=\"1\" class=\"dataframe\">\n",
       "  <thead>\n",
       "    <tr style=\"text-align: right;\">\n",
       "      <th></th>\n",
       "      <th>Action</th>\n",
       "      <th>Adventure</th>\n",
       "      <th>Comedy</th>\n",
       "      <th>Crime</th>\n",
       "      <th>Drama</th>\n",
       "      <th>Fantasy</th>\n",
       "      <th>Science Fiction</th>\n",
       "      <th>Horror</th>\n",
       "      <th>Mystery</th>\n",
       "      <th>Romance</th>\n",
       "      <th>Thriller</th>\n",
       "      <th>Documentary</th>\n",
       "      <th>Animated</th>\n",
       "      <th>Average in a Week</th>\n",
       "      <th>Preference 1</th>\n",
       "      <th>Preference 2</th>\n",
       "      <th>Preference 3</th>\n",
       "      <th>Preference 4</th>\n",
       "    </tr>\n",
       "    <tr>\n",
       "      <th>Student Name</th>\n",
       "      <th></th>\n",
       "      <th></th>\n",
       "      <th></th>\n",
       "      <th></th>\n",
       "      <th></th>\n",
       "      <th></th>\n",
       "      <th></th>\n",
       "      <th></th>\n",
       "      <th></th>\n",
       "      <th></th>\n",
       "      <th></th>\n",
       "      <th></th>\n",
       "      <th></th>\n",
       "      <th></th>\n",
       "      <th></th>\n",
       "      <th></th>\n",
       "      <th></th>\n",
       "      <th></th>\n",
       "    </tr>\n",
       "  </thead>\n",
       "  <tbody>\n",
       "    <tr>\n",
       "      <th>anusha reddy</th>\n",
       "      <td>5.5</td>\n",
       "      <td>6.0</td>\n",
       "      <td>8.5</td>\n",
       "      <td>9.9</td>\n",
       "      <td>9.0</td>\n",
       "      <td>10.0</td>\n",
       "      <td>8.5</td>\n",
       "      <td>10.0</td>\n",
       "      <td>9.5</td>\n",
       "      <td>8.5</td>\n",
       "      <td>9.1</td>\n",
       "      <td>5.1</td>\n",
       "      <td>7.5</td>\n",
       "      <td>1</td>\n",
       "      <td>3</td>\n",
       "      <td>3</td>\n",
       "      <td>3</td>\n",
       "      <td>1</td>\n",
       "    </tr>\n",
       "    <tr>\n",
       "      <th>eknath vamsi punna</th>\n",
       "      <td>10.0</td>\n",
       "      <td>10.0</td>\n",
       "      <td>7.0</td>\n",
       "      <td>10.0</td>\n",
       "      <td>1.0</td>\n",
       "      <td>1.0</td>\n",
       "      <td>10.0</td>\n",
       "      <td>5.0</td>\n",
       "      <td>10.0</td>\n",
       "      <td>0.1</td>\n",
       "      <td>10.0</td>\n",
       "      <td>0.1</td>\n",
       "      <td>0.2</td>\n",
       "      <td>5</td>\n",
       "      <td>3</td>\n",
       "      <td>3</td>\n",
       "      <td>3</td>\n",
       "      <td>1</td>\n",
       "    </tr>\n",
       "    <tr>\n",
       "      <th>sai</th>\n",
       "      <td>8.5</td>\n",
       "      <td>9.0</td>\n",
       "      <td>10.0</td>\n",
       "      <td>10.0</td>\n",
       "      <td>6.0</td>\n",
       "      <td>8.9</td>\n",
       "      <td>9.0</td>\n",
       "      <td>2.0</td>\n",
       "      <td>7.8</td>\n",
       "      <td>8.0</td>\n",
       "      <td>7.5</td>\n",
       "      <td>6.0</td>\n",
       "      <td>10.0</td>\n",
       "      <td>1</td>\n",
       "      <td>2</td>\n",
       "      <td>4</td>\n",
       "      <td>3</td>\n",
       "      <td>1</td>\n",
       "    </tr>\n",
       "    <tr>\n",
       "      <th>vrushabhkumar shrimali</th>\n",
       "      <td>10.0</td>\n",
       "      <td>10.0</td>\n",
       "      <td>10.0</td>\n",
       "      <td>9.0</td>\n",
       "      <td>6.0</td>\n",
       "      <td>8.0</td>\n",
       "      <td>6.0</td>\n",
       "      <td>9.0</td>\n",
       "      <td>10.0</td>\n",
       "      <td>1.0</td>\n",
       "      <td>6.0</td>\n",
       "      <td>3.0</td>\n",
       "      <td>10.0</td>\n",
       "      <td>1</td>\n",
       "      <td>1</td>\n",
       "      <td>1</td>\n",
       "      <td>1</td>\n",
       "      <td>0</td>\n",
       "    </tr>\n",
       "  </tbody>\n",
       "</table>\n",
       "</div>\n",
       "      <button class=\"colab-df-convert\" onclick=\"convertToInteractive('df-b0392d2e-3b34-453d-9b76-9023ccc25dbc')\"\n",
       "              title=\"Convert this dataframe to an interactive table.\"\n",
       "              style=\"display:none;\">\n",
       "        \n",
       "  <svg xmlns=\"http://www.w3.org/2000/svg\" height=\"24px\"viewBox=\"0 0 24 24\"\n",
       "       width=\"24px\">\n",
       "    <path d=\"M0 0h24v24H0V0z\" fill=\"none\"/>\n",
       "    <path d=\"M18.56 5.44l.94 2.06.94-2.06 2.06-.94-2.06-.94-.94-2.06-.94 2.06-2.06.94zm-11 1L8.5 8.5l.94-2.06 2.06-.94-2.06-.94L8.5 2.5l-.94 2.06-2.06.94zm10 10l.94 2.06.94-2.06 2.06-.94-2.06-.94-.94-2.06-.94 2.06-2.06.94z\"/><path d=\"M17.41 7.96l-1.37-1.37c-.4-.4-.92-.59-1.43-.59-.52 0-1.04.2-1.43.59L10.3 9.45l-7.72 7.72c-.78.78-.78 2.05 0 2.83L4 21.41c.39.39.9.59 1.41.59.51 0 1.02-.2 1.41-.59l7.78-7.78 2.81-2.81c.8-.78.8-2.07 0-2.86zM5.41 20L4 18.59l7.72-7.72 1.47 1.35L5.41 20z\"/>\n",
       "  </svg>\n",
       "      </button>\n",
       "      \n",
       "  <style>\n",
       "    .colab-df-container {\n",
       "      display:flex;\n",
       "      flex-wrap:wrap;\n",
       "      gap: 12px;\n",
       "    }\n",
       "\n",
       "    .colab-df-convert {\n",
       "      background-color: #E8F0FE;\n",
       "      border: none;\n",
       "      border-radius: 50%;\n",
       "      cursor: pointer;\n",
       "      display: none;\n",
       "      fill: #1967D2;\n",
       "      height: 32px;\n",
       "      padding: 0 0 0 0;\n",
       "      width: 32px;\n",
       "    }\n",
       "\n",
       "    .colab-df-convert:hover {\n",
       "      background-color: #E2EBFA;\n",
       "      box-shadow: 0px 1px 2px rgba(60, 64, 67, 0.3), 0px 1px 3px 1px rgba(60, 64, 67, 0.15);\n",
       "      fill: #174EA6;\n",
       "    }\n",
       "\n",
       "    [theme=dark] .colab-df-convert {\n",
       "      background-color: #3B4455;\n",
       "      fill: #D2E3FC;\n",
       "    }\n",
       "\n",
       "    [theme=dark] .colab-df-convert:hover {\n",
       "      background-color: #434B5C;\n",
       "      box-shadow: 0px 1px 3px 1px rgba(0, 0, 0, 0.15);\n",
       "      filter: drop-shadow(0px 1px 2px rgba(0, 0, 0, 0.3));\n",
       "      fill: #FFFFFF;\n",
       "    }\n",
       "  </style>\n",
       "\n",
       "      <script>\n",
       "        const buttonEl =\n",
       "          document.querySelector('#df-b0392d2e-3b34-453d-9b76-9023ccc25dbc button.colab-df-convert');\n",
       "        buttonEl.style.display =\n",
       "          google.colab.kernel.accessAllowed ? 'block' : 'none';\n",
       "\n",
       "        async function convertToInteractive(key) {\n",
       "          const element = document.querySelector('#df-b0392d2e-3b34-453d-9b76-9023ccc25dbc');\n",
       "          const dataTable =\n",
       "            await google.colab.kernel.invokeFunction('convertToInteractive',\n",
       "                                                     [key], {});\n",
       "          if (!dataTable) return;\n",
       "\n",
       "          const docLinkHtml = 'Like what you see? Visit the ' +\n",
       "            '<a target=\"_blank\" href=https://colab.research.google.com/notebooks/data_table.ipynb>data table notebook</a>'\n",
       "            + ' to learn more about interactive tables.';\n",
       "          element.innerHTML = '';\n",
       "          dataTable['output_type'] = 'display_data';\n",
       "          await google.colab.output.renderOutput(dataTable, element);\n",
       "          const docLink = document.createElement('div');\n",
       "          docLink.innerHTML = docLinkHtml;\n",
       "          element.appendChild(docLink);\n",
       "        }\n",
       "      </script>\n",
       "    </div>\n",
       "  </div>\n",
       "  "
      ],
      "text/plain": [
       "                        Action  Adventure  Comedy  Crime  Drama  Fantasy  \\\n",
       "Student Name                                                               \n",
       "anusha reddy               5.5        6.0     8.5    9.9    9.0     10.0   \n",
       "eknath vamsi punna        10.0       10.0     7.0   10.0    1.0      1.0   \n",
       "sai                        8.5        9.0    10.0   10.0    6.0      8.9   \n",
       "vrushabhkumar shrimali    10.0       10.0    10.0    9.0    6.0      8.0   \n",
       "\n",
       "                        Science Fiction  Horror  Mystery  Romance  Thriller  \\\n",
       "Student Name                                                                  \n",
       "anusha reddy                        8.5    10.0      9.5      8.5       9.1   \n",
       "eknath vamsi punna                 10.0     5.0     10.0      0.1      10.0   \n",
       "sai                                 9.0     2.0      7.8      8.0       7.5   \n",
       "vrushabhkumar shrimali              6.0     9.0     10.0      1.0       6.0   \n",
       "\n",
       "                        Documentary  Animated  Average in a Week  \\\n",
       "Student Name                                                       \n",
       "anusha reddy                    5.1       7.5                  1   \n",
       "eknath vamsi punna              0.1       0.2                  5   \n",
       "sai                             6.0      10.0                  1   \n",
       "vrushabhkumar shrimali          3.0      10.0                  1   \n",
       "\n",
       "                        Preference 1  Preference 2  Preference 3  Preference 4  \n",
       "Student Name                                                                    \n",
       "anusha reddy                       3             3             3             1  \n",
       "eknath vamsi punna                 3             3             3             1  \n",
       "sai                                2             4             3             1  \n",
       "vrushabhkumar shrimali             1             1             1             0  "
      ]
     },
     "execution_count": 26,
     "metadata": {},
     "output_type": "execute_result"
    }
   ],
   "source": [
    "final.tail(4)"
   ]
  },
  {
   "cell_type": "markdown",
   "metadata": {
    "id": "qu8FMzgn5Lbi"
   },
   "source": [
    "2.2.5) Checking for NA values and dropping them"
   ]
  },
  {
   "cell_type": "code",
   "execution_count": 27,
   "metadata": {
    "colab": {
     "base_uri": "https://localhost:8080/"
    },
    "id": "ji8591U3tl4b",
    "outputId": "dff5936c-a209-4cb7-adde-f291437a4b23"
   },
   "outputs": [
    {
     "name": "stdout",
     "output_type": "stream",
     "text": [
      "<class 'pandas.core.frame.DataFrame'>\n",
      "Index: 38 entries, Akbar to vrushabhkumar shrimali\n",
      "Data columns (total 18 columns):\n",
      " #   Column             Non-Null Count  Dtype  \n",
      "---  ------             --------------  -----  \n",
      " 0   Action             38 non-null     float64\n",
      " 1   Adventure          37 non-null     float64\n",
      " 2   Comedy             37 non-null     float64\n",
      " 3   Crime              37 non-null     float64\n",
      " 4   Drama              37 non-null     float64\n",
      " 5   Fantasy            37 non-null     float64\n",
      " 6   Science Fiction    37 non-null     float64\n",
      " 7   Horror             37 non-null     float64\n",
      " 8   Mystery            37 non-null     float64\n",
      " 9   Romance            37 non-null     float64\n",
      " 10  Thriller           37 non-null     float64\n",
      " 11  Documentary        37 non-null     float64\n",
      " 12  Animated           37 non-null     float64\n",
      " 13  Average in a Week  38 non-null     int64  \n",
      " 14  Preference 1       38 non-null     int64  \n",
      " 15  Preference 2       38 non-null     int64  \n",
      " 16  Preference 3       38 non-null     int64  \n",
      " 17  Preference 4       38 non-null     int64  \n",
      "dtypes: float64(13), int64(5)\n",
      "memory usage: 5.6+ KB\n"
     ]
    }
   ],
   "source": [
    "final.info()"
   ]
  },
  {
   "cell_type": "code",
   "execution_count": 28,
   "metadata": {
    "colab": {
     "base_uri": "https://localhost:8080/"
    },
    "id": "nIh4TP3yt-6R",
    "outputId": "faef51ac-1548-4bf0-8a5b-6289c0b21574"
   },
   "outputs": [
    {
     "data": {
      "text/plain": [
       "12"
      ]
     },
     "execution_count": 28,
     "metadata": {},
     "output_type": "execute_result"
    }
   ],
   "source": [
    "final.isnull().sum().sum()"
   ]
  },
  {
   "cell_type": "markdown",
   "metadata": {
    "id": "0uxmWt1G5TKR"
   },
   "source": [
    "Here we can see that there are still 12 records which have a NA or null value lets drop them and use our cleaned dataset"
   ]
  },
  {
   "cell_type": "code",
   "execution_count": 29,
   "metadata": {
    "id": "VQSGe8vVuLfN"
   },
   "outputs": [],
   "source": [
    "final=final.dropna()"
   ]
  },
  {
   "cell_type": "code",
   "execution_count": 30,
   "metadata": {
    "colab": {
     "base_uri": "https://localhost:8080/"
    },
    "id": "bu9X5Rq2uRSW",
    "outputId": "54d4bb78-e6cd-4ec7-be7c-4962a6086a17"
   },
   "outputs": [
    {
     "data": {
      "text/plain": [
       "0"
      ]
     },
     "execution_count": 30,
     "metadata": {},
     "output_type": "execute_result"
    }
   ],
   "source": [
    "final.isnull().sum().sum()"
   ]
  },
  {
   "cell_type": "markdown",
   "metadata": {
    "id": "oHdFbYg95SOd"
   },
   "source": [
    "As you can see now there are no null values and the dataset is ready to use."
   ]
  },
  {
   "cell_type": "markdown",
   "metadata": {
    "id": "FURSA6UD5rvY"
   },
   "source": [
    "2.3) Statistical Summary of the dataset"
   ]
  },
  {
   "cell_type": "markdown",
   "metadata": {
    "id": "65Cn2v025-6l"
   },
   "source": [
    "Let us understand the types of columns what sort of data do they store. From the below data we can see that all the columns contain Numeric data and for Action its minimum value is 4 and the maximum value is 10. All the columns have been divided into quartiles as well."
   ]
  },
  {
   "cell_type": "code",
   "execution_count": 99,
   "metadata": {
    "colab": {
     "base_uri": "https://localhost:8080/",
     "height": 395
    },
    "id": "D_5tkU_z5zFD",
    "outputId": "b5d78363-fce1-4011-d79d-c92d04eec54f"
   },
   "outputs": [
    {
     "data": {
      "text/html": [
       "\n",
       "  <div id=\"df-fe1405e0-9bfc-4b35-bfd5-aec57fe62540\">\n",
       "    <div class=\"colab-df-container\">\n",
       "      <div>\n",
       "<style scoped>\n",
       "    .dataframe tbody tr th:only-of-type {\n",
       "        vertical-align: middle;\n",
       "    }\n",
       "\n",
       "    .dataframe tbody tr th {\n",
       "        vertical-align: top;\n",
       "    }\n",
       "\n",
       "    .dataframe thead th {\n",
       "        text-align: right;\n",
       "    }\n",
       "</style>\n",
       "<table border=\"1\" class=\"dataframe\">\n",
       "  <thead>\n",
       "    <tr style=\"text-align: right;\">\n",
       "      <th></th>\n",
       "      <th>Action</th>\n",
       "      <th>Adventure</th>\n",
       "      <th>Comedy</th>\n",
       "      <th>Crime</th>\n",
       "      <th>Drama</th>\n",
       "      <th>Fantasy</th>\n",
       "      <th>Science Fiction</th>\n",
       "      <th>Horror</th>\n",
       "      <th>Mystery</th>\n",
       "      <th>Romance</th>\n",
       "      <th>Thriller</th>\n",
       "      <th>Documentary</th>\n",
       "      <th>Animated</th>\n",
       "      <th>Average in a Week</th>\n",
       "      <th>Preference 1</th>\n",
       "      <th>Preference 2</th>\n",
       "      <th>Preference 3</th>\n",
       "      <th>Preference 4</th>\n",
       "    </tr>\n",
       "  </thead>\n",
       "  <tbody>\n",
       "    <tr>\n",
       "      <th>count</th>\n",
       "      <td>37.000000</td>\n",
       "      <td>37.000000</td>\n",
       "      <td>37.000000</td>\n",
       "      <td>37.000000</td>\n",
       "      <td>37.000000</td>\n",
       "      <td>37.000000</td>\n",
       "      <td>37.000000</td>\n",
       "      <td>37.000000</td>\n",
       "      <td>37.000000</td>\n",
       "      <td>37.000000</td>\n",
       "      <td>37.000000</td>\n",
       "      <td>37.000000</td>\n",
       "      <td>37.000000</td>\n",
       "      <td>37.000000</td>\n",
       "      <td>37.000000</td>\n",
       "      <td>37.000000</td>\n",
       "      <td>37.000000</td>\n",
       "      <td>37.000000</td>\n",
       "    </tr>\n",
       "    <tr>\n",
       "      <th>mean</th>\n",
       "      <td>8.407838</td>\n",
       "      <td>8.202432</td>\n",
       "      <td>8.408108</td>\n",
       "      <td>7.637838</td>\n",
       "      <td>6.021351</td>\n",
       "      <td>6.516216</td>\n",
       "      <td>8.225946</td>\n",
       "      <td>6.356486</td>\n",
       "      <td>8.010270</td>\n",
       "      <td>6.549189</td>\n",
       "      <td>8.061081</td>\n",
       "      <td>6.240811</td>\n",
       "      <td>6.918919</td>\n",
       "      <td>1.702703</td>\n",
       "      <td>2.108108</td>\n",
       "      <td>3.540541</td>\n",
       "      <td>2.837838</td>\n",
       "      <td>0.945946</td>\n",
       "    </tr>\n",
       "    <tr>\n",
       "      <th>std</th>\n",
       "      <td>1.574588</td>\n",
       "      <td>1.585997</td>\n",
       "      <td>1.556238</td>\n",
       "      <td>2.278444</td>\n",
       "      <td>2.953732</td>\n",
       "      <td>2.710219</td>\n",
       "      <td>1.632284</td>\n",
       "      <td>3.154089</td>\n",
       "      <td>1.499264</td>\n",
       "      <td>2.607675</td>\n",
       "      <td>1.847262</td>\n",
       "      <td>2.549011</td>\n",
       "      <td>2.928010</td>\n",
       "      <td>1.469408</td>\n",
       "      <td>1.744575</td>\n",
       "      <td>1.069647</td>\n",
       "      <td>0.601550</td>\n",
       "      <td>0.229243</td>\n",
       "    </tr>\n",
       "    <tr>\n",
       "      <th>min</th>\n",
       "      <td>4.000000</td>\n",
       "      <td>4.000000</td>\n",
       "      <td>4.200000</td>\n",
       "      <td>3.000000</td>\n",
       "      <td>1.000000</td>\n",
       "      <td>1.000000</td>\n",
       "      <td>4.500000</td>\n",
       "      <td>1.000000</td>\n",
       "      <td>4.500000</td>\n",
       "      <td>0.100000</td>\n",
       "      <td>3.400000</td>\n",
       "      <td>0.100000</td>\n",
       "      <td>0.200000</td>\n",
       "      <td>0.000000</td>\n",
       "      <td>0.000000</td>\n",
       "      <td>0.000000</td>\n",
       "      <td>0.000000</td>\n",
       "      <td>0.000000</td>\n",
       "    </tr>\n",
       "    <tr>\n",
       "      <th>25%</th>\n",
       "      <td>7.700000</td>\n",
       "      <td>7.000000</td>\n",
       "      <td>7.800000</td>\n",
       "      <td>6.100000</td>\n",
       "      <td>2.300000</td>\n",
       "      <td>5.500000</td>\n",
       "      <td>6.800000</td>\n",
       "      <td>4.200000</td>\n",
       "      <td>7.300000</td>\n",
       "      <td>5.000000</td>\n",
       "      <td>7.000000</td>\n",
       "      <td>4.100000</td>\n",
       "      <td>5.000000</td>\n",
       "      <td>1.000000</td>\n",
       "      <td>1.000000</td>\n",
       "      <td>4.000000</td>\n",
       "      <td>3.000000</td>\n",
       "      <td>1.000000</td>\n",
       "    </tr>\n",
       "    <tr>\n",
       "      <th>50%</th>\n",
       "      <td>8.500000</td>\n",
       "      <td>8.500000</td>\n",
       "      <td>8.900000</td>\n",
       "      <td>8.600000</td>\n",
       "      <td>7.000000</td>\n",
       "      <td>7.000000</td>\n",
       "      <td>8.900000</td>\n",
       "      <td>6.900000</td>\n",
       "      <td>8.000000</td>\n",
       "      <td>7.000000</td>\n",
       "      <td>8.500000</td>\n",
       "      <td>6.500000</td>\n",
       "      <td>7.500000</td>\n",
       "      <td>1.000000</td>\n",
       "      <td>2.000000</td>\n",
       "      <td>4.000000</td>\n",
       "      <td>3.000000</td>\n",
       "      <td>1.000000</td>\n",
       "    </tr>\n",
       "    <tr>\n",
       "      <th>75%</th>\n",
       "      <td>9.900000</td>\n",
       "      <td>9.500000</td>\n",
       "      <td>9.800000</td>\n",
       "      <td>9.300000</td>\n",
       "      <td>8.000000</td>\n",
       "      <td>8.500000</td>\n",
       "      <td>9.500000</td>\n",
       "      <td>9.800000</td>\n",
       "      <td>9.500000</td>\n",
       "      <td>8.500000</td>\n",
       "      <td>9.600000</td>\n",
       "      <td>8.600000</td>\n",
       "      <td>9.600000</td>\n",
       "      <td>2.000000</td>\n",
       "      <td>3.000000</td>\n",
       "      <td>4.000000</td>\n",
       "      <td>3.000000</td>\n",
       "      <td>1.000000</td>\n",
       "    </tr>\n",
       "    <tr>\n",
       "      <th>max</th>\n",
       "      <td>10.000000</td>\n",
       "      <td>10.000000</td>\n",
       "      <td>10.000000</td>\n",
       "      <td>10.100000</td>\n",
       "      <td>10.000000</td>\n",
       "      <td>10.000000</td>\n",
       "      <td>10.000000</td>\n",
       "      <td>10.000000</td>\n",
       "      <td>10.000000</td>\n",
       "      <td>10.000000</td>\n",
       "      <td>10.000000</td>\n",
       "      <td>10.000000</td>\n",
       "      <td>10.000000</td>\n",
       "      <td>5.000000</td>\n",
       "      <td>5.000000</td>\n",
       "      <td>4.000000</td>\n",
       "      <td>3.000000</td>\n",
       "      <td>1.000000</td>\n",
       "    </tr>\n",
       "  </tbody>\n",
       "</table>\n",
       "</div>\n",
       "      <button class=\"colab-df-convert\" onclick=\"convertToInteractive('df-fe1405e0-9bfc-4b35-bfd5-aec57fe62540')\"\n",
       "              title=\"Convert this dataframe to an interactive table.\"\n",
       "              style=\"display:none;\">\n",
       "        \n",
       "  <svg xmlns=\"http://www.w3.org/2000/svg\" height=\"24px\"viewBox=\"0 0 24 24\"\n",
       "       width=\"24px\">\n",
       "    <path d=\"M0 0h24v24H0V0z\" fill=\"none\"/>\n",
       "    <path d=\"M18.56 5.44l.94 2.06.94-2.06 2.06-.94-2.06-.94-.94-2.06-.94 2.06-2.06.94zm-11 1L8.5 8.5l.94-2.06 2.06-.94-2.06-.94L8.5 2.5l-.94 2.06-2.06.94zm10 10l.94 2.06.94-2.06 2.06-.94-2.06-.94-.94-2.06-.94 2.06-2.06.94z\"/><path d=\"M17.41 7.96l-1.37-1.37c-.4-.4-.92-.59-1.43-.59-.52 0-1.04.2-1.43.59L10.3 9.45l-7.72 7.72c-.78.78-.78 2.05 0 2.83L4 21.41c.39.39.9.59 1.41.59.51 0 1.02-.2 1.41-.59l7.78-7.78 2.81-2.81c.8-.78.8-2.07 0-2.86zM5.41 20L4 18.59l7.72-7.72 1.47 1.35L5.41 20z\"/>\n",
       "  </svg>\n",
       "      </button>\n",
       "      \n",
       "  <style>\n",
       "    .colab-df-container {\n",
       "      display:flex;\n",
       "      flex-wrap:wrap;\n",
       "      gap: 12px;\n",
       "    }\n",
       "\n",
       "    .colab-df-convert {\n",
       "      background-color: #E8F0FE;\n",
       "      border: none;\n",
       "      border-radius: 50%;\n",
       "      cursor: pointer;\n",
       "      display: none;\n",
       "      fill: #1967D2;\n",
       "      height: 32px;\n",
       "      padding: 0 0 0 0;\n",
       "      width: 32px;\n",
       "    }\n",
       "\n",
       "    .colab-df-convert:hover {\n",
       "      background-color: #E2EBFA;\n",
       "      box-shadow: 0px 1px 2px rgba(60, 64, 67, 0.3), 0px 1px 3px 1px rgba(60, 64, 67, 0.15);\n",
       "      fill: #174EA6;\n",
       "    }\n",
       "\n",
       "    [theme=dark] .colab-df-convert {\n",
       "      background-color: #3B4455;\n",
       "      fill: #D2E3FC;\n",
       "    }\n",
       "\n",
       "    [theme=dark] .colab-df-convert:hover {\n",
       "      background-color: #434B5C;\n",
       "      box-shadow: 0px 1px 3px 1px rgba(0, 0, 0, 0.15);\n",
       "      filter: drop-shadow(0px 1px 2px rgba(0, 0, 0, 0.3));\n",
       "      fill: #FFFFFF;\n",
       "    }\n",
       "  </style>\n",
       "\n",
       "      <script>\n",
       "        const buttonEl =\n",
       "          document.querySelector('#df-fe1405e0-9bfc-4b35-bfd5-aec57fe62540 button.colab-df-convert');\n",
       "        buttonEl.style.display =\n",
       "          google.colab.kernel.accessAllowed ? 'block' : 'none';\n",
       "\n",
       "        async function convertToInteractive(key) {\n",
       "          const element = document.querySelector('#df-fe1405e0-9bfc-4b35-bfd5-aec57fe62540');\n",
       "          const dataTable =\n",
       "            await google.colab.kernel.invokeFunction('convertToInteractive',\n",
       "                                                     [key], {});\n",
       "          if (!dataTable) return;\n",
       "\n",
       "          const docLinkHtml = 'Like what you see? Visit the ' +\n",
       "            '<a target=\"_blank\" href=https://colab.research.google.com/notebooks/data_table.ipynb>data table notebook</a>'\n",
       "            + ' to learn more about interactive tables.';\n",
       "          element.innerHTML = '';\n",
       "          dataTable['output_type'] = 'display_data';\n",
       "          await google.colab.output.renderOutput(dataTable, element);\n",
       "          const docLink = document.createElement('div');\n",
       "          docLink.innerHTML = docLinkHtml;\n",
       "          element.appendChild(docLink);\n",
       "        }\n",
       "      </script>\n",
       "    </div>\n",
       "  </div>\n",
       "  "
      ],
      "text/plain": [
       "          Action  Adventure     Comedy      Crime      Drama    Fantasy  \\\n",
       "count  37.000000  37.000000  37.000000  37.000000  37.000000  37.000000   \n",
       "mean    8.407838   8.202432   8.408108   7.637838   6.021351   6.516216   \n",
       "std     1.574588   1.585997   1.556238   2.278444   2.953732   2.710219   \n",
       "min     4.000000   4.000000   4.200000   3.000000   1.000000   1.000000   \n",
       "25%     7.700000   7.000000   7.800000   6.100000   2.300000   5.500000   \n",
       "50%     8.500000   8.500000   8.900000   8.600000   7.000000   7.000000   \n",
       "75%     9.900000   9.500000   9.800000   9.300000   8.000000   8.500000   \n",
       "max    10.000000  10.000000  10.000000  10.100000  10.000000  10.000000   \n",
       "\n",
       "       Science Fiction     Horror    Mystery    Romance   Thriller  \\\n",
       "count        37.000000  37.000000  37.000000  37.000000  37.000000   \n",
       "mean          8.225946   6.356486   8.010270   6.549189   8.061081   \n",
       "std           1.632284   3.154089   1.499264   2.607675   1.847262   \n",
       "min           4.500000   1.000000   4.500000   0.100000   3.400000   \n",
       "25%           6.800000   4.200000   7.300000   5.000000   7.000000   \n",
       "50%           8.900000   6.900000   8.000000   7.000000   8.500000   \n",
       "75%           9.500000   9.800000   9.500000   8.500000   9.600000   \n",
       "max          10.000000  10.000000  10.000000  10.000000  10.000000   \n",
       "\n",
       "       Documentary   Animated  Average in a Week  Preference 1  Preference 2  \\\n",
       "count    37.000000  37.000000          37.000000     37.000000     37.000000   \n",
       "mean      6.240811   6.918919           1.702703      2.108108      3.540541   \n",
       "std       2.549011   2.928010           1.469408      1.744575      1.069647   \n",
       "min       0.100000   0.200000           0.000000      0.000000      0.000000   \n",
       "25%       4.100000   5.000000           1.000000      1.000000      4.000000   \n",
       "50%       6.500000   7.500000           1.000000      2.000000      4.000000   \n",
       "75%       8.600000   9.600000           2.000000      3.000000      4.000000   \n",
       "max      10.000000  10.000000           5.000000      5.000000      4.000000   \n",
       "\n",
       "       Preference 3  Preference 4  \n",
       "count     37.000000     37.000000  \n",
       "mean       2.837838      0.945946  \n",
       "std        0.601550      0.229243  \n",
       "min        0.000000      0.000000  \n",
       "25%        3.000000      1.000000  \n",
       "50%        3.000000      1.000000  \n",
       "75%        3.000000      1.000000  \n",
       "max        3.000000      1.000000  "
      ]
     },
     "execution_count": 99,
     "metadata": {},
     "output_type": "execute_result"
    }
   ],
   "source": [
    "final.describe()"
   ]
  },
  {
   "cell_type": "markdown",
   "metadata": {
    "id": "jXtR753p63tr"
   },
   "source": [
    "2.4) Showing the first 10 rows of the dataset"
   ]
  },
  {
   "cell_type": "code",
   "execution_count": 100,
   "metadata": {
    "colab": {
     "base_uri": "https://localhost:8080/",
     "height": 573
    },
    "id": "52W8iFX9661-",
    "outputId": "e6257f16-eded-4e76-b76e-55bcc60d60bf"
   },
   "outputs": [
    {
     "data": {
      "text/html": [
       "\n",
       "  <div id=\"df-71d07eaa-8847-4edc-8e37-865dd936c514\">\n",
       "    <div class=\"colab-df-container\">\n",
       "      <div>\n",
       "<style scoped>\n",
       "    .dataframe tbody tr th:only-of-type {\n",
       "        vertical-align: middle;\n",
       "    }\n",
       "\n",
       "    .dataframe tbody tr th {\n",
       "        vertical-align: top;\n",
       "    }\n",
       "\n",
       "    .dataframe thead th {\n",
       "        text-align: right;\n",
       "    }\n",
       "</style>\n",
       "<table border=\"1\" class=\"dataframe\">\n",
       "  <thead>\n",
       "    <tr style=\"text-align: right;\">\n",
       "      <th></th>\n",
       "      <th>Action</th>\n",
       "      <th>Adventure</th>\n",
       "      <th>Comedy</th>\n",
       "      <th>Crime</th>\n",
       "      <th>Drama</th>\n",
       "      <th>Fantasy</th>\n",
       "      <th>Science Fiction</th>\n",
       "      <th>Horror</th>\n",
       "      <th>Mystery</th>\n",
       "      <th>Romance</th>\n",
       "      <th>Thriller</th>\n",
       "      <th>Documentary</th>\n",
       "      <th>Animated</th>\n",
       "      <th>Average in a Week</th>\n",
       "      <th>Preference 1</th>\n",
       "      <th>Preference 2</th>\n",
       "      <th>Preference 3</th>\n",
       "      <th>Preference 4</th>\n",
       "    </tr>\n",
       "    <tr>\n",
       "      <th>Student Name</th>\n",
       "      <th></th>\n",
       "      <th></th>\n",
       "      <th></th>\n",
       "      <th></th>\n",
       "      <th></th>\n",
       "      <th></th>\n",
       "      <th></th>\n",
       "      <th></th>\n",
       "      <th></th>\n",
       "      <th></th>\n",
       "      <th></th>\n",
       "      <th></th>\n",
       "      <th></th>\n",
       "      <th></th>\n",
       "      <th></th>\n",
       "      <th></th>\n",
       "      <th></th>\n",
       "      <th></th>\n",
       "    </tr>\n",
       "  </thead>\n",
       "  <tbody>\n",
       "    <tr>\n",
       "      <th>Akbar</th>\n",
       "      <td>9.9</td>\n",
       "      <td>9.9</td>\n",
       "      <td>9.8</td>\n",
       "      <td>8.5</td>\n",
       "      <td>5.4</td>\n",
       "      <td>7.9</td>\n",
       "      <td>8.9</td>\n",
       "      <td>9.9</td>\n",
       "      <td>6.9</td>\n",
       "      <td>10.0</td>\n",
       "      <td>9.5</td>\n",
       "      <td>3.8</td>\n",
       "      <td>7.4</td>\n",
       "      <td>3</td>\n",
       "      <td>3</td>\n",
       "      <td>4</td>\n",
       "      <td>3</td>\n",
       "      <td>1</td>\n",
       "    </tr>\n",
       "    <tr>\n",
       "      <th>Ali</th>\n",
       "      <td>6.0</td>\n",
       "      <td>6.0</td>\n",
       "      <td>6.0</td>\n",
       "      <td>5.0</td>\n",
       "      <td>7.0</td>\n",
       "      <td>3.0</td>\n",
       "      <td>10.0</td>\n",
       "      <td>3.0</td>\n",
       "      <td>7.0</td>\n",
       "      <td>4.0</td>\n",
       "      <td>5.0</td>\n",
       "      <td>9.0</td>\n",
       "      <td>7.0</td>\n",
       "      <td>1</td>\n",
       "      <td>0</td>\n",
       "      <td>2</td>\n",
       "      <td>3</td>\n",
       "      <td>1</td>\n",
       "    </tr>\n",
       "    <tr>\n",
       "      <th>Anh T</th>\n",
       "      <td>8.9</td>\n",
       "      <td>7.5</td>\n",
       "      <td>5.1</td>\n",
       "      <td>9.4</td>\n",
       "      <td>6.6</td>\n",
       "      <td>7.2</td>\n",
       "      <td>5.5</td>\n",
       "      <td>4.6</td>\n",
       "      <td>7.7</td>\n",
       "      <td>6.4</td>\n",
       "      <td>9.5</td>\n",
       "      <td>2.2</td>\n",
       "      <td>4.8</td>\n",
       "      <td>3</td>\n",
       "      <td>3</td>\n",
       "      <td>4</td>\n",
       "      <td>3</td>\n",
       "      <td>1</td>\n",
       "    </tr>\n",
       "    <tr>\n",
       "      <th>Brandon Inoshita</th>\n",
       "      <td>8.9</td>\n",
       "      <td>9.1</td>\n",
       "      <td>5.6</td>\n",
       "      <td>6.1</td>\n",
       "      <td>1.2</td>\n",
       "      <td>9.3</td>\n",
       "      <td>9.0</td>\n",
       "      <td>6.2</td>\n",
       "      <td>6.3</td>\n",
       "      <td>5.2</td>\n",
       "      <td>8.3</td>\n",
       "      <td>7.2</td>\n",
       "      <td>9.7</td>\n",
       "      <td>2</td>\n",
       "      <td>0</td>\n",
       "      <td>4</td>\n",
       "      <td>3</td>\n",
       "      <td>1</td>\n",
       "    </tr>\n",
       "    <tr>\n",
       "      <th>Changhao Dong</th>\n",
       "      <td>4.0</td>\n",
       "      <td>5.4</td>\n",
       "      <td>8.3</td>\n",
       "      <td>6.5</td>\n",
       "      <td>2.3</td>\n",
       "      <td>1.3</td>\n",
       "      <td>6.8</td>\n",
       "      <td>7.6</td>\n",
       "      <td>4.5</td>\n",
       "      <td>6.4</td>\n",
       "      <td>3.4</td>\n",
       "      <td>7.5</td>\n",
       "      <td>5.5</td>\n",
       "      <td>0</td>\n",
       "      <td>2</td>\n",
       "      <td>4</td>\n",
       "      <td>3</td>\n",
       "      <td>1</td>\n",
       "    </tr>\n",
       "    <tr>\n",
       "      <th>Clark Blatter</th>\n",
       "      <td>9.8</td>\n",
       "      <td>8.2</td>\n",
       "      <td>8.5</td>\n",
       "      <td>9.0</td>\n",
       "      <td>6.5</td>\n",
       "      <td>6.9</td>\n",
       "      <td>7.2</td>\n",
       "      <td>4.2</td>\n",
       "      <td>7.4</td>\n",
       "      <td>6.9</td>\n",
       "      <td>7.3</td>\n",
       "      <td>6.5</td>\n",
       "      <td>9.5</td>\n",
       "      <td>1</td>\n",
       "      <td>1</td>\n",
       "      <td>4</td>\n",
       "      <td>3</td>\n",
       "      <td>1</td>\n",
       "    </tr>\n",
       "    <tr>\n",
       "      <th>FRANCIS</th>\n",
       "      <td>6.0</td>\n",
       "      <td>8.0</td>\n",
       "      <td>10.0</td>\n",
       "      <td>8.0</td>\n",
       "      <td>5.0</td>\n",
       "      <td>4.0</td>\n",
       "      <td>10.0</td>\n",
       "      <td>10.0</td>\n",
       "      <td>8.0</td>\n",
       "      <td>7.0</td>\n",
       "      <td>6.0</td>\n",
       "      <td>9.0</td>\n",
       "      <td>10.0</td>\n",
       "      <td>0</td>\n",
       "      <td>1</td>\n",
       "      <td>4</td>\n",
       "      <td>3</td>\n",
       "      <td>1</td>\n",
       "    </tr>\n",
       "    <tr>\n",
       "      <th>HARSH</th>\n",
       "      <td>10.0</td>\n",
       "      <td>4.0</td>\n",
       "      <td>8.0</td>\n",
       "      <td>10.0</td>\n",
       "      <td>8.0</td>\n",
       "      <td>7.0</td>\n",
       "      <td>8.0</td>\n",
       "      <td>3.0</td>\n",
       "      <td>10.0</td>\n",
       "      <td>9.0</td>\n",
       "      <td>10.0</td>\n",
       "      <td>3.0</td>\n",
       "      <td>4.0</td>\n",
       "      <td>1</td>\n",
       "      <td>1</td>\n",
       "      <td>4</td>\n",
       "      <td>3</td>\n",
       "      <td>1</td>\n",
       "    </tr>\n",
       "    <tr>\n",
       "      <th>Haodong Ma</th>\n",
       "      <td>7.0</td>\n",
       "      <td>6.0</td>\n",
       "      <td>9.0</td>\n",
       "      <td>3.0</td>\n",
       "      <td>1.0</td>\n",
       "      <td>4.0</td>\n",
       "      <td>6.0</td>\n",
       "      <td>8.0</td>\n",
       "      <td>7.0</td>\n",
       "      <td>6.0</td>\n",
       "      <td>8.0</td>\n",
       "      <td>2.0</td>\n",
       "      <td>4.0</td>\n",
       "      <td>2</td>\n",
       "      <td>3</td>\n",
       "      <td>4</td>\n",
       "      <td>3</td>\n",
       "      <td>1</td>\n",
       "    </tr>\n",
       "    <tr>\n",
       "      <th>Harini</th>\n",
       "      <td>9.5</td>\n",
       "      <td>8.9</td>\n",
       "      <td>9.8</td>\n",
       "      <td>10.1</td>\n",
       "      <td>7.9</td>\n",
       "      <td>9.7</td>\n",
       "      <td>9.9</td>\n",
       "      <td>5.4</td>\n",
       "      <td>8.6</td>\n",
       "      <td>10.0</td>\n",
       "      <td>9.6</td>\n",
       "      <td>8.7</td>\n",
       "      <td>9.6</td>\n",
       "      <td>2</td>\n",
       "      <td>5</td>\n",
       "      <td>4</td>\n",
       "      <td>3</td>\n",
       "      <td>1</td>\n",
       "    </tr>\n",
       "  </tbody>\n",
       "</table>\n",
       "</div>\n",
       "      <button class=\"colab-df-convert\" onclick=\"convertToInteractive('df-71d07eaa-8847-4edc-8e37-865dd936c514')\"\n",
       "              title=\"Convert this dataframe to an interactive table.\"\n",
       "              style=\"display:none;\">\n",
       "        \n",
       "  <svg xmlns=\"http://www.w3.org/2000/svg\" height=\"24px\"viewBox=\"0 0 24 24\"\n",
       "       width=\"24px\">\n",
       "    <path d=\"M0 0h24v24H0V0z\" fill=\"none\"/>\n",
       "    <path d=\"M18.56 5.44l.94 2.06.94-2.06 2.06-.94-2.06-.94-.94-2.06-.94 2.06-2.06.94zm-11 1L8.5 8.5l.94-2.06 2.06-.94-2.06-.94L8.5 2.5l-.94 2.06-2.06.94zm10 10l.94 2.06.94-2.06 2.06-.94-2.06-.94-.94-2.06-.94 2.06-2.06.94z\"/><path d=\"M17.41 7.96l-1.37-1.37c-.4-.4-.92-.59-1.43-.59-.52 0-1.04.2-1.43.59L10.3 9.45l-7.72 7.72c-.78.78-.78 2.05 0 2.83L4 21.41c.39.39.9.59 1.41.59.51 0 1.02-.2 1.41-.59l7.78-7.78 2.81-2.81c.8-.78.8-2.07 0-2.86zM5.41 20L4 18.59l7.72-7.72 1.47 1.35L5.41 20z\"/>\n",
       "  </svg>\n",
       "      </button>\n",
       "      \n",
       "  <style>\n",
       "    .colab-df-container {\n",
       "      display:flex;\n",
       "      flex-wrap:wrap;\n",
       "      gap: 12px;\n",
       "    }\n",
       "\n",
       "    .colab-df-convert {\n",
       "      background-color: #E8F0FE;\n",
       "      border: none;\n",
       "      border-radius: 50%;\n",
       "      cursor: pointer;\n",
       "      display: none;\n",
       "      fill: #1967D2;\n",
       "      height: 32px;\n",
       "      padding: 0 0 0 0;\n",
       "      width: 32px;\n",
       "    }\n",
       "\n",
       "    .colab-df-convert:hover {\n",
       "      background-color: #E2EBFA;\n",
       "      box-shadow: 0px 1px 2px rgba(60, 64, 67, 0.3), 0px 1px 3px 1px rgba(60, 64, 67, 0.15);\n",
       "      fill: #174EA6;\n",
       "    }\n",
       "\n",
       "    [theme=dark] .colab-df-convert {\n",
       "      background-color: #3B4455;\n",
       "      fill: #D2E3FC;\n",
       "    }\n",
       "\n",
       "    [theme=dark] .colab-df-convert:hover {\n",
       "      background-color: #434B5C;\n",
       "      box-shadow: 0px 1px 3px 1px rgba(0, 0, 0, 0.15);\n",
       "      filter: drop-shadow(0px 1px 2px rgba(0, 0, 0, 0.3));\n",
       "      fill: #FFFFFF;\n",
       "    }\n",
       "  </style>\n",
       "\n",
       "      <script>\n",
       "        const buttonEl =\n",
       "          document.querySelector('#df-71d07eaa-8847-4edc-8e37-865dd936c514 button.colab-df-convert');\n",
       "        buttonEl.style.display =\n",
       "          google.colab.kernel.accessAllowed ? 'block' : 'none';\n",
       "\n",
       "        async function convertToInteractive(key) {\n",
       "          const element = document.querySelector('#df-71d07eaa-8847-4edc-8e37-865dd936c514');\n",
       "          const dataTable =\n",
       "            await google.colab.kernel.invokeFunction('convertToInteractive',\n",
       "                                                     [key], {});\n",
       "          if (!dataTable) return;\n",
       "\n",
       "          const docLinkHtml = 'Like what you see? Visit the ' +\n",
       "            '<a target=\"_blank\" href=https://colab.research.google.com/notebooks/data_table.ipynb>data table notebook</a>'\n",
       "            + ' to learn more about interactive tables.';\n",
       "          element.innerHTML = '';\n",
       "          dataTable['output_type'] = 'display_data';\n",
       "          await google.colab.output.renderOutput(dataTable, element);\n",
       "          const docLink = document.createElement('div');\n",
       "          docLink.innerHTML = docLinkHtml;\n",
       "          element.appendChild(docLink);\n",
       "        }\n",
       "      </script>\n",
       "    </div>\n",
       "  </div>\n",
       "  "
      ],
      "text/plain": [
       "                  Action  Adventure  Comedy  Crime  Drama  Fantasy  \\\n",
       "Student Name                                                         \n",
       "Akbar                9.9        9.9     9.8    8.5    5.4      7.9   \n",
       "Ali                  6.0        6.0     6.0    5.0    7.0      3.0   \n",
       "Anh T                8.9        7.5     5.1    9.4    6.6      7.2   \n",
       "Brandon Inoshita     8.9        9.1     5.6    6.1    1.2      9.3   \n",
       "Changhao Dong        4.0        5.4     8.3    6.5    2.3      1.3   \n",
       "Clark Blatter        9.8        8.2     8.5    9.0    6.5      6.9   \n",
       "FRANCIS              6.0        8.0    10.0    8.0    5.0      4.0   \n",
       "HARSH               10.0        4.0     8.0   10.0    8.0      7.0   \n",
       "Haodong Ma           7.0        6.0     9.0    3.0    1.0      4.0   \n",
       "Harini               9.5        8.9     9.8   10.1    7.9      9.7   \n",
       "\n",
       "                  Science Fiction  Horror  Mystery  Romance  Thriller  \\\n",
       "Student Name                                                            \n",
       "Akbar                         8.9     9.9      6.9     10.0       9.5   \n",
       "Ali                          10.0     3.0      7.0      4.0       5.0   \n",
       "Anh T                         5.5     4.6      7.7      6.4       9.5   \n",
       "Brandon Inoshita              9.0     6.2      6.3      5.2       8.3   \n",
       "Changhao Dong                 6.8     7.6      4.5      6.4       3.4   \n",
       "Clark Blatter                 7.2     4.2      7.4      6.9       7.3   \n",
       "FRANCIS                      10.0    10.0      8.0      7.0       6.0   \n",
       "HARSH                         8.0     3.0     10.0      9.0      10.0   \n",
       "Haodong Ma                    6.0     8.0      7.0      6.0       8.0   \n",
       "Harini                        9.9     5.4      8.6     10.0       9.6   \n",
       "\n",
       "                  Documentary  Animated  Average in a Week  Preference 1  \\\n",
       "Student Name                                                               \n",
       "Akbar                     3.8       7.4                  3             3   \n",
       "Ali                       9.0       7.0                  1             0   \n",
       "Anh T                     2.2       4.8                  3             3   \n",
       "Brandon Inoshita          7.2       9.7                  2             0   \n",
       "Changhao Dong             7.5       5.5                  0             2   \n",
       "Clark Blatter             6.5       9.5                  1             1   \n",
       "FRANCIS                   9.0      10.0                  0             1   \n",
       "HARSH                     3.0       4.0                  1             1   \n",
       "Haodong Ma                2.0       4.0                  2             3   \n",
       "Harini                    8.7       9.6                  2             5   \n",
       "\n",
       "                  Preference 2  Preference 3  Preference 4  \n",
       "Student Name                                                \n",
       "Akbar                        4             3             1  \n",
       "Ali                          2             3             1  \n",
       "Anh T                        4             3             1  \n",
       "Brandon Inoshita             4             3             1  \n",
       "Changhao Dong                4             3             1  \n",
       "Clark Blatter                4             3             1  \n",
       "FRANCIS                      4             3             1  \n",
       "HARSH                        4             3             1  \n",
       "Haodong Ma                   4             3             1  \n",
       "Harini                       4             3             1  "
      ]
     },
     "execution_count": 100,
     "metadata": {},
     "output_type": "execute_result"
    }
   ],
   "source": [
    "final.head(10)"
   ]
  },
  {
   "cell_type": "markdown",
   "metadata": {
    "id": "dGMM6s787Exh"
   },
   "source": [
    "2.5) Let's check how many movies do students watch in a week"
   ]
  },
  {
   "cell_type": "code",
   "execution_count": 32,
   "metadata": {
    "colab": {
     "base_uri": "https://localhost:8080/",
     "height": 490
    },
    "id": "KUbV06p6RnVM",
    "outputId": "c5f80434-ab60-47a0-83cd-5797bee5fbcf"
   },
   "outputs": [
    {
     "data": {
      "text/plain": [
       "<matplotlib.axes._subplots.AxesSubplot at 0x7f650a42c450>"
      ]
     },
     "execution_count": 32,
     "metadata": {},
     "output_type": "execute_result"
    },
    {
     "data": {
      "image/png": "[encoded data removed]",
      "text/plain": [
       "<Figure size 1800x720 with 1 Axes>"
      ]
     },
     "metadata": {
      "needs_background": "light"
     },
     "output_type": "display_data"
    }
   ],
   "source": [
    "plt.figure(figsize=(25, 10))\n",
    "data['On average, how many movies you watch on a single week'].value_counts().plot(kind='bar')"
   ]
  },
  {
   "cell_type": "markdown",
   "metadata": {
    "id": "12BppOZR7PPY"
   },
   "source": [
    "From the above visualization we can see that most students watch one movie a week. So we can safely say that the Data Science program does keep students engaged in the coursework"
   ]
  },
  {
   "cell_type": "markdown",
   "metadata": {
    "id": "oUuf9K7V7r8p"
   },
   "source": [
    "2.6)Let's check the preferred movie of students"
   ]
  },
  {
   "cell_type": "code",
   "execution_count": 33,
   "metadata": {
    "colab": {
     "base_uri": "https://localhost:8080/",
     "height": 423
    },
    "id": "mooAKXvySONb",
    "outputId": "d733ab3f-579c-4d25-dd12-a0bd2739f0ad"
   },
   "outputs": [
    {
     "data": {
      "text/plain": [
       "<matplotlib.axes._subplots.AxesSubplot at 0x7f6509e8c4d0>"
      ]
     },
     "execution_count": 33,
     "metadata": {},
     "output_type": "execute_result"
    },
    {
     "data": {
      "image/png": "[encoded data removed]",
      "text/plain": [
       "<Figure size 1800x720 with 1 Axes>"
      ]
     },
     "metadata": {
      "needs_background": "light"
     },
     "output_type": "display_data"
    }
   ],
   "source": [
    "plt.figure(figsize=(25, 10))\n",
    "data[\"Which of the following movies you'd say is your preferred?\"].value_counts().plot(kind='bar')"
   ]
  },
  {
   "cell_type": "markdown",
   "metadata": {
    "id": "ydJovkS971Gm"
   },
   "source": [
    "From the above code we can see that the most preferred movie for students in \"SPIDERMAN\". Even the ones who have mentioned multiple movies too have \"SPIDERMAN\" as their preference"
   ]
  },
  {
   "cell_type": "markdown",
   "metadata": {
    "id": "W63oHRaG8S2k"
   },
   "source": [
    "2.7) Lets check the heatmap of the Average movie watched in a week and the other 4 preferences"
   ]
  },
  {
   "cell_type": "code",
   "execution_count": 34,
   "metadata": {
    "colab": {
     "base_uri": "https://localhost:8080/",
     "height": 730
    },
    "id": "2uSJg4GVUcT3",
    "outputId": "f8b1015c-aee2-4cac-847f-0025845f25c0"
   },
   "outputs": [
    {
     "data": {
      "image/png": "[encoded data removed]",
      "text/plain": [
       "<Figure size 720x720 with 4 Axes>"
      ]
     },
     "metadata": {
      "needs_background": "light"
     },
     "output_type": "display_data"
    }
   ],
   "source": [
    "sns.clustermap(final[['Average in a Week', 'Preference 1', 'Preference 2','Preference 3','Preference 4']])\n",
    "plt.show()"
   ]
  },
  {
   "cell_type": "markdown",
   "metadata": {
    "id": "Y_RZURGn8dpa"
   },
   "source": [
    "We can see that preference 4 and watching the movie in a week is highly co-related"
   ]
  },
  {
   "cell_type": "markdown",
   "metadata": {
    "id": "bTirPjPyvvBC"
   },
   "source": [
    "3) Dendogram"
   ]
  },
  {
   "cell_type": "markdown",
   "metadata": {
    "id": "RB8wGhOI8x3S"
   },
   "source": [
    "Lets import the Dendogram library and other classes that will be needed for our clustering."
   ]
  },
  {
   "cell_type": "code",
   "execution_count": 35,
   "metadata": {
    "id": "Hx_WQe2Gvxz7"
   },
   "outputs": [],
   "source": [
    "from scipy.cluster.hierarchy import dendrogram, linkage, leaves_list"
   ]
  },
  {
   "cell_type": "markdown",
   "metadata": {
    "id": "PkWEyx2_87hg"
   },
   "source": [
    "Below is the list of students form our cohort"
   ]
  },
  {
   "cell_type": "code",
   "execution_count": 36,
   "metadata": {
    "colab": {
     "base_uri": "https://localhost:8080/"
    },
    "id": "O6JBSdr8N7bg",
    "outputId": "a5fd07ed-6aef-498a-f14a-262825b11f6f"
   },
   "outputs": [
    {
     "data": {
      "text/plain": [
       "Index(['Akbar', 'Ali', 'Anh T', 'Brandon Inoshita', 'Changhao Dong',\n",
       "       'Clark Blatter', 'FRANCIS', 'HARSH', 'Haodong Ma', 'Harini',\n",
       "       'Jacobson, Brian', 'Jainam, Shah', 'Jay,Patel', 'Jenith Suvagia',\n",
       "       'Mohammed Baleequddin', 'Nayoung', 'Nomondalai', 'Parth Kambli',\n",
       "       'Pavan Reddy', 'Pranjali', 'Purav', 'Rene Padilla', 'Rutvik Gadhiya',\n",
       "       'Saetbyeol Choi', 'Sanmukh Sain Karri', 'Sanyuja Kadam', 'Sifa',\n",
       "       'Talantbek', 'Tang, Jonathan', 'Tejender', 'Tim Brice',\n",
       "       'Venkat Patchikura', 'Wenbo', 'anusha reddy', 'eknath vamsi punna',\n",
       "       'sai', 'vrushabhkumar shrimali'],\n",
       "      dtype='object', name='Student Name')"
      ]
     },
     "execution_count": 36,
     "metadata": {},
     "output_type": "execute_result"
    }
   ],
   "source": [
    "final.index"
   ]
  },
  {
   "cell_type": "markdown",
   "metadata": {
    "id": "VTyGt1dT9ALB"
   },
   "source": [
    "Lets compute our Dendogram first for the whole dataset and set the line at 7.5 to see how many clusters do we find"
   ]
  },
  {
   "cell_type": "code",
   "execution_count": 37,
   "metadata": {
    "colab": {
     "base_uri": "https://localhost:8080/",
     "height": 424
    },
    "id": "tZvLSukGv8UT",
    "outputId": "d6cbfa82-e5cc-4df0-ffce-01f260ceac2d"
   },
   "outputs": [
    {
     "data": {
      "text/plain": [
       "<matplotlib.lines.Line2D at 0x7f65074e3250>"
      ]
     },
     "execution_count": 37,
     "metadata": {},
     "output_type": "execute_result"
    },
    {
     "data": {
      "image/png": "[encoded data removed]",
      "text/plain": [
       "<Figure size 1800x720 with 1 Axes>"
      ]
     },
     "metadata": {
      "needs_background": "light"
     },
     "output_type": "display_data"
    }
   ],
   "source": [
    "Z = linkage(final, 'complete')\n",
    "plt.figure(figsize=(25, 10))\n",
    "D = dendrogram(Z=Z, orientation=\"top\", leaf_font_size=9, labels = final.index)\n",
    "plt.axhline(y=7.5, c='magenta', lw=1, linestyle='dashed')"
   ]
  },
  {
   "cell_type": "markdown",
   "metadata": {
    "id": "5zdVpP_e9VIs"
   },
   "source": [
    "With 7.5 as the line we can see that there are almost 11 clusters formed for our voting that we had done for the dataset.Let's define and print these clusters and see where the students lie"
   ]
  },
  {
   "cell_type": "code",
   "execution_count": 279,
   "metadata": {
    "colab": {
     "base_uri": "https://localhost:8080/"
    },
    "id": "J52zRQAGgt00",
    "outputId": "a6443ed5-c04a-4bc2-c297-24bce8ef478b"
   },
   "outputs": [
    {
     "data": {
      "text/plain": [
       "array([ 4, 10,  1, 11,  9,  8,  5,  1,  9,  4,  3,  5, 10,  6,  4,  1,  4,\n",
       "       10,  3,  4,  4, 11,  4,  1,  4,  4,  2,  8,  8, 11, 11,  6, 11,  4,\n",
       "       12,  8,  7], dtype=int32)"
      ]
     },
     "execution_count": 279,
     "metadata": {},
     "output_type": "execute_result"
    }
   ],
   "source": [
    "from scipy.cluster.hierarchy import fcluster\n",
    "k1=12\n",
    "dend_clusters1 = fcluster(Z, k, criterion='maxclust')\n",
    "dend_clusters1"
   ]
  },
  {
   "cell_type": "code",
   "execution_count": 280,
   "metadata": {
    "colab": {
     "base_uri": "https://localhost:8080/",
     "height": 646
    },
    "id": "9H4oz2TVhEFa",
    "outputId": "fc72d8c6-9ceb-4d33-de43-978cfa45bfa6"
   },
   "outputs": [
    {
     "name": "stdout",
     "output_type": "stream",
     "text": [
      "\n",
      "Cluster 1\n"
     ]
    },
    {
     "data": {
      "text/plain": [
       "Index(['Anh T', 'HARSH', 'Nayoung', 'Saetbyeol Choi'], dtype='object', name='Student Name')"
      ]
     },
     "metadata": {},
     "output_type": "display_data"
    },
    {
     "name": "stdout",
     "output_type": "stream",
     "text": [
      "\n",
      "Cluster 2\n"
     ]
    },
    {
     "data": {
      "text/plain": [
       "Index(['Sifa'], dtype='object', name='Student Name')"
      ]
     },
     "metadata": {},
     "output_type": "display_data"
    },
    {
     "name": "stdout",
     "output_type": "stream",
     "text": [
      "\n",
      "Cluster 3\n"
     ]
    },
    {
     "data": {
      "text/plain": [
       "Index(['Jacobson, Brian', 'Pavan Reddy'], dtype='object', name='Student Name')"
      ]
     },
     "metadata": {},
     "output_type": "display_data"
    },
    {
     "name": "stdout",
     "output_type": "stream",
     "text": [
      "\n",
      "Cluster 4\n"
     ]
    },
    {
     "data": {
      "text/plain": [
       "Index(['Akbar', 'Harini', 'Mohammed Baleequddin', 'Nomondalai', 'Pranjali',\n",
       "       'Purav', 'Rutvik Gadhiya', 'Sanmukh Sain Karri', 'Sanyuja Kadam',\n",
       "       'anusha reddy'],\n",
       "      dtype='object', name='Student Name')"
      ]
     },
     "metadata": {},
     "output_type": "display_data"
    },
    {
     "name": "stdout",
     "output_type": "stream",
     "text": [
      "\n",
      "Cluster 5\n"
     ]
    },
    {
     "data": {
      "text/plain": [
       "Index(['FRANCIS', 'Jainam, Shah'], dtype='object', name='Student Name')"
      ]
     },
     "metadata": {},
     "output_type": "display_data"
    },
    {
     "name": "stdout",
     "output_type": "stream",
     "text": [
      "\n",
      "Cluster 6\n"
     ]
    },
    {
     "data": {
      "text/plain": [
       "Index(['Jenith Suvagia', 'Venkat Patchikura'], dtype='object', name='Student Name')"
      ]
     },
     "metadata": {},
     "output_type": "display_data"
    },
    {
     "name": "stdout",
     "output_type": "stream",
     "text": [
      "\n",
      "Cluster 7\n"
     ]
    },
    {
     "data": {
      "text/plain": [
       "Index(['vrushabhkumar shrimali'], dtype='object', name='Student Name')"
      ]
     },
     "metadata": {},
     "output_type": "display_data"
    },
    {
     "name": "stdout",
     "output_type": "stream",
     "text": [
      "\n",
      "Cluster 8\n"
     ]
    },
    {
     "data": {
      "text/plain": [
       "Index(['Clark Blatter', 'Talantbek', 'Tang, Jonathan', 'sai'], dtype='object', name='Student Name')"
      ]
     },
     "metadata": {},
     "output_type": "display_data"
    },
    {
     "name": "stdout",
     "output_type": "stream",
     "text": [
      "\n",
      "Cluster 9\n"
     ]
    },
    {
     "data": {
      "text/plain": [
       "Index(['Changhao Dong', 'Haodong Ma'], dtype='object', name='Student Name')"
      ]
     },
     "metadata": {},
     "output_type": "display_data"
    },
    {
     "name": "stdout",
     "output_type": "stream",
     "text": [
      "\n",
      "Cluster 10\n"
     ]
    },
    {
     "data": {
      "text/plain": [
       "Index(['Ali', 'Jay,Patel', 'Parth Kambli'], dtype='object', name='Student Name')"
      ]
     },
     "metadata": {},
     "output_type": "display_data"
    },
    {
     "name": "stdout",
     "output_type": "stream",
     "text": [
      "\n",
      "Cluster 11\n"
     ]
    },
    {
     "data": {
      "text/plain": [
       "Index(['Brandon Inoshita', 'Rene Padilla', 'Tejender', 'Tim Brice', 'Wenbo'], dtype='object', name='Student Name')"
      ]
     },
     "metadata": {},
     "output_type": "display_data"
    }
   ],
   "source": [
    "for i in range(1, k1):\n",
    "    print(\"\\nCluster\", i)\n",
    "    display(final[[\"Action\",\"Romance\",\"Adventure\",\"Average in a Week\", \"Preference 1\"]][dend_clusters1 == i].index)"
   ]
  },
  {
   "cell_type": "code",
   "execution_count": 107,
   "metadata": {
    "id": "sUXXos17-N94"
   },
   "outputs": [],
   "source": [
    "corr = final.corr()"
   ]
  },
  {
   "cell_type": "code",
   "execution_count": 109,
   "metadata": {
    "colab": {
     "base_uri": "https://localhost:8080/",
     "height": 744
    },
    "id": "4kB6rMDE_Cdp",
    "outputId": "a59d339d-c658-471c-f7f5-e05e338fff74"
   },
   "outputs": [
    {
     "data": {
      "text/plain": [
       "<seaborn.matrix.ClusterGrid at 0x7f6501120ed0>"
      ]
     },
     "execution_count": 109,
     "metadata": {},
     "output_type": "execute_result"
    },
    {
     "data": {
      "image/png": "[encoded data removed]",
      "text/plain": [
       "<Figure size 720x720 with 4 Axes>"
      ]
     },
     "metadata": {},
     "output_type": "display_data"
    }
   ],
   "source": [
    "sns.clustermap(corr, cmap=\"mako\")"
   ]
  },
  {
   "cell_type": "markdown",
   "metadata": {
    "id": "lyG1Ksj8BLy5"
   },
   "source": [
    "From the above co-relation heatmap we can see that there is a high co-relationship between Action vs Adventure, romance vs fantasy so0 lets use some of these columns to create our another Dendogram for clustering"
   ]
  },
  {
   "cell_type": "markdown",
   "metadata": {
    "id": "TqX7OjJh-LeM"
   },
   "source": [
    "Lets create a Dendogram with \"Action\",\"Romance\",\"Adventure\",\"Average in a Week\", \"Preference 1\" these columns from our dataset and keep the defining line at 5"
   ]
  },
  {
   "cell_type": "code",
   "execution_count": 111,
   "metadata": {
    "colab": {
     "base_uri": "https://localhost:8080/",
     "height": 401
    },
    "id": "xUjwceU-WzGn",
    "outputId": "ccb3ad58-c0fd-449c-896d-30f996e91c7a"
   },
   "outputs": [
    {
     "data": {
      "text/plain": [
       "<matplotlib.lines.Line2D at 0x7f6501caa490>"
      ]
     },
     "execution_count": 111,
     "metadata": {},
     "output_type": "execute_result"
    },
    {
     "data": {
      "image/png": "[encoded data removed]",
      "text/plain": [
       "<Figure size 1800x720 with 1 Axes>"
      ]
     },
     "metadata": {},
     "output_type": "display_data"
    }
   ],
   "source": [
    "Z1 = linkage(final[[\"Action\",\"Romance\",\"Adventure\",\"Average in a Week\", \"Preference 1\"]], 'complete')\n",
    "plt.figure(figsize=(25, 10))\n",
    "D1 = dendrogram(Z=Z1, orientation=\"top\", leaf_font_size=9, labels = final.index)\n",
    "plt.axhline(y=5, c='magenta', lw=1, linestyle='dashed')"
   ]
  },
  {
   "cell_type": "markdown",
   "metadata": {
    "id": "4GGhAIVLCPFk"
   },
   "source": [
    "From the above graph we can see that for our line=5 we have 9 clusters formed. Let's define and print these clusters and see where the students lie"
   ]
  },
  {
   "cell_type": "code",
   "execution_count": 117,
   "metadata": {
    "colab": {
     "base_uri": "https://localhost:8080/"
    },
    "id": "w52FT9ACwPU1",
    "outputId": "f13ec074-59db-4ac1-df41-f3d4b11f9be2"
   },
   "outputs": [
    {
     "data": {
      "text/plain": [
       "array([ 9,  4,  6,  4,  5,  6,  6,  7,  5,  9,  5,  8,  4,  3,  9,  9, 10,\n",
       "        4,  6,  6,  6,  5,  9,  6, 10,  8,  8,  5, 10,  3,  4,  1,  5,  5,\n",
       "        1,  6,  2], dtype=int32)"
      ]
     },
     "execution_count": 117,
     "metadata": {},
     "output_type": "execute_result"
    }
   ],
   "source": [
    "from scipy.cluster.hierarchy import fcluster\n",
    "k=10\n",
    "dend_clusters = fcluster(Z1, k, criterion='maxclust')\n",
    "dend_clusters"
   ]
  },
  {
   "cell_type": "code",
   "execution_count": 119,
   "metadata": {
    "colab": {
     "base_uri": "https://localhost:8080/",
     "height": 578
    },
    "id": "FYo9jMIPwXeM",
    "outputId": "da39ea88-84ad-4a0f-aa45-82600c089b43"
   },
   "outputs": [
    {
     "name": "stdout",
     "output_type": "stream",
     "text": [
      "\n",
      "Cluster 1\n"
     ]
    },
    {
     "data": {
      "text/plain": [
       "Index(['Venkat Patchikura', 'eknath vamsi punna'], dtype='object', name='Student Name')"
      ]
     },
     "metadata": {},
     "output_type": "display_data"
    },
    {
     "name": "stdout",
     "output_type": "stream",
     "text": [
      "\n",
      "Cluster 2\n"
     ]
    },
    {
     "data": {
      "text/plain": [
       "Index(['vrushabhkumar shrimali'], dtype='object', name='Student Name')"
      ]
     },
     "metadata": {},
     "output_type": "display_data"
    },
    {
     "name": "stdout",
     "output_type": "stream",
     "text": [
      "\n",
      "Cluster 3\n"
     ]
    },
    {
     "data": {
      "text/plain": [
       "Index(['Jenith Suvagia', 'Tejender'], dtype='object', name='Student Name')"
      ]
     },
     "metadata": {},
     "output_type": "display_data"
    },
    {
     "name": "stdout",
     "output_type": "stream",
     "text": [
      "\n",
      "Cluster 4\n"
     ]
    },
    {
     "data": {
      "text/plain": [
       "Index(['Ali', 'Brandon Inoshita', 'Jay,Patel', 'Parth Kambli', 'Tim Brice'], dtype='object', name='Student Name')"
      ]
     },
     "metadata": {},
     "output_type": "display_data"
    },
    {
     "name": "stdout",
     "output_type": "stream",
     "text": [
      "\n",
      "Cluster 5\n"
     ]
    },
    {
     "data": {
      "text/plain": [
       "Index(['Changhao Dong', 'Haodong Ma', 'Jacobson, Brian', 'Rene Padilla',\n",
       "       'Talantbek', 'Wenbo', 'anusha reddy'],\n",
       "      dtype='object', name='Student Name')"
      ]
     },
     "metadata": {},
     "output_type": "display_data"
    },
    {
     "name": "stdout",
     "output_type": "stream",
     "text": [
      "\n",
      "Cluster 6\n"
     ]
    },
    {
     "data": {
      "text/plain": [
       "Index(['Anh T', 'Clark Blatter', 'FRANCIS', 'Pavan Reddy', 'Pranjali', 'Purav',\n",
       "       'Saetbyeol Choi', 'sai'],\n",
       "      dtype='object', name='Student Name')"
      ]
     },
     "metadata": {},
     "output_type": "display_data"
    },
    {
     "name": "stdout",
     "output_type": "stream",
     "text": [
      "\n",
      "Cluster 7\n"
     ]
    },
    {
     "data": {
      "text/plain": [
       "Index(['HARSH'], dtype='object', name='Student Name')"
      ]
     },
     "metadata": {},
     "output_type": "display_data"
    },
    {
     "name": "stdout",
     "output_type": "stream",
     "text": [
      "\n",
      "Cluster 8\n"
     ]
    },
    {
     "data": {
      "text/plain": [
       "Index(['Jainam, Shah', 'Sanyuja Kadam', 'Sifa'], dtype='object', name='Student Name')"
      ]
     },
     "metadata": {},
     "output_type": "display_data"
    },
    {
     "name": "stdout",
     "output_type": "stream",
     "text": [
      "\n",
      "Cluster 9\n"
     ]
    },
    {
     "data": {
      "text/plain": [
       "Index(['Akbar', 'Harini', 'Mohammed Baleequddin', 'Nayoung', 'Rutvik Gadhiya'], dtype='object', name='Student Name')"
      ]
     },
     "metadata": {},
     "output_type": "display_data"
    }
   ],
   "source": [
    "for i in range(1, k):\n",
    "    print(\"\\nCluster\", i)\n",
    "    display(final[[\"Action\",\"Romance\",\"Adventure\",\"Average in a Week\", \"Preference 1\"]][dend_clusters == i].index)"
   ]
  },
  {
   "cell_type": "markdown",
   "metadata": {
    "id": "O9kHdP3gCnhA"
   },
   "source": [
    "So above are the 9 clusters and we can see that according to how the students have voted for \"Action\",\"Romance\",\"Adventure\",\"Average in a Week\", \"Preference 1\" they have been clubbed"
   ]
  },
  {
   "cell_type": "markdown",
   "metadata": {
    "id": "rv6UDipiDBsb"
   },
   "source": [
    "Lets print the complete data for these clusters as well"
   ]
  },
  {
   "cell_type": "code",
   "execution_count": 121,
   "metadata": {
    "colab": {
     "base_uri": "https://localhost:8080/",
     "height": 1000
    },
    "id": "wv3SKQt5O6wg",
    "outputId": "4be032af-fadf-4f03-e259-34a0f097f7f8"
   },
   "outputs": [
    {
     "name": "stdout",
     "output_type": "stream",
     "text": [
      "\n",
      "Cluster 1\n"
     ]
    },
    {
     "data": {
      "text/html": [
       "\n",
       "  <div id=\"df-5c5d80ed-7cea-432b-ae5f-2f4ad1746c27\">\n",
       "    <div class=\"colab-df-container\">\n",
       "      <div>\n",
       "<style scoped>\n",
       "    .dataframe tbody tr th:only-of-type {\n",
       "        vertical-align: middle;\n",
       "    }\n",
       "\n",
       "    .dataframe tbody tr th {\n",
       "        vertical-align: top;\n",
       "    }\n",
       "\n",
       "    .dataframe thead th {\n",
       "        text-align: right;\n",
       "    }\n",
       "</style>\n",
       "<table border=\"1\" class=\"dataframe\">\n",
       "  <thead>\n",
       "    <tr style=\"text-align: right;\">\n",
       "      <th></th>\n",
       "      <th>Action</th>\n",
       "      <th>Adventure</th>\n",
       "      <th>Comedy</th>\n",
       "      <th>Crime</th>\n",
       "      <th>Drama</th>\n",
       "      <th>Fantasy</th>\n",
       "      <th>Science Fiction</th>\n",
       "      <th>Horror</th>\n",
       "      <th>Mystery</th>\n",
       "      <th>Romance</th>\n",
       "      <th>Thriller</th>\n",
       "      <th>Documentary</th>\n",
       "      <th>Animated</th>\n",
       "      <th>Average in a Week</th>\n",
       "      <th>Preference 1</th>\n",
       "      <th>Preference 2</th>\n",
       "      <th>Preference 3</th>\n",
       "      <th>Preference 4</th>\n",
       "    </tr>\n",
       "    <tr>\n",
       "      <th>Student Name</th>\n",
       "      <th></th>\n",
       "      <th></th>\n",
       "      <th></th>\n",
       "      <th></th>\n",
       "      <th></th>\n",
       "      <th></th>\n",
       "      <th></th>\n",
       "      <th></th>\n",
       "      <th></th>\n",
       "      <th></th>\n",
       "      <th></th>\n",
       "      <th></th>\n",
       "      <th></th>\n",
       "      <th></th>\n",
       "      <th></th>\n",
       "      <th></th>\n",
       "      <th></th>\n",
       "      <th></th>\n",
       "    </tr>\n",
       "  </thead>\n",
       "  <tbody>\n",
       "    <tr>\n",
       "      <th>Venkat Patchikura</th>\n",
       "      <td>9.9</td>\n",
       "      <td>8.9</td>\n",
       "      <td>7.8</td>\n",
       "      <td>8.6</td>\n",
       "      <td>8.7</td>\n",
       "      <td>1.1</td>\n",
       "      <td>6.66</td>\n",
       "      <td>9.99</td>\n",
       "      <td>8.88</td>\n",
       "      <td>2.22</td>\n",
       "      <td>6.56</td>\n",
       "      <td>5.5</td>\n",
       "      <td>6.6</td>\n",
       "      <td>5</td>\n",
       "      <td>5</td>\n",
       "      <td>4</td>\n",
       "      <td>3</td>\n",
       "      <td>1</td>\n",
       "    </tr>\n",
       "    <tr>\n",
       "      <th>eknath vamsi punna</th>\n",
       "      <td>10.0</td>\n",
       "      <td>10.0</td>\n",
       "      <td>7.0</td>\n",
       "      <td>10.0</td>\n",
       "      <td>1.0</td>\n",
       "      <td>1.0</td>\n",
       "      <td>10.00</td>\n",
       "      <td>5.00</td>\n",
       "      <td>10.00</td>\n",
       "      <td>0.10</td>\n",
       "      <td>10.00</td>\n",
       "      <td>0.1</td>\n",
       "      <td>0.2</td>\n",
       "      <td>5</td>\n",
       "      <td>3</td>\n",
       "      <td>3</td>\n",
       "      <td>3</td>\n",
       "      <td>1</td>\n",
       "    </tr>\n",
       "  </tbody>\n",
       "</table>\n",
       "</div>\n",
       "      <button class=\"colab-df-convert\" onclick=\"convertToInteractive('df-5c5d80ed-7cea-432b-ae5f-2f4ad1746c27')\"\n",
       "              title=\"Convert this dataframe to an interactive table.\"\n",
       "              style=\"display:none;\">\n",
       "        \n",
       "  <svg xmlns=\"http://www.w3.org/2000/svg\" height=\"24px\"viewBox=\"0 0 24 24\"\n",
       "       width=\"24px\">\n",
       "    <path d=\"M0 0h24v24H0V0z\" fill=\"none\"/>\n",
       "    <path d=\"M18.56 5.44l.94 2.06.94-2.06 2.06-.94-2.06-.94-.94-2.06-.94 2.06-2.06.94zm-11 1L8.5 8.5l.94-2.06 2.06-.94-2.06-.94L8.5 2.5l-.94 2.06-2.06.94zm10 10l.94 2.06.94-2.06 2.06-.94-2.06-.94-.94-2.06-.94 2.06-2.06.94z\"/><path d=\"M17.41 7.96l-1.37-1.37c-.4-.4-.92-.59-1.43-.59-.52 0-1.04.2-1.43.59L10.3 9.45l-7.72 7.72c-.78.78-.78 2.05 0 2.83L4 21.41c.39.39.9.59 1.41.59.51 0 1.02-.2 1.41-.59l7.78-7.78 2.81-2.81c.8-.78.8-2.07 0-2.86zM5.41 20L4 18.59l7.72-7.72 1.47 1.35L5.41 20z\"/>\n",
       "  </svg>\n",
       "      </button>\n",
       "      \n",
       "  <style>\n",
       "    .colab-df-container {\n",
       "      display:flex;\n",
       "      flex-wrap:wrap;\n",
       "      gap: 12px;\n",
       "    }\n",
       "\n",
       "    .colab-df-convert {\n",
       "      background-color: #E8F0FE;\n",
       "      border: none;\n",
       "      border-radius: 50%;\n",
       "      cursor: pointer;\n",
       "      display: none;\n",
       "      fill: #1967D2;\n",
       "      height: 32px;\n",
       "      padding: 0 0 0 0;\n",
       "      width: 32px;\n",
       "    }\n",
       "\n",
       "    .colab-df-convert:hover {\n",
       "      background-color: #E2EBFA;\n",
       "      box-shadow: 0px 1px 2px rgba(60, 64, 67, 0.3), 0px 1px 3px 1px rgba(60, 64, 67, 0.15);\n",
       "      fill: #174EA6;\n",
       "    }\n",
       "\n",
       "    [theme=dark] .colab-df-convert {\n",
       "      background-color: #3B4455;\n",
       "      fill: #D2E3FC;\n",
       "    }\n",
       "\n",
       "    [theme=dark] .colab-df-convert:hover {\n",
       "      background-color: #434B5C;\n",
       "      box-shadow: 0px 1px 3px 1px rgba(0, 0, 0, 0.15);\n",
       "      filter: drop-shadow(0px 1px 2px rgba(0, 0, 0, 0.3));\n",
       "      fill: #FFFFFF;\n",
       "    }\n",
       "  </style>\n",
       "\n",
       "      <script>\n",
       "        const buttonEl =\n",
       "          document.querySelector('#df-5c5d80ed-7cea-432b-ae5f-2f4ad1746c27 button.colab-df-convert');\n",
       "        buttonEl.style.display =\n",
       "          google.colab.kernel.accessAllowed ? 'block' : 'none';\n",
       "\n",
       "        async function convertToInteractive(key) {\n",
       "          const element = document.querySelector('#df-5c5d80ed-7cea-432b-ae5f-2f4ad1746c27');\n",
       "          const dataTable =\n",
       "            await google.colab.kernel.invokeFunction('convertToInteractive',\n",
       "                                                     [key], {});\n",
       "          if (!dataTable) return;\n",
       "\n",
       "          const docLinkHtml = 'Like what you see? Visit the ' +\n",
       "            '<a target=\"_blank\" href=https://colab.research.google.com/notebooks/data_table.ipynb>data table notebook</a>'\n",
       "            + ' to learn more about interactive tables.';\n",
       "          element.innerHTML = '';\n",
       "          dataTable['output_type'] = 'display_data';\n",
       "          await google.colab.output.renderOutput(dataTable, element);\n",
       "          const docLink = document.createElement('div');\n",
       "          docLink.innerHTML = docLinkHtml;\n",
       "          element.appendChild(docLink);\n",
       "        }\n",
       "      </script>\n",
       "    </div>\n",
       "  </div>\n",
       "  "
      ],
      "text/plain": [
       "                    Action  Adventure  Comedy  Crime  Drama  Fantasy  \\\n",
       "Student Name                                                           \n",
       "Venkat Patchikura      9.9        8.9     7.8    8.6    8.7      1.1   \n",
       "eknath vamsi punna    10.0       10.0     7.0   10.0    1.0      1.0   \n",
       "\n",
       "                    Science Fiction  Horror  Mystery  Romance  Thriller  \\\n",
       "Student Name                                                              \n",
       "Venkat Patchikura              6.66    9.99     8.88     2.22      6.56   \n",
       "eknath vamsi punna            10.00    5.00    10.00     0.10     10.00   \n",
       "\n",
       "                    Documentary  Animated  Average in a Week  Preference 1  \\\n",
       "Student Name                                                                 \n",
       "Venkat Patchikura           5.5       6.6                  5             5   \n",
       "eknath vamsi punna          0.1       0.2                  5             3   \n",
       "\n",
       "                    Preference 2  Preference 3  Preference 4  \n",
       "Student Name                                                  \n",
       "Venkat Patchikura              4             3             1  \n",
       "eknath vamsi punna             3             3             1  "
      ]
     },
     "metadata": {},
     "output_type": "display_data"
    },
    {
     "name": "stdout",
     "output_type": "stream",
     "text": [
      "\n",
      "Cluster 2\n"
     ]
    },
    {
     "data": {
      "text/html": [
       "\n",
       "  <div id=\"df-0d61188f-d404-4dc2-9060-fa7f0f94deab\">\n",
       "    <div class=\"colab-df-container\">\n",
       "      <div>\n",
       "<style scoped>\n",
       "    .dataframe tbody tr th:only-of-type {\n",
       "        vertical-align: middle;\n",
       "    }\n",
       "\n",
       "    .dataframe tbody tr th {\n",
       "        vertical-align: top;\n",
       "    }\n",
       "\n",
       "    .dataframe thead th {\n",
       "        text-align: right;\n",
       "    }\n",
       "</style>\n",
       "<table border=\"1\" class=\"dataframe\">\n",
       "  <thead>\n",
       "    <tr style=\"text-align: right;\">\n",
       "      <th></th>\n",
       "      <th>Action</th>\n",
       "      <th>Adventure</th>\n",
       "      <th>Comedy</th>\n",
       "      <th>Crime</th>\n",
       "      <th>Drama</th>\n",
       "      <th>Fantasy</th>\n",
       "      <th>Science Fiction</th>\n",
       "      <th>Horror</th>\n",
       "      <th>Mystery</th>\n",
       "      <th>Romance</th>\n",
       "      <th>Thriller</th>\n",
       "      <th>Documentary</th>\n",
       "      <th>Animated</th>\n",
       "      <th>Average in a Week</th>\n",
       "      <th>Preference 1</th>\n",
       "      <th>Preference 2</th>\n",
       "      <th>Preference 3</th>\n",
       "      <th>Preference 4</th>\n",
       "    </tr>\n",
       "    <tr>\n",
       "      <th>Student Name</th>\n",
       "      <th></th>\n",
       "      <th></th>\n",
       "      <th></th>\n",
       "      <th></th>\n",
       "      <th></th>\n",
       "      <th></th>\n",
       "      <th></th>\n",
       "      <th></th>\n",
       "      <th></th>\n",
       "      <th></th>\n",
       "      <th></th>\n",
       "      <th></th>\n",
       "      <th></th>\n",
       "      <th></th>\n",
       "      <th></th>\n",
       "      <th></th>\n",
       "      <th></th>\n",
       "      <th></th>\n",
       "    </tr>\n",
       "  </thead>\n",
       "  <tbody>\n",
       "    <tr>\n",
       "      <th>vrushabhkumar shrimali</th>\n",
       "      <td>10.0</td>\n",
       "      <td>10.0</td>\n",
       "      <td>10.0</td>\n",
       "      <td>9.0</td>\n",
       "      <td>6.0</td>\n",
       "      <td>8.0</td>\n",
       "      <td>6.0</td>\n",
       "      <td>9.0</td>\n",
       "      <td>10.0</td>\n",
       "      <td>1.0</td>\n",
       "      <td>6.0</td>\n",
       "      <td>3.0</td>\n",
       "      <td>10.0</td>\n",
       "      <td>1</td>\n",
       "      <td>1</td>\n",
       "      <td>1</td>\n",
       "      <td>1</td>\n",
       "      <td>0</td>\n",
       "    </tr>\n",
       "  </tbody>\n",
       "</table>\n",
       "</div>\n",
       "      <button class=\"colab-df-convert\" onclick=\"convertToInteractive('df-0d61188f-d404-4dc2-9060-fa7f0f94deab')\"\n",
       "              title=\"Convert this dataframe to an interactive table.\"\n",
       "              style=\"display:none;\">\n",
       "        \n",
       "  <svg xmlns=\"http://www.w3.org/2000/svg\" height=\"24px\"viewBox=\"0 0 24 24\"\n",
       "       width=\"24px\">\n",
       "    <path d=\"M0 0h24v24H0V0z\" fill=\"none\"/>\n",
       "    <path d=\"M18.56 5.44l.94 2.06.94-2.06 2.06-.94-2.06-.94-.94-2.06-.94 2.06-2.06.94zm-11 1L8.5 8.5l.94-2.06 2.06-.94-2.06-.94L8.5 2.5l-.94 2.06-2.06.94zm10 10l.94 2.06.94-2.06 2.06-.94-2.06-.94-.94-2.06-.94 2.06-2.06.94z\"/><path d=\"M17.41 7.96l-1.37-1.37c-.4-.4-.92-.59-1.43-.59-.52 0-1.04.2-1.43.59L10.3 9.45l-7.72 7.72c-.78.78-.78 2.05 0 2.83L4 21.41c.39.39.9.59 1.41.59.51 0 1.02-.2 1.41-.59l7.78-7.78 2.81-2.81c.8-.78.8-2.07 0-2.86zM5.41 20L4 18.59l7.72-7.72 1.47 1.35L5.41 20z\"/>\n",
       "  </svg>\n",
       "      </button>\n",
       "      \n",
       "  <style>\n",
       "    .colab-df-container {\n",
       "      display:flex;\n",
       "      flex-wrap:wrap;\n",
       "      gap: 12px;\n",
       "    }\n",
       "\n",
       "    .colab-df-convert {\n",
       "      background-color: #E8F0FE;\n",
       "      border: none;\n",
       "      border-radius: 50%;\n",
       "      cursor: pointer;\n",
       "      display: none;\n",
       "      fill: #1967D2;\n",
       "      height: 32px;\n",
       "      padding: 0 0 0 0;\n",
       "      width: 32px;\n",
       "    }\n",
       "\n",
       "    .colab-df-convert:hover {\n",
       "      background-color: #E2EBFA;\n",
       "      box-shadow: 0px 1px 2px rgba(60, 64, 67, 0.3), 0px 1px 3px 1px rgba(60, 64, 67, 0.15);\n",
       "      fill: #174EA6;\n",
       "    }\n",
       "\n",
       "    [theme=dark] .colab-df-convert {\n",
       "      background-color: #3B4455;\n",
       "      fill: #D2E3FC;\n",
       "    }\n",
       "\n",
       "    [theme=dark] .colab-df-convert:hover {\n",
       "      background-color: #434B5C;\n",
       "      box-shadow: 0px 1px 3px 1px rgba(0, 0, 0, 0.15);\n",
       "      filter: drop-shadow(0px 1px 2px rgba(0, 0, 0, 0.3));\n",
       "      fill: #FFFFFF;\n",
       "    }\n",
       "  </style>\n",
       "\n",
       "      <script>\n",
       "        const buttonEl =\n",
       "          document.querySelector('#df-0d61188f-d404-4dc2-9060-fa7f0f94deab button.colab-df-convert');\n",
       "        buttonEl.style.display =\n",
       "          google.colab.kernel.accessAllowed ? 'block' : 'none';\n",
       "\n",
       "        async function convertToInteractive(key) {\n",
       "          const element = document.querySelector('#df-0d61188f-d404-4dc2-9060-fa7f0f94deab');\n",
       "          const dataTable =\n",
       "            await google.colab.kernel.invokeFunction('convertToInteractive',\n",
       "                                                     [key], {});\n",
       "          if (!dataTable) return;\n",
       "\n",
       "          const docLinkHtml = 'Like what you see? Visit the ' +\n",
       "            '<a target=\"_blank\" href=https://colab.research.google.com/notebooks/data_table.ipynb>data table notebook</a>'\n",
       "            + ' to learn more about interactive tables.';\n",
       "          element.innerHTML = '';\n",
       "          dataTable['output_type'] = 'display_data';\n",
       "          await google.colab.output.renderOutput(dataTable, element);\n",
       "          const docLink = document.createElement('div');\n",
       "          docLink.innerHTML = docLinkHtml;\n",
       "          element.appendChild(docLink);\n",
       "        }\n",
       "      </script>\n",
       "    </div>\n",
       "  </div>\n",
       "  "
      ],
      "text/plain": [
       "                        Action  Adventure  Comedy  Crime  Drama  Fantasy  \\\n",
       "Student Name                                                               \n",
       "vrushabhkumar shrimali    10.0       10.0    10.0    9.0    6.0      8.0   \n",
       "\n",
       "                        Science Fiction  Horror  Mystery  Romance  Thriller  \\\n",
       "Student Name                                                                  \n",
       "vrushabhkumar shrimali              6.0     9.0     10.0      1.0       6.0   \n",
       "\n",
       "                        Documentary  Animated  Average in a Week  \\\n",
       "Student Name                                                       \n",
       "vrushabhkumar shrimali          3.0      10.0                  1   \n",
       "\n",
       "                        Preference 1  Preference 2  Preference 3  Preference 4  \n",
       "Student Name                                                                    \n",
       "vrushabhkumar shrimali             1             1             1             0  "
      ]
     },
     "metadata": {},
     "output_type": "display_data"
    },
    {
     "name": "stdout",
     "output_type": "stream",
     "text": [
      "\n",
      "Cluster 3\n"
     ]
    },
    {
     "data": {
      "text/html": [
       "\n",
       "  <div id=\"df-6e3986b2-a5e6-4521-b4fc-2b7d6d163ef8\">\n",
       "    <div class=\"colab-df-container\">\n",
       "      <div>\n",
       "<style scoped>\n",
       "    .dataframe tbody tr th:only-of-type {\n",
       "        vertical-align: middle;\n",
       "    }\n",
       "\n",
       "    .dataframe tbody tr th {\n",
       "        vertical-align: top;\n",
       "    }\n",
       "\n",
       "    .dataframe thead th {\n",
       "        text-align: right;\n",
       "    }\n",
       "</style>\n",
       "<table border=\"1\" class=\"dataframe\">\n",
       "  <thead>\n",
       "    <tr style=\"text-align: right;\">\n",
       "      <th></th>\n",
       "      <th>Action</th>\n",
       "      <th>Adventure</th>\n",
       "      <th>Comedy</th>\n",
       "      <th>Crime</th>\n",
       "      <th>Drama</th>\n",
       "      <th>Fantasy</th>\n",
       "      <th>Science Fiction</th>\n",
       "      <th>Horror</th>\n",
       "      <th>Mystery</th>\n",
       "      <th>Romance</th>\n",
       "      <th>Thriller</th>\n",
       "      <th>Documentary</th>\n",
       "      <th>Animated</th>\n",
       "      <th>Average in a Week</th>\n",
       "      <th>Preference 1</th>\n",
       "      <th>Preference 2</th>\n",
       "      <th>Preference 3</th>\n",
       "      <th>Preference 4</th>\n",
       "    </tr>\n",
       "    <tr>\n",
       "      <th>Student Name</th>\n",
       "      <th></th>\n",
       "      <th></th>\n",
       "      <th></th>\n",
       "      <th></th>\n",
       "      <th></th>\n",
       "      <th></th>\n",
       "      <th></th>\n",
       "      <th></th>\n",
       "      <th></th>\n",
       "      <th></th>\n",
       "      <th></th>\n",
       "      <th></th>\n",
       "      <th></th>\n",
       "      <th></th>\n",
       "      <th></th>\n",
       "      <th></th>\n",
       "      <th></th>\n",
       "      <th></th>\n",
       "    </tr>\n",
       "  </thead>\n",
       "  <tbody>\n",
       "    <tr>\n",
       "      <th>Jenith Suvagia</th>\n",
       "      <td>9.9</td>\n",
       "      <td>6.9</td>\n",
       "      <td>8.6</td>\n",
       "      <td>8.5</td>\n",
       "      <td>8.4</td>\n",
       "      <td>5.5</td>\n",
       "      <td>8.3</td>\n",
       "      <td>9.9</td>\n",
       "      <td>8.3</td>\n",
       "      <td>4.3</td>\n",
       "      <td>8.5</td>\n",
       "      <td>3.2</td>\n",
       "      <td>7.6</td>\n",
       "      <td>1</td>\n",
       "      <td>5</td>\n",
       "      <td>4</td>\n",
       "      <td>3</td>\n",
       "      <td>1</td>\n",
       "    </tr>\n",
       "    <tr>\n",
       "      <th>Tejender</th>\n",
       "      <td>8.5</td>\n",
       "      <td>9.0</td>\n",
       "      <td>6.5</td>\n",
       "      <td>9.0</td>\n",
       "      <td>1.5</td>\n",
       "      <td>6.0</td>\n",
       "      <td>9.5</td>\n",
       "      <td>5.0</td>\n",
       "      <td>8.0</td>\n",
       "      <td>3.0</td>\n",
       "      <td>7.0</td>\n",
       "      <td>6.5</td>\n",
       "      <td>6.5</td>\n",
       "      <td>1</td>\n",
       "      <td>5</td>\n",
       "      <td>4</td>\n",
       "      <td>3</td>\n",
       "      <td>1</td>\n",
       "    </tr>\n",
       "  </tbody>\n",
       "</table>\n",
       "</div>\n",
       "      <button class=\"colab-df-convert\" onclick=\"convertToInteractive('df-6e3986b2-a5e6-4521-b4fc-2b7d6d163ef8')\"\n",
       "              title=\"Convert this dataframe to an interactive table.\"\n",
       "              style=\"display:none;\">\n",
       "        \n",
       "  <svg xmlns=\"http://www.w3.org/2000/svg\" height=\"24px\"viewBox=\"0 0 24 24\"\n",
       "       width=\"24px\">\n",
       "    <path d=\"M0 0h24v24H0V0z\" fill=\"none\"/>\n",
       "    <path d=\"M18.56 5.44l.94 2.06.94-2.06 2.06-.94-2.06-.94-.94-2.06-.94 2.06-2.06.94zm-11 1L8.5 8.5l.94-2.06 2.06-.94-2.06-.94L8.5 2.5l-.94 2.06-2.06.94zm10 10l.94 2.06.94-2.06 2.06-.94-2.06-.94-.94-2.06-.94 2.06-2.06.94z\"/><path d=\"M17.41 7.96l-1.37-1.37c-.4-.4-.92-.59-1.43-.59-.52 0-1.04.2-1.43.59L10.3 9.45l-7.72 7.72c-.78.78-.78 2.05 0 2.83L4 21.41c.39.39.9.59 1.41.59.51 0 1.02-.2 1.41-.59l7.78-7.78 2.81-2.81c.8-.78.8-2.07 0-2.86zM5.41 20L4 18.59l7.72-7.72 1.47 1.35L5.41 20z\"/>\n",
       "  </svg>\n",
       "      </button>\n",
       "      \n",
       "  <style>\n",
       "    .colab-df-container {\n",
       "      display:flex;\n",
       "      flex-wrap:wrap;\n",
       "      gap: 12px;\n",
       "    }\n",
       "\n",
       "    .colab-df-convert {\n",
       "      background-color: #E8F0FE;\n",
       "      border: none;\n",
       "      border-radius: 50%;\n",
       "      cursor: pointer;\n",
       "      display: none;\n",
       "      fill: #1967D2;\n",
       "      height: 32px;\n",
       "      padding: 0 0 0 0;\n",
       "      width: 32px;\n",
       "    }\n",
       "\n",
       "    .colab-df-convert:hover {\n",
       "      background-color: #E2EBFA;\n",
       "      box-shadow: 0px 1px 2px rgba(60, 64, 67, 0.3), 0px 1px 3px 1px rgba(60, 64, 67, 0.15);\n",
       "      fill: #174EA6;\n",
       "    }\n",
       "\n",
       "    [theme=dark] .colab-df-convert {\n",
       "      background-color: #3B4455;\n",
       "      fill: #D2E3FC;\n",
       "    }\n",
       "\n",
       "    [theme=dark] .colab-df-convert:hover {\n",
       "      background-color: #434B5C;\n",
       "      box-shadow: 0px 1px 3px 1px rgba(0, 0, 0, 0.15);\n",
       "      filter: drop-shadow(0px 1px 2px rgba(0, 0, 0, 0.3));\n",
       "      fill: #FFFFFF;\n",
       "    }\n",
       "  </style>\n",
       "\n",
       "      <script>\n",
       "        const buttonEl =\n",
       "          document.querySelector('#df-6e3986b2-a5e6-4521-b4fc-2b7d6d163ef8 button.colab-df-convert');\n",
       "        buttonEl.style.display =\n",
       "          google.colab.kernel.accessAllowed ? 'block' : 'none';\n",
       "\n",
       "        async function convertToInteractive(key) {\n",
       "          const element = document.querySelector('#df-6e3986b2-a5e6-4521-b4fc-2b7d6d163ef8');\n",
       "          const dataTable =\n",
       "            await google.colab.kernel.invokeFunction('convertToInteractive',\n",
       "                                                     [key], {});\n",
       "          if (!dataTable) return;\n",
       "\n",
       "          const docLinkHtml = 'Like what you see? Visit the ' +\n",
       "            '<a target=\"_blank\" href=https://colab.research.google.com/notebooks/data_table.ipynb>data table notebook</a>'\n",
       "            + ' to learn more about interactive tables.';\n",
       "          element.innerHTML = '';\n",
       "          dataTable['output_type'] = 'display_data';\n",
       "          await google.colab.output.renderOutput(dataTable, element);\n",
       "          const docLink = document.createElement('div');\n",
       "          docLink.innerHTML = docLinkHtml;\n",
       "          element.appendChild(docLink);\n",
       "        }\n",
       "      </script>\n",
       "    </div>\n",
       "  </div>\n",
       "  "
      ],
      "text/plain": [
       "                Action  Adventure  Comedy  Crime  Drama  Fantasy  \\\n",
       "Student Name                                                       \n",
       "Jenith Suvagia     9.9        6.9     8.6    8.5    8.4      5.5   \n",
       "Tejender           8.5        9.0     6.5    9.0    1.5      6.0   \n",
       "\n",
       "                Science Fiction  Horror  Mystery  Romance  Thriller  \\\n",
       "Student Name                                                          \n",
       "Jenith Suvagia              8.3     9.9      8.3      4.3       8.5   \n",
       "Tejender                    9.5     5.0      8.0      3.0       7.0   \n",
       "\n",
       "                Documentary  Animated  Average in a Week  Preference 1  \\\n",
       "Student Name                                                             \n",
       "Jenith Suvagia          3.2       7.6                  1             5   \n",
       "Tejender                6.5       6.5                  1             5   \n",
       "\n",
       "                Preference 2  Preference 3  Preference 4  \n",
       "Student Name                                              \n",
       "Jenith Suvagia             4             3             1  \n",
       "Tejender                   4             3             1  "
      ]
     },
     "metadata": {},
     "output_type": "display_data"
    },
    {
     "name": "stdout",
     "output_type": "stream",
     "text": [
      "\n",
      "Cluster 4\n"
     ]
    },
    {
     "data": {
      "text/html": [
       "\n",
       "  <div id=\"df-b6270640-91e4-4c30-92be-b8dd172d98ba\">\n",
       "    <div class=\"colab-df-container\">\n",
       "      <div>\n",
       "<style scoped>\n",
       "    .dataframe tbody tr th:only-of-type {\n",
       "        vertical-align: middle;\n",
       "    }\n",
       "\n",
       "    .dataframe tbody tr th {\n",
       "        vertical-align: top;\n",
       "    }\n",
       "\n",
       "    .dataframe thead th {\n",
       "        text-align: right;\n",
       "    }\n",
       "</style>\n",
       "<table border=\"1\" class=\"dataframe\">\n",
       "  <thead>\n",
       "    <tr style=\"text-align: right;\">\n",
       "      <th></th>\n",
       "      <th>Action</th>\n",
       "      <th>Adventure</th>\n",
       "      <th>Comedy</th>\n",
       "      <th>Crime</th>\n",
       "      <th>Drama</th>\n",
       "      <th>Fantasy</th>\n",
       "      <th>Science Fiction</th>\n",
       "      <th>Horror</th>\n",
       "      <th>Mystery</th>\n",
       "      <th>Romance</th>\n",
       "      <th>Thriller</th>\n",
       "      <th>Documentary</th>\n",
       "      <th>Animated</th>\n",
       "      <th>Average in a Week</th>\n",
       "      <th>Preference 1</th>\n",
       "      <th>Preference 2</th>\n",
       "      <th>Preference 3</th>\n",
       "      <th>Preference 4</th>\n",
       "    </tr>\n",
       "    <tr>\n",
       "      <th>Student Name</th>\n",
       "      <th></th>\n",
       "      <th></th>\n",
       "      <th></th>\n",
       "      <th></th>\n",
       "      <th></th>\n",
       "      <th></th>\n",
       "      <th></th>\n",
       "      <th></th>\n",
       "      <th></th>\n",
       "      <th></th>\n",
       "      <th></th>\n",
       "      <th></th>\n",
       "      <th></th>\n",
       "      <th></th>\n",
       "      <th></th>\n",
       "      <th></th>\n",
       "      <th></th>\n",
       "      <th></th>\n",
       "    </tr>\n",
       "  </thead>\n",
       "  <tbody>\n",
       "    <tr>\n",
       "      <th>Ali</th>\n",
       "      <td>6.0</td>\n",
       "      <td>6.0</td>\n",
       "      <td>6.0</td>\n",
       "      <td>5.0</td>\n",
       "      <td>7.0</td>\n",
       "      <td>3.0</td>\n",
       "      <td>10.0</td>\n",
       "      <td>3.0</td>\n",
       "      <td>7.0</td>\n",
       "      <td>4.0</td>\n",
       "      <td>5.0</td>\n",
       "      <td>9.0</td>\n",
       "      <td>7.0</td>\n",
       "      <td>1</td>\n",
       "      <td>0</td>\n",
       "      <td>2</td>\n",
       "      <td>3</td>\n",
       "      <td>1</td>\n",
       "    </tr>\n",
       "    <tr>\n",
       "      <th>Brandon Inoshita</th>\n",
       "      <td>8.9</td>\n",
       "      <td>9.1</td>\n",
       "      <td>5.6</td>\n",
       "      <td>6.1</td>\n",
       "      <td>1.2</td>\n",
       "      <td>9.3</td>\n",
       "      <td>9.0</td>\n",
       "      <td>6.2</td>\n",
       "      <td>6.3</td>\n",
       "      <td>5.2</td>\n",
       "      <td>8.3</td>\n",
       "      <td>7.2</td>\n",
       "      <td>9.7</td>\n",
       "      <td>2</td>\n",
       "      <td>0</td>\n",
       "      <td>4</td>\n",
       "      <td>3</td>\n",
       "      <td>1</td>\n",
       "    </tr>\n",
       "    <tr>\n",
       "      <th>Jay,Patel</th>\n",
       "      <td>7.8</td>\n",
       "      <td>7.9</td>\n",
       "      <td>9.8</td>\n",
       "      <td>3.4</td>\n",
       "      <td>5.6</td>\n",
       "      <td>3.4</td>\n",
       "      <td>9.8</td>\n",
       "      <td>5.4</td>\n",
       "      <td>7.8</td>\n",
       "      <td>4.5</td>\n",
       "      <td>9.8</td>\n",
       "      <td>5.6</td>\n",
       "      <td>6.7</td>\n",
       "      <td>2</td>\n",
       "      <td>0</td>\n",
       "      <td>4</td>\n",
       "      <td>3</td>\n",
       "      <td>1</td>\n",
       "    </tr>\n",
       "    <tr>\n",
       "      <th>Parth Kambli</th>\n",
       "      <td>7.7</td>\n",
       "      <td>7.4</td>\n",
       "      <td>6.9</td>\n",
       "      <td>3.7</td>\n",
       "      <td>2.1</td>\n",
       "      <td>1.1</td>\n",
       "      <td>8.9</td>\n",
       "      <td>6.9</td>\n",
       "      <td>5.4</td>\n",
       "      <td>3.1</td>\n",
       "      <td>9.6</td>\n",
       "      <td>10.0</td>\n",
       "      <td>10.0</td>\n",
       "      <td>0</td>\n",
       "      <td>0</td>\n",
       "      <td>4</td>\n",
       "      <td>3</td>\n",
       "      <td>1</td>\n",
       "    </tr>\n",
       "    <tr>\n",
       "      <th>Tim Brice</th>\n",
       "      <td>7.8</td>\n",
       "      <td>8.4</td>\n",
       "      <td>6.4</td>\n",
       "      <td>5.4</td>\n",
       "      <td>4.9</td>\n",
       "      <td>8.5</td>\n",
       "      <td>9.2</td>\n",
       "      <td>3.5</td>\n",
       "      <td>6.1</td>\n",
       "      <td>4.5</td>\n",
       "      <td>5.7</td>\n",
       "      <td>3.9</td>\n",
       "      <td>7.9</td>\n",
       "      <td>3</td>\n",
       "      <td>0</td>\n",
       "      <td>4</td>\n",
       "      <td>3</td>\n",
       "      <td>1</td>\n",
       "    </tr>\n",
       "  </tbody>\n",
       "</table>\n",
       "</div>\n",
       "      <button class=\"colab-df-convert\" onclick=\"convertToInteractive('df-b6270640-91e4-4c30-92be-b8dd172d98ba')\"\n",
       "              title=\"Convert this dataframe to an interactive table.\"\n",
       "              style=\"display:none;\">\n",
       "        \n",
       "  <svg xmlns=\"http://www.w3.org/2000/svg\" height=\"24px\"viewBox=\"0 0 24 24\"\n",
       "       width=\"24px\">\n",
       "    <path d=\"M0 0h24v24H0V0z\" fill=\"none\"/>\n",
       "    <path d=\"M18.56 5.44l.94 2.06.94-2.06 2.06-.94-2.06-.94-.94-2.06-.94 2.06-2.06.94zm-11 1L8.5 8.5l.94-2.06 2.06-.94-2.06-.94L8.5 2.5l-.94 2.06-2.06.94zm10 10l.94 2.06.94-2.06 2.06-.94-2.06-.94-.94-2.06-.94 2.06-2.06.94z\"/><path d=\"M17.41 7.96l-1.37-1.37c-.4-.4-.92-.59-1.43-.59-.52 0-1.04.2-1.43.59L10.3 9.45l-7.72 7.72c-.78.78-.78 2.05 0 2.83L4 21.41c.39.39.9.59 1.41.59.51 0 1.02-.2 1.41-.59l7.78-7.78 2.81-2.81c.8-.78.8-2.07 0-2.86zM5.41 20L4 18.59l7.72-7.72 1.47 1.35L5.41 20z\"/>\n",
       "  </svg>\n",
       "      </button>\n",
       "      \n",
       "  <style>\n",
       "    .colab-df-container {\n",
       "      display:flex;\n",
       "      flex-wrap:wrap;\n",
       "      gap: 12px;\n",
       "    }\n",
       "\n",
       "    .colab-df-convert {\n",
       "      background-color: #E8F0FE;\n",
       "      border: none;\n",
       "      border-radius: 50%;\n",
       "      cursor: pointer;\n",
       "      display: none;\n",
       "      fill: #1967D2;\n",
       "      height: 32px;\n",
       "      padding: 0 0 0 0;\n",
       "      width: 32px;\n",
       "    }\n",
       "\n",
       "    .colab-df-convert:hover {\n",
       "      background-color: #E2EBFA;\n",
       "      box-shadow: 0px 1px 2px rgba(60, 64, 67, 0.3), 0px 1px 3px 1px rgba(60, 64, 67, 0.15);\n",
       "      fill: #174EA6;\n",
       "    }\n",
       "\n",
       "    [theme=dark] .colab-df-convert {\n",
       "      background-color: #3B4455;\n",
       "      fill: #D2E3FC;\n",
       "    }\n",
       "\n",
       "    [theme=dark] .colab-df-convert:hover {\n",
       "      background-color: #434B5C;\n",
       "      box-shadow: 0px 1px 3px 1px rgba(0, 0, 0, 0.15);\n",
       "      filter: drop-shadow(0px 1px 2px rgba(0, 0, 0, 0.3));\n",
       "      fill: #FFFFFF;\n",
       "    }\n",
       "  </style>\n",
       "\n",
       "      <script>\n",
       "        const buttonEl =\n",
       "          document.querySelector('#df-b6270640-91e4-4c30-92be-b8dd172d98ba button.colab-df-convert');\n",
       "        buttonEl.style.display =\n",
       "          google.colab.kernel.accessAllowed ? 'block' : 'none';\n",
       "\n",
       "        async function convertToInteractive(key) {\n",
       "          const element = document.querySelector('#df-b6270640-91e4-4c30-92be-b8dd172d98ba');\n",
       "          const dataTable =\n",
       "            await google.colab.kernel.invokeFunction('convertToInteractive',\n",
       "                                                     [key], {});\n",
       "          if (!dataTable) return;\n",
       "\n",
       "          const docLinkHtml = 'Like what you see? Visit the ' +\n",
       "            '<a target=\"_blank\" href=https://colab.research.google.com/notebooks/data_table.ipynb>data table notebook</a>'\n",
       "            + ' to learn more about interactive tables.';\n",
       "          element.innerHTML = '';\n",
       "          dataTable['output_type'] = 'display_data';\n",
       "          await google.colab.output.renderOutput(dataTable, element);\n",
       "          const docLink = document.createElement('div');\n",
       "          docLink.innerHTML = docLinkHtml;\n",
       "          element.appendChild(docLink);\n",
       "        }\n",
       "      </script>\n",
       "    </div>\n",
       "  </div>\n",
       "  "
      ],
      "text/plain": [
       "                  Action  Adventure  Comedy  Crime  Drama  Fantasy  \\\n",
       "Student Name                                                         \n",
       "Ali                  6.0        6.0     6.0    5.0    7.0      3.0   \n",
       "Brandon Inoshita     8.9        9.1     5.6    6.1    1.2      9.3   \n",
       "Jay,Patel            7.8        7.9     9.8    3.4    5.6      3.4   \n",
       "Parth Kambli         7.7        7.4     6.9    3.7    2.1      1.1   \n",
       "Tim Brice            7.8        8.4     6.4    5.4    4.9      8.5   \n",
       "\n",
       "                  Science Fiction  Horror  Mystery  Romance  Thriller  \\\n",
       "Student Name                                                            \n",
       "Ali                          10.0     3.0      7.0      4.0       5.0   \n",
       "Brandon Inoshita              9.0     6.2      6.3      5.2       8.3   \n",
       "Jay,Patel                     9.8     5.4      7.8      4.5       9.8   \n",
       "Parth Kambli                  8.9     6.9      5.4      3.1       9.6   \n",
       "Tim Brice                     9.2     3.5      6.1      4.5       5.7   \n",
       "\n",
       "                  Documentary  Animated  Average in a Week  Preference 1  \\\n",
       "Student Name                                                               \n",
       "Ali                       9.0       7.0                  1             0   \n",
       "Brandon Inoshita          7.2       9.7                  2             0   \n",
       "Jay,Patel                 5.6       6.7                  2             0   \n",
       "Parth Kambli             10.0      10.0                  0             0   \n",
       "Tim Brice                 3.9       7.9                  3             0   \n",
       "\n",
       "                  Preference 2  Preference 3  Preference 4  \n",
       "Student Name                                                \n",
       "Ali                          2             3             1  \n",
       "Brandon Inoshita             4             3             1  \n",
       "Jay,Patel                    4             3             1  \n",
       "Parth Kambli                 4             3             1  \n",
       "Tim Brice                    4             3             1  "
      ]
     },
     "metadata": {},
     "output_type": "display_data"
    },
    {
     "name": "stdout",
     "output_type": "stream",
     "text": [
      "\n",
      "Cluster 5\n"
     ]
    },
    {
     "data": {
      "text/html": [
       "\n",
       "  <div id=\"df-de88aed7-bcb9-4414-b2d4-421459075eec\">\n",
       "    <div class=\"colab-df-container\">\n",
       "      <div>\n",
       "<style scoped>\n",
       "    .dataframe tbody tr th:only-of-type {\n",
       "        vertical-align: middle;\n",
       "    }\n",
       "\n",
       "    .dataframe tbody tr th {\n",
       "        vertical-align: top;\n",
       "    }\n",
       "\n",
       "    .dataframe thead th {\n",
       "        text-align: right;\n",
       "    }\n",
       "</style>\n",
       "<table border=\"1\" class=\"dataframe\">\n",
       "  <thead>\n",
       "    <tr style=\"text-align: right;\">\n",
       "      <th></th>\n",
       "      <th>Action</th>\n",
       "      <th>Adventure</th>\n",
       "      <th>Comedy</th>\n",
       "      <th>Crime</th>\n",
       "      <th>Drama</th>\n",
       "      <th>Fantasy</th>\n",
       "      <th>Science Fiction</th>\n",
       "      <th>Horror</th>\n",
       "      <th>Mystery</th>\n",
       "      <th>Romance</th>\n",
       "      <th>Thriller</th>\n",
       "      <th>Documentary</th>\n",
       "      <th>Animated</th>\n",
       "      <th>Average in a Week</th>\n",
       "      <th>Preference 1</th>\n",
       "      <th>Preference 2</th>\n",
       "      <th>Preference 3</th>\n",
       "      <th>Preference 4</th>\n",
       "    </tr>\n",
       "    <tr>\n",
       "      <th>Student Name</th>\n",
       "      <th></th>\n",
       "      <th></th>\n",
       "      <th></th>\n",
       "      <th></th>\n",
       "      <th></th>\n",
       "      <th></th>\n",
       "      <th></th>\n",
       "      <th></th>\n",
       "      <th></th>\n",
       "      <th></th>\n",
       "      <th></th>\n",
       "      <th></th>\n",
       "      <th></th>\n",
       "      <th></th>\n",
       "      <th></th>\n",
       "      <th></th>\n",
       "      <th></th>\n",
       "      <th></th>\n",
       "    </tr>\n",
       "  </thead>\n",
       "  <tbody>\n",
       "    <tr>\n",
       "      <th>Changhao Dong</th>\n",
       "      <td>4.0</td>\n",
       "      <td>5.4</td>\n",
       "      <td>8.3</td>\n",
       "      <td>6.5</td>\n",
       "      <td>2.3</td>\n",
       "      <td>1.3</td>\n",
       "      <td>6.8</td>\n",
       "      <td>7.6</td>\n",
       "      <td>4.5</td>\n",
       "      <td>6.4</td>\n",
       "      <td>3.4</td>\n",
       "      <td>7.50</td>\n",
       "      <td>5.5</td>\n",
       "      <td>0</td>\n",
       "      <td>2</td>\n",
       "      <td>4</td>\n",
       "      <td>3</td>\n",
       "      <td>1</td>\n",
       "    </tr>\n",
       "    <tr>\n",
       "      <th>Haodong Ma</th>\n",
       "      <td>7.0</td>\n",
       "      <td>6.0</td>\n",
       "      <td>9.0</td>\n",
       "      <td>3.0</td>\n",
       "      <td>1.0</td>\n",
       "      <td>4.0</td>\n",
       "      <td>6.0</td>\n",
       "      <td>8.0</td>\n",
       "      <td>7.0</td>\n",
       "      <td>6.0</td>\n",
       "      <td>8.0</td>\n",
       "      <td>2.00</td>\n",
       "      <td>4.0</td>\n",
       "      <td>2</td>\n",
       "      <td>3</td>\n",
       "      <td>4</td>\n",
       "      <td>3</td>\n",
       "      <td>1</td>\n",
       "    </tr>\n",
       "    <tr>\n",
       "      <th>Jacobson, Brian</th>\n",
       "      <td>5.9</td>\n",
       "      <td>6.9</td>\n",
       "      <td>4.2</td>\n",
       "      <td>9.3</td>\n",
       "      <td>9.5</td>\n",
       "      <td>8.1</td>\n",
       "      <td>9.0</td>\n",
       "      <td>7.5</td>\n",
       "      <td>8.1</td>\n",
       "      <td>8.1</td>\n",
       "      <td>8.5</td>\n",
       "      <td>10.00</td>\n",
       "      <td>1.0</td>\n",
       "      <td>1</td>\n",
       "      <td>2</td>\n",
       "      <td>3</td>\n",
       "      <td>3</td>\n",
       "      <td>1</td>\n",
       "    </tr>\n",
       "    <tr>\n",
       "      <th>Rene Padilla</th>\n",
       "      <td>8.3</td>\n",
       "      <td>5.5</td>\n",
       "      <td>6.9</td>\n",
       "      <td>4.4</td>\n",
       "      <td>2.1</td>\n",
       "      <td>8.8</td>\n",
       "      <td>9.9</td>\n",
       "      <td>7.4</td>\n",
       "      <td>7.3</td>\n",
       "      <td>5.5</td>\n",
       "      <td>7.5</td>\n",
       "      <td>9.21</td>\n",
       "      <td>3.5</td>\n",
       "      <td>1</td>\n",
       "      <td>3</td>\n",
       "      <td>4</td>\n",
       "      <td>3</td>\n",
       "      <td>1</td>\n",
       "    </tr>\n",
       "    <tr>\n",
       "      <th>Talantbek</th>\n",
       "      <td>7.0</td>\n",
       "      <td>7.0</td>\n",
       "      <td>9.0</td>\n",
       "      <td>5.0</td>\n",
       "      <td>7.0</td>\n",
       "      <td>7.0</td>\n",
       "      <td>6.0</td>\n",
       "      <td>1.0</td>\n",
       "      <td>8.0</td>\n",
       "      <td>8.0</td>\n",
       "      <td>4.0</td>\n",
       "      <td>6.00</td>\n",
       "      <td>9.0</td>\n",
       "      <td>1</td>\n",
       "      <td>2</td>\n",
       "      <td>4</td>\n",
       "      <td>3</td>\n",
       "      <td>1</td>\n",
       "    </tr>\n",
       "    <tr>\n",
       "      <th>Wenbo</th>\n",
       "      <td>7.0</td>\n",
       "      <td>6.6</td>\n",
       "      <td>8.0</td>\n",
       "      <td>9.5</td>\n",
       "      <td>2.0</td>\n",
       "      <td>6.0</td>\n",
       "      <td>4.5</td>\n",
       "      <td>5.0</td>\n",
       "      <td>5.0</td>\n",
       "      <td>5.0</td>\n",
       "      <td>5.0</td>\n",
       "      <td>8.00</td>\n",
       "      <td>8.7</td>\n",
       "      <td>1</td>\n",
       "      <td>5</td>\n",
       "      <td>4</td>\n",
       "      <td>3</td>\n",
       "      <td>1</td>\n",
       "    </tr>\n",
       "    <tr>\n",
       "      <th>anusha reddy</th>\n",
       "      <td>5.5</td>\n",
       "      <td>6.0</td>\n",
       "      <td>8.5</td>\n",
       "      <td>9.9</td>\n",
       "      <td>9.0</td>\n",
       "      <td>10.0</td>\n",
       "      <td>8.5</td>\n",
       "      <td>10.0</td>\n",
       "      <td>9.5</td>\n",
       "      <td>8.5</td>\n",
       "      <td>9.1</td>\n",
       "      <td>5.10</td>\n",
       "      <td>7.5</td>\n",
       "      <td>1</td>\n",
       "      <td>3</td>\n",
       "      <td>3</td>\n",
       "      <td>3</td>\n",
       "      <td>1</td>\n",
       "    </tr>\n",
       "  </tbody>\n",
       "</table>\n",
       "</div>\n",
       "      <button class=\"colab-df-convert\" onclick=\"convertToInteractive('df-de88aed7-bcb9-4414-b2d4-421459075eec')\"\n",
       "              title=\"Convert this dataframe to an interactive table.\"\n",
       "              style=\"display:none;\">\n",
       "        \n",
       "  <svg xmlns=\"http://www.w3.org/2000/svg\" height=\"24px\"viewBox=\"0 0 24 24\"\n",
       "       width=\"24px\">\n",
       "    <path d=\"M0 0h24v24H0V0z\" fill=\"none\"/>\n",
       "    <path d=\"M18.56 5.44l.94 2.06.94-2.06 2.06-.94-2.06-.94-.94-2.06-.94 2.06-2.06.94zm-11 1L8.5 8.5l.94-2.06 2.06-.94-2.06-.94L8.5 2.5l-.94 2.06-2.06.94zm10 10l.94 2.06.94-2.06 2.06-.94-2.06-.94-.94-2.06-.94 2.06-2.06.94z\"/><path d=\"M17.41 7.96l-1.37-1.37c-.4-.4-.92-.59-1.43-.59-.52 0-1.04.2-1.43.59L10.3 9.45l-7.72 7.72c-.78.78-.78 2.05 0 2.83L4 21.41c.39.39.9.59 1.41.59.51 0 1.02-.2 1.41-.59l7.78-7.78 2.81-2.81c.8-.78.8-2.07 0-2.86zM5.41 20L4 18.59l7.72-7.72 1.47 1.35L5.41 20z\"/>\n",
       "  </svg>\n",
       "      </button>\n",
       "      \n",
       "  <style>\n",
       "    .colab-df-container {\n",
       "      display:flex;\n",
       "      flex-wrap:wrap;\n",
       "      gap: 12px;\n",
       "    }\n",
       "\n",
       "    .colab-df-convert {\n",
       "      background-color: #E8F0FE;\n",
       "      border: none;\n",
       "      border-radius: 50%;\n",
       "      cursor: pointer;\n",
       "      display: none;\n",
       "      fill: #1967D2;\n",
       "      height: 32px;\n",
       "      padding: 0 0 0 0;\n",
       "      width: 32px;\n",
       "    }\n",
       "\n",
       "    .colab-df-convert:hover {\n",
       "      background-color: #E2EBFA;\n",
       "      box-shadow: 0px 1px 2px rgba(60, 64, 67, 0.3), 0px 1px 3px 1px rgba(60, 64, 67, 0.15);\n",
       "      fill: #174EA6;\n",
       "    }\n",
       "\n",
       "    [theme=dark] .colab-df-convert {\n",
       "      background-color: #3B4455;\n",
       "      fill: #D2E3FC;\n",
       "    }\n",
       "\n",
       "    [theme=dark] .colab-df-convert:hover {\n",
       "      background-color: #434B5C;\n",
       "      box-shadow: 0px 1px 3px 1px rgba(0, 0, 0, 0.15);\n",
       "      filter: drop-shadow(0px 1px 2px rgba(0, 0, 0, 0.3));\n",
       "      fill: #FFFFFF;\n",
       "    }\n",
       "  </style>\n",
       "\n",
       "      <script>\n",
       "        const buttonEl =\n",
       "          document.querySelector('#df-de88aed7-bcb9-4414-b2d4-421459075eec button.colab-df-convert');\n",
       "        buttonEl.style.display =\n",
       "          google.colab.kernel.accessAllowed ? 'block' : 'none';\n",
       "\n",
       "        async function convertToInteractive(key) {\n",
       "          const element = document.querySelector('#df-de88aed7-bcb9-4414-b2d4-421459075eec');\n",
       "          const dataTable =\n",
       "            await google.colab.kernel.invokeFunction('convertToInteractive',\n",
       "                                                     [key], {});\n",
       "          if (!dataTable) return;\n",
       "\n",
       "          const docLinkHtml = 'Like what you see? Visit the ' +\n",
       "            '<a target=\"_blank\" href=https://colab.research.google.com/notebooks/data_table.ipynb>data table notebook</a>'\n",
       "            + ' to learn more about interactive tables.';\n",
       "          element.innerHTML = '';\n",
       "          dataTable['output_type'] = 'display_data';\n",
       "          await google.colab.output.renderOutput(dataTable, element);\n",
       "          const docLink = document.createElement('div');\n",
       "          docLink.innerHTML = docLinkHtml;\n",
       "          element.appendChild(docLink);\n",
       "        }\n",
       "      </script>\n",
       "    </div>\n",
       "  </div>\n",
       "  "
      ],
      "text/plain": [
       "                 Action  Adventure  Comedy  Crime  Drama  Fantasy  \\\n",
       "Student Name                                                        \n",
       "Changhao Dong       4.0        5.4     8.3    6.5    2.3      1.3   \n",
       "Haodong Ma          7.0        6.0     9.0    3.0    1.0      4.0   \n",
       "Jacobson, Brian     5.9        6.9     4.2    9.3    9.5      8.1   \n",
       "Rene Padilla        8.3        5.5     6.9    4.4    2.1      8.8   \n",
       "Talantbek           7.0        7.0     9.0    5.0    7.0      7.0   \n",
       "Wenbo               7.0        6.6     8.0    9.5    2.0      6.0   \n",
       "anusha reddy        5.5        6.0     8.5    9.9    9.0     10.0   \n",
       "\n",
       "                 Science Fiction  Horror  Mystery  Romance  Thriller  \\\n",
       "Student Name                                                           \n",
       "Changhao Dong                6.8     7.6      4.5      6.4       3.4   \n",
       "Haodong Ma                   6.0     8.0      7.0      6.0       8.0   \n",
       "Jacobson, Brian              9.0     7.5      8.1      8.1       8.5   \n",
       "Rene Padilla                 9.9     7.4      7.3      5.5       7.5   \n",
       "Talantbek                    6.0     1.0      8.0      8.0       4.0   \n",
       "Wenbo                        4.5     5.0      5.0      5.0       5.0   \n",
       "anusha reddy                 8.5    10.0      9.5      8.5       9.1   \n",
       "\n",
       "                 Documentary  Animated  Average in a Week  Preference 1  \\\n",
       "Student Name                                                              \n",
       "Changhao Dong           7.50       5.5                  0             2   \n",
       "Haodong Ma              2.00       4.0                  2             3   \n",
       "Jacobson, Brian        10.00       1.0                  1             2   \n",
       "Rene Padilla            9.21       3.5                  1             3   \n",
       "Talantbek               6.00       9.0                  1             2   \n",
       "Wenbo                   8.00       8.7                  1             5   \n",
       "anusha reddy            5.10       7.5                  1             3   \n",
       "\n",
       "                 Preference 2  Preference 3  Preference 4  \n",
       "Student Name                                               \n",
       "Changhao Dong               4             3             1  \n",
       "Haodong Ma                  4             3             1  \n",
       "Jacobson, Brian             3             3             1  \n",
       "Rene Padilla                4             3             1  \n",
       "Talantbek                   4             3             1  \n",
       "Wenbo                       4             3             1  \n",
       "anusha reddy                3             3             1  "
      ]
     },
     "metadata": {},
     "output_type": "display_data"
    },
    {
     "name": "stdout",
     "output_type": "stream",
     "text": [
      "\n",
      "Cluster 6\n"
     ]
    },
    {
     "data": {
      "text/html": [
       "\n",
       "  <div id=\"df-91597cdc-ac64-4d44-9bfe-4dc2bc4f5bd2\">\n",
       "    <div class=\"colab-df-container\">\n",
       "      <div>\n",
       "<style scoped>\n",
       "    .dataframe tbody tr th:only-of-type {\n",
       "        vertical-align: middle;\n",
       "    }\n",
       "\n",
       "    .dataframe tbody tr th {\n",
       "        vertical-align: top;\n",
       "    }\n",
       "\n",
       "    .dataframe thead th {\n",
       "        text-align: right;\n",
       "    }\n",
       "</style>\n",
       "<table border=\"1\" class=\"dataframe\">\n",
       "  <thead>\n",
       "    <tr style=\"text-align: right;\">\n",
       "      <th></th>\n",
       "      <th>Action</th>\n",
       "      <th>Adventure</th>\n",
       "      <th>Comedy</th>\n",
       "      <th>Crime</th>\n",
       "      <th>Drama</th>\n",
       "      <th>Fantasy</th>\n",
       "      <th>Science Fiction</th>\n",
       "      <th>Horror</th>\n",
       "      <th>Mystery</th>\n",
       "      <th>Romance</th>\n",
       "      <th>Thriller</th>\n",
       "      <th>Documentary</th>\n",
       "      <th>Animated</th>\n",
       "      <th>Average in a Week</th>\n",
       "      <th>Preference 1</th>\n",
       "      <th>Preference 2</th>\n",
       "      <th>Preference 3</th>\n",
       "      <th>Preference 4</th>\n",
       "    </tr>\n",
       "    <tr>\n",
       "      <th>Student Name</th>\n",
       "      <th></th>\n",
       "      <th></th>\n",
       "      <th></th>\n",
       "      <th></th>\n",
       "      <th></th>\n",
       "      <th></th>\n",
       "      <th></th>\n",
       "      <th></th>\n",
       "      <th></th>\n",
       "      <th></th>\n",
       "      <th></th>\n",
       "      <th></th>\n",
       "      <th></th>\n",
       "      <th></th>\n",
       "      <th></th>\n",
       "      <th></th>\n",
       "      <th></th>\n",
       "      <th></th>\n",
       "    </tr>\n",
       "  </thead>\n",
       "  <tbody>\n",
       "    <tr>\n",
       "      <th>Anh T</th>\n",
       "      <td>8.9</td>\n",
       "      <td>7.5</td>\n",
       "      <td>5.1</td>\n",
       "      <td>9.4</td>\n",
       "      <td>6.6</td>\n",
       "      <td>7.2</td>\n",
       "      <td>5.5</td>\n",
       "      <td>4.6</td>\n",
       "      <td>7.7</td>\n",
       "      <td>6.4</td>\n",
       "      <td>9.5</td>\n",
       "      <td>2.2</td>\n",
       "      <td>4.8</td>\n",
       "      <td>3</td>\n",
       "      <td>3</td>\n",
       "      <td>4</td>\n",
       "      <td>3</td>\n",
       "      <td>1</td>\n",
       "    </tr>\n",
       "    <tr>\n",
       "      <th>Clark Blatter</th>\n",
       "      <td>9.8</td>\n",
       "      <td>8.2</td>\n",
       "      <td>8.5</td>\n",
       "      <td>9.0</td>\n",
       "      <td>6.5</td>\n",
       "      <td>6.9</td>\n",
       "      <td>7.2</td>\n",
       "      <td>4.2</td>\n",
       "      <td>7.4</td>\n",
       "      <td>6.9</td>\n",
       "      <td>7.3</td>\n",
       "      <td>6.5</td>\n",
       "      <td>9.5</td>\n",
       "      <td>1</td>\n",
       "      <td>1</td>\n",
       "      <td>4</td>\n",
       "      <td>3</td>\n",
       "      <td>1</td>\n",
       "    </tr>\n",
       "    <tr>\n",
       "      <th>FRANCIS</th>\n",
       "      <td>6.0</td>\n",
       "      <td>8.0</td>\n",
       "      <td>10.0</td>\n",
       "      <td>8.0</td>\n",
       "      <td>5.0</td>\n",
       "      <td>4.0</td>\n",
       "      <td>10.0</td>\n",
       "      <td>10.0</td>\n",
       "      <td>8.0</td>\n",
       "      <td>7.0</td>\n",
       "      <td>6.0</td>\n",
       "      <td>9.0</td>\n",
       "      <td>10.0</td>\n",
       "      <td>0</td>\n",
       "      <td>1</td>\n",
       "      <td>4</td>\n",
       "      <td>3</td>\n",
       "      <td>1</td>\n",
       "    </tr>\n",
       "    <tr>\n",
       "      <th>Pavan Reddy</th>\n",
       "      <td>7.0</td>\n",
       "      <td>8.0</td>\n",
       "      <td>9.0</td>\n",
       "      <td>8.5</td>\n",
       "      <td>9.5</td>\n",
       "      <td>5.7</td>\n",
       "      <td>6.5</td>\n",
       "      <td>8.5</td>\n",
       "      <td>9.0</td>\n",
       "      <td>7.5</td>\n",
       "      <td>9.5</td>\n",
       "      <td>9.0</td>\n",
       "      <td>3.5</td>\n",
       "      <td>1</td>\n",
       "      <td>2</td>\n",
       "      <td>4</td>\n",
       "      <td>3</td>\n",
       "      <td>1</td>\n",
       "    </tr>\n",
       "    <tr>\n",
       "      <th>Pranjali</th>\n",
       "      <td>8.0</td>\n",
       "      <td>9.0</td>\n",
       "      <td>10.0</td>\n",
       "      <td>7.5</td>\n",
       "      <td>7.0</td>\n",
       "      <td>10.0</td>\n",
       "      <td>9.5</td>\n",
       "      <td>10.0</td>\n",
       "      <td>9.5</td>\n",
       "      <td>8.5</td>\n",
       "      <td>9.0</td>\n",
       "      <td>7.0</td>\n",
       "      <td>7.5</td>\n",
       "      <td>1</td>\n",
       "      <td>1</td>\n",
       "      <td>0</td>\n",
       "      <td>0</td>\n",
       "      <td>0</td>\n",
       "    </tr>\n",
       "    <tr>\n",
       "      <th>Purav</th>\n",
       "      <td>8.0</td>\n",
       "      <td>8.5</td>\n",
       "      <td>9.8</td>\n",
       "      <td>8.9</td>\n",
       "      <td>7.8</td>\n",
       "      <td>7.1</td>\n",
       "      <td>8.4</td>\n",
       "      <td>9.9</td>\n",
       "      <td>9.7</td>\n",
       "      <td>8.2</td>\n",
       "      <td>9.8</td>\n",
       "      <td>6.6</td>\n",
       "      <td>7.6</td>\n",
       "      <td>1</td>\n",
       "      <td>3</td>\n",
       "      <td>4</td>\n",
       "      <td>3</td>\n",
       "      <td>1</td>\n",
       "    </tr>\n",
       "    <tr>\n",
       "      <th>Saetbyeol Choi</th>\n",
       "      <td>9.2</td>\n",
       "      <td>8.2</td>\n",
       "      <td>9.5</td>\n",
       "      <td>9.8</td>\n",
       "      <td>7.5</td>\n",
       "      <td>6.5</td>\n",
       "      <td>6.2</td>\n",
       "      <td>2.5</td>\n",
       "      <td>7.8</td>\n",
       "      <td>5.5</td>\n",
       "      <td>8.8</td>\n",
       "      <td>5.2</td>\n",
       "      <td>1.5</td>\n",
       "      <td>0</td>\n",
       "      <td>3</td>\n",
       "      <td>4</td>\n",
       "      <td>3</td>\n",
       "      <td>1</td>\n",
       "    </tr>\n",
       "    <tr>\n",
       "      <th>sai</th>\n",
       "      <td>8.5</td>\n",
       "      <td>9.0</td>\n",
       "      <td>10.0</td>\n",
       "      <td>10.0</td>\n",
       "      <td>6.0</td>\n",
       "      <td>8.9</td>\n",
       "      <td>9.0</td>\n",
       "      <td>2.0</td>\n",
       "      <td>7.8</td>\n",
       "      <td>8.0</td>\n",
       "      <td>7.5</td>\n",
       "      <td>6.0</td>\n",
       "      <td>10.0</td>\n",
       "      <td>1</td>\n",
       "      <td>2</td>\n",
       "      <td>4</td>\n",
       "      <td>3</td>\n",
       "      <td>1</td>\n",
       "    </tr>\n",
       "  </tbody>\n",
       "</table>\n",
       "</div>\n",
       "      <button class=\"colab-df-convert\" onclick=\"convertToInteractive('df-91597cdc-ac64-4d44-9bfe-4dc2bc4f5bd2')\"\n",
       "              title=\"Convert this dataframe to an interactive table.\"\n",
       "              style=\"display:none;\">\n",
       "        \n",
       "  <svg xmlns=\"http://www.w3.org/2000/svg\" height=\"24px\"viewBox=\"0 0 24 24\"\n",
       "       width=\"24px\">\n",
       "    <path d=\"M0 0h24v24H0V0z\" fill=\"none\"/>\n",
       "    <path d=\"M18.56 5.44l.94 2.06.94-2.06 2.06-.94-2.06-.94-.94-2.06-.94 2.06-2.06.94zm-11 1L8.5 8.5l.94-2.06 2.06-.94-2.06-.94L8.5 2.5l-.94 2.06-2.06.94zm10 10l.94 2.06.94-2.06 2.06-.94-2.06-.94-.94-2.06-.94 2.06-2.06.94z\"/><path d=\"M17.41 7.96l-1.37-1.37c-.4-.4-.92-.59-1.43-.59-.52 0-1.04.2-1.43.59L10.3 9.45l-7.72 7.72c-.78.78-.78 2.05 0 2.83L4 21.41c.39.39.9.59 1.41.59.51 0 1.02-.2 1.41-.59l7.78-7.78 2.81-2.81c.8-.78.8-2.07 0-2.86zM5.41 20L4 18.59l7.72-7.72 1.47 1.35L5.41 20z\"/>\n",
       "  </svg>\n",
       "      </button>\n",
       "      \n",
       "  <style>\n",
       "    .colab-df-container {\n",
       "      display:flex;\n",
       "      flex-wrap:wrap;\n",
       "      gap: 12px;\n",
       "    }\n",
       "\n",
       "    .colab-df-convert {\n",
       "      background-color: #E8F0FE;\n",
       "      border: none;\n",
       "      border-radius: 50%;\n",
       "      cursor: pointer;\n",
       "      display: none;\n",
       "      fill: #1967D2;\n",
       "      height: 32px;\n",
       "      padding: 0 0 0 0;\n",
       "      width: 32px;\n",
       "    }\n",
       "\n",
       "    .colab-df-convert:hover {\n",
       "      background-color: #E2EBFA;\n",
       "      box-shadow: 0px 1px 2px rgba(60, 64, 67, 0.3), 0px 1px 3px 1px rgba(60, 64, 67, 0.15);\n",
       "      fill: #174EA6;\n",
       "    }\n",
       "\n",
       "    [theme=dark] .colab-df-convert {\n",
       "      background-color: #3B4455;\n",
       "      fill: #D2E3FC;\n",
       "    }\n",
       "\n",
       "    [theme=dark] .colab-df-convert:hover {\n",
       "      background-color: #434B5C;\n",
       "      box-shadow: 0px 1px 3px 1px rgba(0, 0, 0, 0.15);\n",
       "      filter: drop-shadow(0px 1px 2px rgba(0, 0, 0, 0.3));\n",
       "      fill: #FFFFFF;\n",
       "    }\n",
       "  </style>\n",
       "\n",
       "      <script>\n",
       "        const buttonEl =\n",
       "          document.querySelector('#df-91597cdc-ac64-4d44-9bfe-4dc2bc4f5bd2 button.colab-df-convert');\n",
       "        buttonEl.style.display =\n",
       "          google.colab.kernel.accessAllowed ? 'block' : 'none';\n",
       "\n",
       "        async function convertToInteractive(key) {\n",
       "          const element = document.querySelector('#df-91597cdc-ac64-4d44-9bfe-4dc2bc4f5bd2');\n",
       "          const dataTable =\n",
       "            await google.colab.kernel.invokeFunction('convertToInteractive',\n",
       "                                                     [key], {});\n",
       "          if (!dataTable) return;\n",
       "\n",
       "          const docLinkHtml = 'Like what you see? Visit the ' +\n",
       "            '<a target=\"_blank\" href=https://colab.research.google.com/notebooks/data_table.ipynb>data table notebook</a>'\n",
       "            + ' to learn more about interactive tables.';\n",
       "          element.innerHTML = '';\n",
       "          dataTable['output_type'] = 'display_data';\n",
       "          await google.colab.output.renderOutput(dataTable, element);\n",
       "          const docLink = document.createElement('div');\n",
       "          docLink.innerHTML = docLinkHtml;\n",
       "          element.appendChild(docLink);\n",
       "        }\n",
       "      </script>\n",
       "    </div>\n",
       "  </div>\n",
       "  "
      ],
      "text/plain": [
       "                Action  Adventure  Comedy  Crime  Drama  Fantasy  \\\n",
       "Student Name                                                       \n",
       "Anh T              8.9        7.5     5.1    9.4    6.6      7.2   \n",
       "Clark Blatter      9.8        8.2     8.5    9.0    6.5      6.9   \n",
       "FRANCIS            6.0        8.0    10.0    8.0    5.0      4.0   \n",
       "Pavan Reddy        7.0        8.0     9.0    8.5    9.5      5.7   \n",
       "Pranjali           8.0        9.0    10.0    7.5    7.0     10.0   \n",
       "Purav              8.0        8.5     9.8    8.9    7.8      7.1   \n",
       "Saetbyeol Choi     9.2        8.2     9.5    9.8    7.5      6.5   \n",
       "sai                8.5        9.0    10.0   10.0    6.0      8.9   \n",
       "\n",
       "                Science Fiction  Horror  Mystery  Romance  Thriller  \\\n",
       "Student Name                                                          \n",
       "Anh T                       5.5     4.6      7.7      6.4       9.5   \n",
       "Clark Blatter               7.2     4.2      7.4      6.9       7.3   \n",
       "FRANCIS                    10.0    10.0      8.0      7.0       6.0   \n",
       "Pavan Reddy                 6.5     8.5      9.0      7.5       9.5   \n",
       "Pranjali                    9.5    10.0      9.5      8.5       9.0   \n",
       "Purav                       8.4     9.9      9.7      8.2       9.8   \n",
       "Saetbyeol Choi              6.2     2.5      7.8      5.5       8.8   \n",
       "sai                         9.0     2.0      7.8      8.0       7.5   \n",
       "\n",
       "                Documentary  Animated  Average in a Week  Preference 1  \\\n",
       "Student Name                                                             \n",
       "Anh T                   2.2       4.8                  3             3   \n",
       "Clark Blatter           6.5       9.5                  1             1   \n",
       "FRANCIS                 9.0      10.0                  0             1   \n",
       "Pavan Reddy             9.0       3.5                  1             2   \n",
       "Pranjali                7.0       7.5                  1             1   \n",
       "Purav                   6.6       7.6                  1             3   \n",
       "Saetbyeol Choi          5.2       1.5                  0             3   \n",
       "sai                     6.0      10.0                  1             2   \n",
       "\n",
       "                Preference 2  Preference 3  Preference 4  \n",
       "Student Name                                              \n",
       "Anh T                      4             3             1  \n",
       "Clark Blatter              4             3             1  \n",
       "FRANCIS                    4             3             1  \n",
       "Pavan Reddy                4             3             1  \n",
       "Pranjali                   0             0             0  \n",
       "Purav                      4             3             1  \n",
       "Saetbyeol Choi             4             3             1  \n",
       "sai                        4             3             1  "
      ]
     },
     "metadata": {},
     "output_type": "display_data"
    },
    {
     "name": "stdout",
     "output_type": "stream",
     "text": [
      "\n",
      "Cluster 7\n"
     ]
    },
    {
     "data": {
      "text/html": [
       "\n",
       "  <div id=\"df-63f59010-bd6f-49e0-9d35-a0023206a87a\">\n",
       "    <div class=\"colab-df-container\">\n",
       "      <div>\n",
       "<style scoped>\n",
       "    .dataframe tbody tr th:only-of-type {\n",
       "        vertical-align: middle;\n",
       "    }\n",
       "\n",
       "    .dataframe tbody tr th {\n",
       "        vertical-align: top;\n",
       "    }\n",
       "\n",
       "    .dataframe thead th {\n",
       "        text-align: right;\n",
       "    }\n",
       "</style>\n",
       "<table border=\"1\" class=\"dataframe\">\n",
       "  <thead>\n",
       "    <tr style=\"text-align: right;\">\n",
       "      <th></th>\n",
       "      <th>Action</th>\n",
       "      <th>Adventure</th>\n",
       "      <th>Comedy</th>\n",
       "      <th>Crime</th>\n",
       "      <th>Drama</th>\n",
       "      <th>Fantasy</th>\n",
       "      <th>Science Fiction</th>\n",
       "      <th>Horror</th>\n",
       "      <th>Mystery</th>\n",
       "      <th>Romance</th>\n",
       "      <th>Thriller</th>\n",
       "      <th>Documentary</th>\n",
       "      <th>Animated</th>\n",
       "      <th>Average in a Week</th>\n",
       "      <th>Preference 1</th>\n",
       "      <th>Preference 2</th>\n",
       "      <th>Preference 3</th>\n",
       "      <th>Preference 4</th>\n",
       "    </tr>\n",
       "    <tr>\n",
       "      <th>Student Name</th>\n",
       "      <th></th>\n",
       "      <th></th>\n",
       "      <th></th>\n",
       "      <th></th>\n",
       "      <th></th>\n",
       "      <th></th>\n",
       "      <th></th>\n",
       "      <th></th>\n",
       "      <th></th>\n",
       "      <th></th>\n",
       "      <th></th>\n",
       "      <th></th>\n",
       "      <th></th>\n",
       "      <th></th>\n",
       "      <th></th>\n",
       "      <th></th>\n",
       "      <th></th>\n",
       "      <th></th>\n",
       "    </tr>\n",
       "  </thead>\n",
       "  <tbody>\n",
       "    <tr>\n",
       "      <th>HARSH</th>\n",
       "      <td>10.0</td>\n",
       "      <td>4.0</td>\n",
       "      <td>8.0</td>\n",
       "      <td>10.0</td>\n",
       "      <td>8.0</td>\n",
       "      <td>7.0</td>\n",
       "      <td>8.0</td>\n",
       "      <td>3.0</td>\n",
       "      <td>10.0</td>\n",
       "      <td>9.0</td>\n",
       "      <td>10.0</td>\n",
       "      <td>3.0</td>\n",
       "      <td>4.0</td>\n",
       "      <td>1</td>\n",
       "      <td>1</td>\n",
       "      <td>4</td>\n",
       "      <td>3</td>\n",
       "      <td>1</td>\n",
       "    </tr>\n",
       "  </tbody>\n",
       "</table>\n",
       "</div>\n",
       "      <button class=\"colab-df-convert\" onclick=\"convertToInteractive('df-63f59010-bd6f-49e0-9d35-a0023206a87a')\"\n",
       "              title=\"Convert this dataframe to an interactive table.\"\n",
       "              style=\"display:none;\">\n",
       "        \n",
       "  <svg xmlns=\"http://www.w3.org/2000/svg\" height=\"24px\"viewBox=\"0 0 24 24\"\n",
       "       width=\"24px\">\n",
       "    <path d=\"M0 0h24v24H0V0z\" fill=\"none\"/>\n",
       "    <path d=\"M18.56 5.44l.94 2.06.94-2.06 2.06-.94-2.06-.94-.94-2.06-.94 2.06-2.06.94zm-11 1L8.5 8.5l.94-2.06 2.06-.94-2.06-.94L8.5 2.5l-.94 2.06-2.06.94zm10 10l.94 2.06.94-2.06 2.06-.94-2.06-.94-.94-2.06-.94 2.06-2.06.94z\"/><path d=\"M17.41 7.96l-1.37-1.37c-.4-.4-.92-.59-1.43-.59-.52 0-1.04.2-1.43.59L10.3 9.45l-7.72 7.72c-.78.78-.78 2.05 0 2.83L4 21.41c.39.39.9.59 1.41.59.51 0 1.02-.2 1.41-.59l7.78-7.78 2.81-2.81c.8-.78.8-2.07 0-2.86zM5.41 20L4 18.59l7.72-7.72 1.47 1.35L5.41 20z\"/>\n",
       "  </svg>\n",
       "      </button>\n",
       "      \n",
       "  <style>\n",
       "    .colab-df-container {\n",
       "      display:flex;\n",
       "      flex-wrap:wrap;\n",
       "      gap: 12px;\n",
       "    }\n",
       "\n",
       "    .colab-df-convert {\n",
       "      background-color: #E8F0FE;\n",
       "      border: none;\n",
       "      border-radius: 50%;\n",
       "      cursor: pointer;\n",
       "      display: none;\n",
       "      fill: #1967D2;\n",
       "      height: 32px;\n",
       "      padding: 0 0 0 0;\n",
       "      width: 32px;\n",
       "    }\n",
       "\n",
       "    .colab-df-convert:hover {\n",
       "      background-color: #E2EBFA;\n",
       "      box-shadow: 0px 1px 2px rgba(60, 64, 67, 0.3), 0px 1px 3px 1px rgba(60, 64, 67, 0.15);\n",
       "      fill: #174EA6;\n",
       "    }\n",
       "\n",
       "    [theme=dark] .colab-df-convert {\n",
       "      background-color: #3B4455;\n",
       "      fill: #D2E3FC;\n",
       "    }\n",
       "\n",
       "    [theme=dark] .colab-df-convert:hover {\n",
       "      background-color: #434B5C;\n",
       "      box-shadow: 0px 1px 3px 1px rgba(0, 0, 0, 0.15);\n",
       "      filter: drop-shadow(0px 1px 2px rgba(0, 0, 0, 0.3));\n",
       "      fill: #FFFFFF;\n",
       "    }\n",
       "  </style>\n",
       "\n",
       "      <script>\n",
       "        const buttonEl =\n",
       "          document.querySelector('#df-63f59010-bd6f-49e0-9d35-a0023206a87a button.colab-df-convert');\n",
       "        buttonEl.style.display =\n",
       "          google.colab.kernel.accessAllowed ? 'block' : 'none';\n",
       "\n",
       "        async function convertToInteractive(key) {\n",
       "          const element = document.querySelector('#df-63f59010-bd6f-49e0-9d35-a0023206a87a');\n",
       "          const dataTable =\n",
       "            await google.colab.kernel.invokeFunction('convertToInteractive',\n",
       "                                                     [key], {});\n",
       "          if (!dataTable) return;\n",
       "\n",
       "          const docLinkHtml = 'Like what you see? Visit the ' +\n",
       "            '<a target=\"_blank\" href=https://colab.research.google.com/notebooks/data_table.ipynb>data table notebook</a>'\n",
       "            + ' to learn more about interactive tables.';\n",
       "          element.innerHTML = '';\n",
       "          dataTable['output_type'] = 'display_data';\n",
       "          await google.colab.output.renderOutput(dataTable, element);\n",
       "          const docLink = document.createElement('div');\n",
       "          docLink.innerHTML = docLinkHtml;\n",
       "          element.appendChild(docLink);\n",
       "        }\n",
       "      </script>\n",
       "    </div>\n",
       "  </div>\n",
       "  "
      ],
      "text/plain": [
       "              Action  Adventure  Comedy  Crime  Drama  Fantasy  \\\n",
       "Student Name                                                     \n",
       "HARSH           10.0        4.0     8.0   10.0    8.0      7.0   \n",
       "\n",
       "              Science Fiction  Horror  Mystery  Romance  Thriller  \\\n",
       "Student Name                                                        \n",
       "HARSH                     8.0     3.0     10.0      9.0      10.0   \n",
       "\n",
       "              Documentary  Animated  Average in a Week  Preference 1  \\\n",
       "Student Name                                                           \n",
       "HARSH                 3.0       4.0                  1             1   \n",
       "\n",
       "              Preference 2  Preference 3  Preference 4  \n",
       "Student Name                                            \n",
       "HARSH                    4             3             1  "
      ]
     },
     "metadata": {},
     "output_type": "display_data"
    },
    {
     "name": "stdout",
     "output_type": "stream",
     "text": [
      "\n",
      "Cluster 8\n"
     ]
    },
    {
     "data": {
      "text/html": [
       "\n",
       "  <div id=\"df-eaa0e2da-62ca-4a82-9e89-e6ffc778436d\">\n",
       "    <div class=\"colab-df-container\">\n",
       "      <div>\n",
       "<style scoped>\n",
       "    .dataframe tbody tr th:only-of-type {\n",
       "        vertical-align: middle;\n",
       "    }\n",
       "\n",
       "    .dataframe tbody tr th {\n",
       "        vertical-align: top;\n",
       "    }\n",
       "\n",
       "    .dataframe thead th {\n",
       "        text-align: right;\n",
       "    }\n",
       "</style>\n",
       "<table border=\"1\" class=\"dataframe\">\n",
       "  <thead>\n",
       "    <tr style=\"text-align: right;\">\n",
       "      <th></th>\n",
       "      <th>Action</th>\n",
       "      <th>Adventure</th>\n",
       "      <th>Comedy</th>\n",
       "      <th>Crime</th>\n",
       "      <th>Drama</th>\n",
       "      <th>Fantasy</th>\n",
       "      <th>Science Fiction</th>\n",
       "      <th>Horror</th>\n",
       "      <th>Mystery</th>\n",
       "      <th>Romance</th>\n",
       "      <th>Thriller</th>\n",
       "      <th>Documentary</th>\n",
       "      <th>Animated</th>\n",
       "      <th>Average in a Week</th>\n",
       "      <th>Preference 1</th>\n",
       "      <th>Preference 2</th>\n",
       "      <th>Preference 3</th>\n",
       "      <th>Preference 4</th>\n",
       "    </tr>\n",
       "    <tr>\n",
       "      <th>Student Name</th>\n",
       "      <th></th>\n",
       "      <th></th>\n",
       "      <th></th>\n",
       "      <th></th>\n",
       "      <th></th>\n",
       "      <th></th>\n",
       "      <th></th>\n",
       "      <th></th>\n",
       "      <th></th>\n",
       "      <th></th>\n",
       "      <th></th>\n",
       "      <th></th>\n",
       "      <th></th>\n",
       "      <th></th>\n",
       "      <th></th>\n",
       "      <th></th>\n",
       "      <th></th>\n",
       "      <th></th>\n",
       "    </tr>\n",
       "  </thead>\n",
       "  <tbody>\n",
       "    <tr>\n",
       "      <th>Jainam, Shah</th>\n",
       "      <td>10.0</td>\n",
       "      <td>10.0</td>\n",
       "      <td>10.0</td>\n",
       "      <td>8.9</td>\n",
       "      <td>2.2</td>\n",
       "      <td>5.9</td>\n",
       "      <td>10.0</td>\n",
       "      <td>9.8</td>\n",
       "      <td>9.5</td>\n",
       "      <td>5.0</td>\n",
       "      <td>9.5</td>\n",
       "      <td>9.2</td>\n",
       "      <td>9.9</td>\n",
       "      <td>4</td>\n",
       "      <td>0</td>\n",
       "      <td>4</td>\n",
       "      <td>3</td>\n",
       "      <td>1</td>\n",
       "    </tr>\n",
       "    <tr>\n",
       "      <th>Sanyuja Kadam</th>\n",
       "      <td>10.0</td>\n",
       "      <td>9.8</td>\n",
       "      <td>10.0</td>\n",
       "      <td>8.7</td>\n",
       "      <td>8.5</td>\n",
       "      <td>9.5</td>\n",
       "      <td>9.5</td>\n",
       "      <td>4.3</td>\n",
       "      <td>9.8</td>\n",
       "      <td>7.5</td>\n",
       "      <td>9.8</td>\n",
       "      <td>8.6</td>\n",
       "      <td>10.0</td>\n",
       "      <td>5</td>\n",
       "      <td>0</td>\n",
       "      <td>4</td>\n",
       "      <td>3</td>\n",
       "      <td>1</td>\n",
       "    </tr>\n",
       "    <tr>\n",
       "      <th>Sifa</th>\n",
       "      <td>8.0</td>\n",
       "      <td>9.0</td>\n",
       "      <td>8.0</td>\n",
       "      <td>3.0</td>\n",
       "      <td>8.0</td>\n",
       "      <td>7.0</td>\n",
       "      <td>9.0</td>\n",
       "      <td>1.0</td>\n",
       "      <td>8.0</td>\n",
       "      <td>7.0</td>\n",
       "      <td>8.0</td>\n",
       "      <td>4.0</td>\n",
       "      <td>6.0</td>\n",
       "      <td>5</td>\n",
       "      <td>0</td>\n",
       "      <td>0</td>\n",
       "      <td>2</td>\n",
       "      <td>1</td>\n",
       "    </tr>\n",
       "  </tbody>\n",
       "</table>\n",
       "</div>\n",
       "      <button class=\"colab-df-convert\" onclick=\"convertToInteractive('df-eaa0e2da-62ca-4a82-9e89-e6ffc778436d')\"\n",
       "              title=\"Convert this dataframe to an interactive table.\"\n",
       "              style=\"display:none;\">\n",
       "        \n",
       "  <svg xmlns=\"http://www.w3.org/2000/svg\" height=\"24px\"viewBox=\"0 0 24 24\"\n",
       "       width=\"24px\">\n",
       "    <path d=\"M0 0h24v24H0V0z\" fill=\"none\"/>\n",
       "    <path d=\"M18.56 5.44l.94 2.06.94-2.06 2.06-.94-2.06-.94-.94-2.06-.94 2.06-2.06.94zm-11 1L8.5 8.5l.94-2.06 2.06-.94-2.06-.94L8.5 2.5l-.94 2.06-2.06.94zm10 10l.94 2.06.94-2.06 2.06-.94-2.06-.94-.94-2.06-.94 2.06-2.06.94z\"/><path d=\"M17.41 7.96l-1.37-1.37c-.4-.4-.92-.59-1.43-.59-.52 0-1.04.2-1.43.59L10.3 9.45l-7.72 7.72c-.78.78-.78 2.05 0 2.83L4 21.41c.39.39.9.59 1.41.59.51 0 1.02-.2 1.41-.59l7.78-7.78 2.81-2.81c.8-.78.8-2.07 0-2.86zM5.41 20L4 18.59l7.72-7.72 1.47 1.35L5.41 20z\"/>\n",
       "  </svg>\n",
       "      </button>\n",
       "      \n",
       "  <style>\n",
       "    .colab-df-container {\n",
       "      display:flex;\n",
       "      flex-wrap:wrap;\n",
       "      gap: 12px;\n",
       "    }\n",
       "\n",
       "    .colab-df-convert {\n",
       "      background-color: #E8F0FE;\n",
       "      border: none;\n",
       "      border-radius: 50%;\n",
       "      cursor: pointer;\n",
       "      display: none;\n",
       "      fill: #1967D2;\n",
       "      height: 32px;\n",
       "      padding: 0 0 0 0;\n",
       "      width: 32px;\n",
       "    }\n",
       "\n",
       "    .colab-df-convert:hover {\n",
       "      background-color: #E2EBFA;\n",
       "      box-shadow: 0px 1px 2px rgba(60, 64, 67, 0.3), 0px 1px 3px 1px rgba(60, 64, 67, 0.15);\n",
       "      fill: #174EA6;\n",
       "    }\n",
       "\n",
       "    [theme=dark] .colab-df-convert {\n",
       "      background-color: #3B4455;\n",
       "      fill: #D2E3FC;\n",
       "    }\n",
       "\n",
       "    [theme=dark] .colab-df-convert:hover {\n",
       "      background-color: #434B5C;\n",
       "      box-shadow: 0px 1px 3px 1px rgba(0, 0, 0, 0.15);\n",
       "      filter: drop-shadow(0px 1px 2px rgba(0, 0, 0, 0.3));\n",
       "      fill: #FFFFFF;\n",
       "    }\n",
       "  </style>\n",
       "\n",
       "      <script>\n",
       "        const buttonEl =\n",
       "          document.querySelector('#df-eaa0e2da-62ca-4a82-9e89-e6ffc778436d button.colab-df-convert');\n",
       "        buttonEl.style.display =\n",
       "          google.colab.kernel.accessAllowed ? 'block' : 'none';\n",
       "\n",
       "        async function convertToInteractive(key) {\n",
       "          const element = document.querySelector('#df-eaa0e2da-62ca-4a82-9e89-e6ffc778436d');\n",
       "          const dataTable =\n",
       "            await google.colab.kernel.invokeFunction('convertToInteractive',\n",
       "                                                     [key], {});\n",
       "          if (!dataTable) return;\n",
       "\n",
       "          const docLinkHtml = 'Like what you see? Visit the ' +\n",
       "            '<a target=\"_blank\" href=https://colab.research.google.com/notebooks/data_table.ipynb>data table notebook</a>'\n",
       "            + ' to learn more about interactive tables.';\n",
       "          element.innerHTML = '';\n",
       "          dataTable['output_type'] = 'display_data';\n",
       "          await google.colab.output.renderOutput(dataTable, element);\n",
       "          const docLink = document.createElement('div');\n",
       "          docLink.innerHTML = docLinkHtml;\n",
       "          element.appendChild(docLink);\n",
       "        }\n",
       "      </script>\n",
       "    </div>\n",
       "  </div>\n",
       "  "
      ],
      "text/plain": [
       "               Action  Adventure  Comedy  Crime  Drama  Fantasy  \\\n",
       "Student Name                                                      \n",
       "Jainam, Shah     10.0       10.0    10.0    8.9    2.2      5.9   \n",
       "Sanyuja Kadam    10.0        9.8    10.0    8.7    8.5      9.5   \n",
       "Sifa              8.0        9.0     8.0    3.0    8.0      7.0   \n",
       "\n",
       "               Science Fiction  Horror  Mystery  Romance  Thriller  \\\n",
       "Student Name                                                         \n",
       "Jainam, Shah              10.0     9.8      9.5      5.0       9.5   \n",
       "Sanyuja Kadam              9.5     4.3      9.8      7.5       9.8   \n",
       "Sifa                       9.0     1.0      8.0      7.0       8.0   \n",
       "\n",
       "               Documentary  Animated  Average in a Week  Preference 1  \\\n",
       "Student Name                                                            \n",
       "Jainam, Shah           9.2       9.9                  4             0   \n",
       "Sanyuja Kadam          8.6      10.0                  5             0   \n",
       "Sifa                   4.0       6.0                  5             0   \n",
       "\n",
       "               Preference 2  Preference 3  Preference 4  \n",
       "Student Name                                             \n",
       "Jainam, Shah              4             3             1  \n",
       "Sanyuja Kadam             4             3             1  \n",
       "Sifa                      0             2             1  "
      ]
     },
     "metadata": {},
     "output_type": "display_data"
    },
    {
     "name": "stdout",
     "output_type": "stream",
     "text": [
      "\n",
      "Cluster 9\n"
     ]
    },
    {
     "data": {
      "text/html": [
       "\n",
       "  <div id=\"df-1c99c652-91fe-4c14-b92a-1674b6eee75a\">\n",
       "    <div class=\"colab-df-container\">\n",
       "      <div>\n",
       "<style scoped>\n",
       "    .dataframe tbody tr th:only-of-type {\n",
       "        vertical-align: middle;\n",
       "    }\n",
       "\n",
       "    .dataframe tbody tr th {\n",
       "        vertical-align: top;\n",
       "    }\n",
       "\n",
       "    .dataframe thead th {\n",
       "        text-align: right;\n",
       "    }\n",
       "</style>\n",
       "<table border=\"1\" class=\"dataframe\">\n",
       "  <thead>\n",
       "    <tr style=\"text-align: right;\">\n",
       "      <th></th>\n",
       "      <th>Action</th>\n",
       "      <th>Adventure</th>\n",
       "      <th>Comedy</th>\n",
       "      <th>Crime</th>\n",
       "      <th>Drama</th>\n",
       "      <th>Fantasy</th>\n",
       "      <th>Science Fiction</th>\n",
       "      <th>Horror</th>\n",
       "      <th>Mystery</th>\n",
       "      <th>Romance</th>\n",
       "      <th>Thriller</th>\n",
       "      <th>Documentary</th>\n",
       "      <th>Animated</th>\n",
       "      <th>Average in a Week</th>\n",
       "      <th>Preference 1</th>\n",
       "      <th>Preference 2</th>\n",
       "      <th>Preference 3</th>\n",
       "      <th>Preference 4</th>\n",
       "    </tr>\n",
       "    <tr>\n",
       "      <th>Student Name</th>\n",
       "      <th></th>\n",
       "      <th></th>\n",
       "      <th></th>\n",
       "      <th></th>\n",
       "      <th></th>\n",
       "      <th></th>\n",
       "      <th></th>\n",
       "      <th></th>\n",
       "      <th></th>\n",
       "      <th></th>\n",
       "      <th></th>\n",
       "      <th></th>\n",
       "      <th></th>\n",
       "      <th></th>\n",
       "      <th></th>\n",
       "      <th></th>\n",
       "      <th></th>\n",
       "      <th></th>\n",
       "    </tr>\n",
       "  </thead>\n",
       "  <tbody>\n",
       "    <tr>\n",
       "      <th>Akbar</th>\n",
       "      <td>9.90</td>\n",
       "      <td>9.90</td>\n",
       "      <td>9.8</td>\n",
       "      <td>8.5</td>\n",
       "      <td>5.40</td>\n",
       "      <td>7.9</td>\n",
       "      <td>8.9</td>\n",
       "      <td>9.9</td>\n",
       "      <td>6.9</td>\n",
       "      <td>10.0</td>\n",
       "      <td>9.5</td>\n",
       "      <td>3.8</td>\n",
       "      <td>7.4</td>\n",
       "      <td>3</td>\n",
       "      <td>3</td>\n",
       "      <td>4</td>\n",
       "      <td>3</td>\n",
       "      <td>1</td>\n",
       "    </tr>\n",
       "    <tr>\n",
       "      <th>Harini</th>\n",
       "      <td>9.50</td>\n",
       "      <td>8.90</td>\n",
       "      <td>9.8</td>\n",
       "      <td>10.1</td>\n",
       "      <td>7.90</td>\n",
       "      <td>9.7</td>\n",
       "      <td>9.9</td>\n",
       "      <td>5.4</td>\n",
       "      <td>8.6</td>\n",
       "      <td>10.0</td>\n",
       "      <td>9.6</td>\n",
       "      <td>8.7</td>\n",
       "      <td>9.6</td>\n",
       "      <td>2</td>\n",
       "      <td>5</td>\n",
       "      <td>4</td>\n",
       "      <td>3</td>\n",
       "      <td>1</td>\n",
       "    </tr>\n",
       "    <tr>\n",
       "      <th>Mohammed Baleequddin</th>\n",
       "      <td>9.00</td>\n",
       "      <td>10.00</td>\n",
       "      <td>9.0</td>\n",
       "      <td>9.0</td>\n",
       "      <td>8.00</td>\n",
       "      <td>8.0</td>\n",
       "      <td>8.0</td>\n",
       "      <td>10.0</td>\n",
       "      <td>10.0</td>\n",
       "      <td>10.0</td>\n",
       "      <td>10.0</td>\n",
       "      <td>7.0</td>\n",
       "      <td>5.0</td>\n",
       "      <td>2</td>\n",
       "      <td>4</td>\n",
       "      <td>3</td>\n",
       "      <td>3</td>\n",
       "      <td>1</td>\n",
       "    </tr>\n",
       "    <tr>\n",
       "      <th>Nayoung</th>\n",
       "      <td>9.99</td>\n",
       "      <td>9.99</td>\n",
       "      <td>9.0</td>\n",
       "      <td>6.5</td>\n",
       "      <td>9.99</td>\n",
       "      <td>7.4</td>\n",
       "      <td>7.6</td>\n",
       "      <td>1.1</td>\n",
       "      <td>5.5</td>\n",
       "      <td>8.9</td>\n",
       "      <td>7.1</td>\n",
       "      <td>4.1</td>\n",
       "      <td>1.1</td>\n",
       "      <td>1</td>\n",
       "      <td>5</td>\n",
       "      <td>4</td>\n",
       "      <td>3</td>\n",
       "      <td>1</td>\n",
       "    </tr>\n",
       "    <tr>\n",
       "      <th>Rutvik Gadhiya</th>\n",
       "      <td>10.00</td>\n",
       "      <td>9.80</td>\n",
       "      <td>8.9</td>\n",
       "      <td>9.3</td>\n",
       "      <td>9.90</td>\n",
       "      <td>9.6</td>\n",
       "      <td>10.0</td>\n",
       "      <td>9.5</td>\n",
       "      <td>7.8</td>\n",
       "      <td>8.7</td>\n",
       "      <td>9.9</td>\n",
       "      <td>6.8</td>\n",
       "      <td>9.3</td>\n",
       "      <td>1</td>\n",
       "      <td>3</td>\n",
       "      <td>4</td>\n",
       "      <td>3</td>\n",
       "      <td>1</td>\n",
       "    </tr>\n",
       "  </tbody>\n",
       "</table>\n",
       "</div>\n",
       "      <button class=\"colab-df-convert\" onclick=\"convertToInteractive('df-1c99c652-91fe-4c14-b92a-1674b6eee75a')\"\n",
       "              title=\"Convert this dataframe to an interactive table.\"\n",
       "              style=\"display:none;\">\n",
       "        \n",
       "  <svg xmlns=\"http://www.w3.org/2000/svg\" height=\"24px\"viewBox=\"0 0 24 24\"\n",
       "       width=\"24px\">\n",
       "    <path d=\"M0 0h24v24H0V0z\" fill=\"none\"/>\n",
       "    <path d=\"M18.56 5.44l.94 2.06.94-2.06 2.06-.94-2.06-.94-.94-2.06-.94 2.06-2.06.94zm-11 1L8.5 8.5l.94-2.06 2.06-.94-2.06-.94L8.5 2.5l-.94 2.06-2.06.94zm10 10l.94 2.06.94-2.06 2.06-.94-2.06-.94-.94-2.06-.94 2.06-2.06.94z\"/><path d=\"M17.41 7.96l-1.37-1.37c-.4-.4-.92-.59-1.43-.59-.52 0-1.04.2-1.43.59L10.3 9.45l-7.72 7.72c-.78.78-.78 2.05 0 2.83L4 21.41c.39.39.9.59 1.41.59.51 0 1.02-.2 1.41-.59l7.78-7.78 2.81-2.81c.8-.78.8-2.07 0-2.86zM5.41 20L4 18.59l7.72-7.72 1.47 1.35L5.41 20z\"/>\n",
       "  </svg>\n",
       "      </button>\n",
       "      \n",
       "  <style>\n",
       "    .colab-df-container {\n",
       "      display:flex;\n",
       "      flex-wrap:wrap;\n",
       "      gap: 12px;\n",
       "    }\n",
       "\n",
       "    .colab-df-convert {\n",
       "      background-color: #E8F0FE;\n",
       "      border: none;\n",
       "      border-radius: 50%;\n",
       "      cursor: pointer;\n",
       "      display: none;\n",
       "      fill: #1967D2;\n",
       "      height: 32px;\n",
       "      padding: 0 0 0 0;\n",
       "      width: 32px;\n",
       "    }\n",
       "\n",
       "    .colab-df-convert:hover {\n",
       "      background-color: #E2EBFA;\n",
       "      box-shadow: 0px 1px 2px rgba(60, 64, 67, 0.3), 0px 1px 3px 1px rgba(60, 64, 67, 0.15);\n",
       "      fill: #174EA6;\n",
       "    }\n",
       "\n",
       "    [theme=dark] .colab-df-convert {\n",
       "      background-color: #3B4455;\n",
       "      fill: #D2E3FC;\n",
       "    }\n",
       "\n",
       "    [theme=dark] .colab-df-convert:hover {\n",
       "      background-color: #434B5C;\n",
       "      box-shadow: 0px 1px 3px 1px rgba(0, 0, 0, 0.15);\n",
       "      filter: drop-shadow(0px 1px 2px rgba(0, 0, 0, 0.3));\n",
       "      fill: #FFFFFF;\n",
       "    }\n",
       "  </style>\n",
       "\n",
       "      <script>\n",
       "        const buttonEl =\n",
       "          document.querySelector('#df-1c99c652-91fe-4c14-b92a-1674b6eee75a button.colab-df-convert');\n",
       "        buttonEl.style.display =\n",
       "          google.colab.kernel.accessAllowed ? 'block' : 'none';\n",
       "\n",
       "        async function convertToInteractive(key) {\n",
       "          const element = document.querySelector('#df-1c99c652-91fe-4c14-b92a-1674b6eee75a');\n",
       "          const dataTable =\n",
       "            await google.colab.kernel.invokeFunction('convertToInteractive',\n",
       "                                                     [key], {});\n",
       "          if (!dataTable) return;\n",
       "\n",
       "          const docLinkHtml = 'Like what you see? Visit the ' +\n",
       "            '<a target=\"_blank\" href=https://colab.research.google.com/notebooks/data_table.ipynb>data table notebook</a>'\n",
       "            + ' to learn more about interactive tables.';\n",
       "          element.innerHTML = '';\n",
       "          dataTable['output_type'] = 'display_data';\n",
       "          await google.colab.output.renderOutput(dataTable, element);\n",
       "          const docLink = document.createElement('div');\n",
       "          docLink.innerHTML = docLinkHtml;\n",
       "          element.appendChild(docLink);\n",
       "        }\n",
       "      </script>\n",
       "    </div>\n",
       "  </div>\n",
       "  "
      ],
      "text/plain": [
       "                      Action  Adventure  Comedy  Crime  Drama  Fantasy  \\\n",
       "Student Name                                                             \n",
       "Akbar                   9.90       9.90     9.8    8.5   5.40      7.9   \n",
       "Harini                  9.50       8.90     9.8   10.1   7.90      9.7   \n",
       "Mohammed Baleequddin    9.00      10.00     9.0    9.0   8.00      8.0   \n",
       "Nayoung                 9.99       9.99     9.0    6.5   9.99      7.4   \n",
       "Rutvik Gadhiya         10.00       9.80     8.9    9.3   9.90      9.6   \n",
       "\n",
       "                      Science Fiction  Horror  Mystery  Romance  Thriller  \\\n",
       "Student Name                                                                \n",
       "Akbar                             8.9     9.9      6.9     10.0       9.5   \n",
       "Harini                            9.9     5.4      8.6     10.0       9.6   \n",
       "Mohammed Baleequddin              8.0    10.0     10.0     10.0      10.0   \n",
       "Nayoung                           7.6     1.1      5.5      8.9       7.1   \n",
       "Rutvik Gadhiya                   10.0     9.5      7.8      8.7       9.9   \n",
       "\n",
       "                      Documentary  Animated  Average in a Week  Preference 1  \\\n",
       "Student Name                                                                   \n",
       "Akbar                         3.8       7.4                  3             3   \n",
       "Harini                        8.7       9.6                  2             5   \n",
       "Mohammed Baleequddin          7.0       5.0                  2             4   \n",
       "Nayoung                       4.1       1.1                  1             5   \n",
       "Rutvik Gadhiya                6.8       9.3                  1             3   \n",
       "\n",
       "                      Preference 2  Preference 3  Preference 4  \n",
       "Student Name                                                    \n",
       "Akbar                            4             3             1  \n",
       "Harini                           4             3             1  \n",
       "Mohammed Baleequddin             3             3             1  \n",
       "Nayoung                          4             3             1  \n",
       "Rutvik Gadhiya                   4             3             1  "
      ]
     },
     "metadata": {},
     "output_type": "display_data"
    }
   ],
   "source": [
    "for i in range(1, k):\n",
    "    print(\"\\nCluster\", i)\n",
    "    display(final[dend_clusters == i])"
   ]
  },
  {
   "cell_type": "markdown",
   "metadata": {
    "id": "9905YZQvZqyY"
   },
   "source": [
    "4) Step-by-step K-means"
   ]
  },
  {
   "cell_type": "code",
   "execution_count": 83,
   "metadata": {
    "id": "330Z72HluV7A"
   },
   "outputs": [],
   "source": [
    "from sklearn.preprocessing import StandardScaler\n",
    "from sklearn.datasets import make_blobs"
   ]
  },
  {
   "cell_type": "code",
   "execution_count": 95,
   "metadata": {
    "colab": {
     "base_uri": "https://localhost:8080/",
     "height": 304
    },
    "id": "NVKdyNj8uU1L",
    "outputId": "70a2cfec-0b50-442c-b2d6-b8da1d4106a7"
   },
   "outputs": [
    {
     "data": {
      "image/png": "[encoded data removed]",
      "text/plain": [
       "<Figure size 432x288 with 1 Axes>"
      ]
     },
     "metadata": {},
     "output_type": "display_data"
    }
   ],
   "source": [
    "X_train = final\n",
    "sns.scatterplot(x=final[\"Action\"],\n",
    "                y=final[\"Average in a Week\"],\n",
    "                palette=\"deep\",\n",
    "                legend=None\n",
    "                )\n",
    "plt.xlabel(\"x\")\n",
    "plt.ylabel(\"y\")\n",
    "plt.show()"
   ]
  },
  {
   "cell_type": "code",
   "execution_count": 80,
   "metadata": {
    "id": "rVYF4am8ptiy"
   },
   "outputs": [],
   "source": [
    "def Kmeans(df1,k_cluster):\n",
    "  print(\"Clusters are :\")\n",
    "  return()"
   ]
  },
  {
   "cell_type": "code",
   "execution_count": null,
   "metadata": {
    "id": "N2tv_lg4ak1y"
   },
   "outputs": [],
   "source": [
    "for i in range(k):\n",
    "    print(\"\\nCluster\", i)\n",
    "    print(final[kmeans.labels_ == i].index)"
   ]
  },
  {
   "cell_type": "code",
   "execution_count": 262,
   "metadata": {
    "colab": {
     "base_uri": "https://localhost:8080/"
    },
    "id": "hXXTK-g2sxo1",
    "outputId": "a5ba1a04-61df-43ed-a649-01115390408b"
   },
   "outputs": [
    {
     "name": "stdout",
     "output_type": "stream",
     "text": [
      "Clusters are :\n"
     ]
    },
    {
     "data": {
      "text/plain": [
       "()"
      ]
     },
     "execution_count": 262,
     "metadata": {},
     "output_type": "execute_result"
    }
   ],
   "source": [
    "Kmeans(final,9)"
   ]
  },
  {
   "cell_type": "markdown",
   "metadata": {
    "id": "mQ9wyZrGlWo1"
   },
   "source": [
    "5) sklearn.cluster"
   ]
  },
  {
   "cell_type": "markdown",
   "metadata": {
    "id": "i9e15l64DKLk"
   },
   "source": [
    "Lets import the Kmeans library from sklearn.cluster"
   ]
  },
  {
   "cell_type": "code",
   "execution_count": 40,
   "metadata": {
    "id": "zpingsvUlY_j"
   },
   "outputs": [],
   "source": [
    "from sklearn.cluster import KMeans"
   ]
  },
  {
   "cell_type": "markdown",
   "metadata": {
    "id": "0PHbWwJQDT1S"
   },
   "source": [
    "So for our model we had 9 clusters formed now lets cluster them using Kmeans for our columns \"Action\",\"Romance\",\"Adventure\",\"Average in a Week\", \"Preference 1\""
   ]
  },
  {
   "cell_type": "code",
   "execution_count": 125,
   "metadata": {
    "colab": {
     "base_uri": "https://localhost:8080/"
    },
    "id": "3UoYsE6SJBbW",
    "outputId": "5d30eb13-6c5c-41f1-8ad8-49f632af54c1"
   },
   "outputs": [
    {
     "data": {
      "text/plain": [
       "array([1, 0, 6, 0, 2, 7, 2, 8, 6, 1, 2, 4, 0, 3, 1, 1, 1, 0, 2, 7, 7, 6,\n",
       "       1, 3, 1, 4, 4, 2, 7, 3, 0, 5, 6, 2, 5, 7, 5], dtype=int32)"
      ]
     },
     "execution_count": 125,
     "metadata": {},
     "output_type": "execute_result"
    }
   ],
   "source": [
    "k = 9\n",
    "model = KMeans(n_clusters = k)\n",
    "model.fit(final[[\"Action\",\"Romance\",\"Adventure\",\"Average in a Week\", \"Preference 1\"]])\n",
    "model.labels_"
   ]
  },
  {
   "cell_type": "markdown",
   "metadata": {
    "id": "4RV4rxDUK9uO"
   },
   "source": [
    "Lets plot a 3-D space of Action Romance and Adventure"
   ]
  },
  {
   "cell_type": "code",
   "execution_count": 130,
   "metadata": {
    "colab": {
     "base_uri": "https://localhost:8080/",
     "height": 614
    },
    "id": "wxmlqn6HJHMD",
    "outputId": "f2c448e8-0ca0-42bd-c888-84994e72a3e2"
   },
   "outputs": [
    {
     "data": {
      "image/png": "[encoded data removed]",
      "text/plain": [
       "<Figure size 720x720 with 1 Axes>"
      ]
     },
     "metadata": {},
     "output_type": "display_data"
    }
   ],
   "source": [
    "from mpl_toolkits.mplot3d import Axes3D\n",
    "colormap = np.array(['magenta','black','orange','purple','brown','green','olive', 'cyan', 'teal'])\n",
    "\n",
    "fig = plt.figure(figsize=(10, 10))\n",
    "ax = fig.add_subplot(111, projection='3d')\n",
    "\n",
    "ax.scatter(xs = final.Action, ys = final.Romance, zs = final.Adventure, \n",
    "           s= 180, depthshade = False, c = colormap[model.labels_])\n",
    "    \n",
    "ax.set_xlabel('Action')\n",
    "ax.set_ylabel('Romance')\n",
    "ax.set_zlabel('Adventure')\n",
    "\n",
    "plt.show()"
   ]
  },
  {
   "cell_type": "code",
   "execution_count": 146,
   "metadata": {
    "colab": {
     "base_uri": "https://localhost:8080/"
    },
    "id": "544Ee__tJtyH",
    "outputId": "bf8388ce-a01b-4728-a5cf-e4dba808c84c"
   },
   "outputs": [
    {
     "name": "stdout",
     "output_type": "stream",
     "text": [
      "[[ 7.64000000e+00  4.26000000e+00  7.76000000e+00  1.60000000e+00\n",
      "  -4.44089210e-16]\n",
      " [ 7.80000000e+00  5.72500000e+00  6.40000000e+00  1.75000000e+00\n",
      "   3.50000000e+00]\n",
      " [ 9.67800000e+00  9.52000000e+00  9.71800000e+00  1.80000000e+00\n",
      "   4.00000000e+00]\n",
      " [ 9.20000000e+00  4.26666667e+00  8.03333333e+00  6.66666667e-01\n",
      "   4.33333333e+00]\n",
      " [ 9.96666667e+00  1.10666667e+00  9.63333333e+00  3.66666667e+00\n",
      "   3.00000000e+00]\n",
      " [ 8.91428571e+00  8.62857143e+00  9.05714286e+00  1.00000000e+00\n",
      "   1.28571429e+00]\n",
      " [ 9.33333333e+00  6.50000000e+00  9.60000000e+00  4.66666667e+00\n",
      "   0.00000000e+00]\n",
      " [ 5.90000000e+00  7.58333333e+00  6.88333333e+00  6.66666667e-01\n",
      "   2.00000000e+00]\n",
      " [ 1.00000000e+01  9.00000000e+00  4.00000000e+00  1.00000000e+00\n",
      "   1.00000000e+00]]\n"
     ]
    }
   ],
   "source": [
    "kmeans = KMeans(n_clusters=9).fit(final[[\"Action\",\"Romance\",\"Adventure\",\"Average in a Week\", \"Preference 1\"]])\n",
    "centroids = kmeans.cluster_centers_\n",
    "print(centroids)"
   ]
  },
  {
   "cell_type": "code",
   "execution_count": 147,
   "metadata": {
    "colab": {
     "base_uri": "https://localhost:8080/"
    },
    "id": "kBnVEnPPCtAL",
    "outputId": "18e904d1-0c47-4565-e29b-fe1310552e3a"
   },
   "outputs": [
    {
     "data": {
      "text/plain": [
       "array([2, 0, 1, 0, 7, 5, 7, 8, 1, 2, 7, 6, 0, 3, 2, 2, 5, 0, 7, 5, 5, 1,\n",
       "       2, 3, 5, 6, 6, 7, 5, 3, 0, 4, 1, 7, 4, 5, 4], dtype=int32)"
      ]
     },
     "execution_count": 147,
     "metadata": {},
     "output_type": "execute_result"
    }
   ],
   "source": [
    "kmeans.labels_"
   ]
  },
  {
   "cell_type": "markdown",
   "metadata": {
    "id": "h8O3ekdofLCg"
   },
   "source": [
    "The above code basically tells us the different types of clusters formed.\n",
    "Lets plot these clusters and their centroids below."
   ]
  },
  {
   "cell_type": "code",
   "execution_count": 272,
   "metadata": {
    "colab": {
     "base_uri": "https://localhost:8080/",
     "height": 379
    },
    "id": "rBOxBjkFbt52",
    "outputId": "9a680b06-b2f7-4858-8753-dccbfcc830e8"
   },
   "outputs": [
    {
     "name": "stderr",
     "output_type": "stream",
     "text": [
      "/usr/local/lib/python3.7/dist-packages/seaborn/_decorators.py:43: FutureWarning: Pass the following variables as keyword args: x, y. From version 0.12, the only valid positional argument will be `data`, and passing other arguments without an explicit keyword will result in an error or misinterpretation.\n",
      "  FutureWarning\n"
     ]
    },
    {
     "data": {
      "image/png": "[encoded data removed]",
      "text/plain": [
       "<Figure size 432x288 with 1 Axes>"
      ]
     },
     "metadata": {},
     "output_type": "display_data"
    }
   ],
   "source": [
    "sns.scatterplot(final[\"Action\"],\n",
    "                final[\"Average in a Week\"],\n",
    "                hue=kmeans.labels_.astype(float),\n",
    "                palette=\"deep\",\n",
    "                legend=None\n",
    "                )\n",
    "plt.plot([centroids[:,0]],\n",
    "         [centroids[:,1]],\n",
    "         '+',\n",
    "         markersize=10,\n",
    "         )\n",
    "plt.title(\"Centroids as +\")\n",
    "plt.show()"
   ]
  },
  {
   "cell_type": "code",
   "execution_count": 271,
   "metadata": {
    "colab": {
     "base_uri": "https://localhost:8080/",
     "height": 325
    },
    "id": "w_TDrUkYueLV",
    "outputId": "516fc110-4afb-44aa-e221-6815964945fa"
   },
   "outputs": [
    {
     "data": {
      "image/png": "[encoded data removed]",
      "text/plain": [
       "<Figure size 432x288 with 1 Axes>"
      ]
     },
     "metadata": {},
     "output_type": "display_data"
    }
   ],
   "source": [
    "plt.scatter(final[\"Action\"], final[\"Average in a Week\"], c= kmeans.labels_.astype(float), s=50, alpha=0.5)\n",
    "plt.scatter(centroids[:, 0], centroids[:, 1], s=50, c='cyan')\n",
    "plt.xlabel(\"Action Movies\") \n",
    "plt.ylabel(\"Watched in a week\") \n",
    "plt.title(\"Clusters formed\")\n",
    "plt.show()"
   ]
  },
  {
   "cell_type": "code",
   "execution_count": 261,
   "metadata": {
    "colab": {
     "base_uri": "https://localhost:8080/"
    },
    "id": "Wdp0v7ZaaIW2",
    "outputId": "f90fcdc2-d8ec-4ccd-e790-f2170e8fb16c"
   },
   "outputs": [
    {
     "name": "stdout",
     "output_type": "stream",
     "text": [
      "\n",
      "Cluster 0\n",
      "Index(['HARSH'], dtype='object', name='Student Name')\n",
      "\n",
      "Cluster 1\n",
      "Index(['Changhao Dong', 'FRANCIS', 'Jacobson, Brian', 'Pavan Reddy',\n",
      "       'Talantbek', 'anusha reddy'],\n",
      "      dtype='object', name='Student Name')\n",
      "\n",
      "Cluster 2\n",
      "Index(['Jenith Suvagia', 'Saetbyeol Choi', 'Tejender'], dtype='object', name='Student Name')\n",
      "\n",
      "Cluster 3\n",
      "Index(['Ali', 'Brandon Inoshita', 'Jay,Patel', 'Parth Kambli', 'Tim Brice'], dtype='object', name='Student Name')\n",
      "\n",
      "Cluster 4\n",
      "Index(['Akbar', 'Harini', 'Mohammed Baleequddin', 'Nayoung', 'Rutvik Gadhiya'], dtype='object', name='Student Name')\n",
      "\n",
      "Cluster 5\n",
      "Index(['Venkat Patchikura', 'eknath vamsi punna', 'vrushabhkumar shrimali'], dtype='object', name='Student Name')\n",
      "\n",
      "Cluster 6\n",
      "Index(['Anh T', 'Haodong Ma', 'Rene Padilla', 'Wenbo'], dtype='object', name='Student Name')\n",
      "\n",
      "Cluster 7\n",
      "Index(['Clark Blatter', 'Nomondalai', 'Pranjali', 'Purav',\n",
      "       'Sanmukh Sain Karri', 'Tang, Jonathan', 'sai'],\n",
      "      dtype='object', name='Student Name')\n",
      "\n",
      "Cluster 8\n",
      "Index(['Jainam, Shah', 'Sanyuja Kadam', 'Sifa'], dtype='object', name='Student Name')\n"
     ]
    }
   ],
   "source": [
    "k=9\n",
    "for i in range(k):\n",
    "    print(\"\\nCluster\", i)\n",
    "    print(final[kmeans.labels_ == i].index)"
   ]
  },
  {
   "cell_type": "markdown",
   "metadata": {
    "id": "ElMNhav93rKy"
   },
   "source": [
    "6)Prediction"
   ]
  },
  {
   "cell_type": "markdown",
   "metadata": {
    "id": "vlidOyqTZjCK"
   },
   "source": [
    "Let's create a prediction function to see where a new student might belong to."
   ]
  },
  {
   "cell_type": "code",
   "execution_count": 245,
   "metadata": {
    "id": "Q2mW-Uh0N6DF"
   },
   "outputs": [],
   "source": [
    "def Prediction(Action,Romance,Adventure,Average,Preference):\n",
    "  Action = Action\n",
    "  Romance = Romance\n",
    "  Adventure = Adventure\n",
    "  Average = Average\n",
    "  Preference = Preference\n",
    "  data_class = model.predict(np.array([Action,Romance, Adventure, Average,Preference]).reshape(1, -1))[0]\n",
    "  print(\"Cluster the stuent belongs to is :\", data_class, \"please scan your voucher at the booth\", data_class)"
   ]
  },
  {
   "cell_type": "markdown",
   "metadata": {
    "id": "NJRcr7ief80V"
   },
   "source": [
    "Lets run the above prediction function for different values of Action,Romance,Adventure,Average,Preference voted by a new student and check which cluster he belongs to"
   ]
  },
  {
   "cell_type": "markdown",
   "metadata": {
    "id": "KyzxjXSzWbYc"
   },
   "source": [
    "6.1)Run 1"
   ]
  },
  {
   "cell_type": "code",
   "execution_count": 246,
   "metadata": {
    "colab": {
     "base_uri": "https://localhost:8080/"
    },
    "id": "i3hMGLKQSA03",
    "outputId": "8a94d5f9-1abf-43e6-8e7f-6e993601cefe"
   },
   "outputs": [
    {
     "name": "stdout",
     "output_type": "stream",
     "text": [
      "Cluster the stuent belongs to is : 6 please scan your voucher at the booth 6\n"
     ]
    }
   ],
   "source": [
    "Prediction(1,6,10,5,9)"
   ]
  },
  {
   "cell_type": "markdown",
   "metadata": {
    "id": "DcnJv8aTWeYE"
   },
   "source": [
    "6.2)Run 2"
   ]
  },
  {
   "cell_type": "code",
   "execution_count": 247,
   "metadata": {
    "colab": {
     "base_uri": "https://localhost:8080/"
    },
    "id": "xqV4xcn6TcwH",
    "outputId": "7136cdb6-5bb5-42ab-bb82-78c9deccf86a"
   },
   "outputs": [
    {
     "name": "stdout",
     "output_type": "stream",
     "text": [
      "Cluster the stuent belongs to is : 0 please scan your voucher at the booth 0\n"
     ]
    }
   ],
   "source": [
    "Prediction(1,1,1,1,1)"
   ]
  },
  {
   "cell_type": "markdown",
   "metadata": {
    "id": "0nGuSVblWiTm"
   },
   "source": [
    "6.3) Run 3"
   ]
  },
  {
   "cell_type": "code",
   "execution_count": 248,
   "metadata": {
    "colab": {
     "base_uri": "https://localhost:8080/"
    },
    "id": "JdP9LEp3Tgtg",
    "outputId": "b1b63bcc-3bbf-4518-ad41-d8c4f9778e8c"
   },
   "outputs": [
    {
     "name": "stdout",
     "output_type": "stream",
     "text": [
      "Cluster the stuent belongs to is : 1 please scan your voucher at the booth 1\n"
     ]
    }
   ],
   "source": [
    "Prediction(10,10,10,10,10)"
   ]
  },
  {
   "cell_type": "markdown",
   "metadata": {
    "id": "cLbb5t1gWj-Z"
   },
   "source": [
    "6.4) Run 4"
   ]
  },
  {
   "cell_type": "code",
   "execution_count": 249,
   "metadata": {
    "colab": {
     "base_uri": "https://localhost:8080/"
    },
    "id": "CBINhOFnVltt",
    "outputId": "f3d4d4d6-b53c-46b3-a018-3cb9afa3c8cf"
   },
   "outputs": [
    {
     "name": "stdout",
     "output_type": "stream",
     "text": [
      "Cluster the stuent belongs to is : 6 please scan your voucher at the booth 6\n"
     ]
    }
   ],
   "source": [
    "Prediction(1.1,5.6,7.8,9.0,10)"
   ]
  },
  {
   "cell_type": "markdown",
   "metadata": {
    "id": "YwWIDr2wWl3b"
   },
   "source": [
    "6.5) Run 5"
   ]
  },
  {
   "cell_type": "code",
   "execution_count": 250,
   "metadata": {
    "colab": {
     "base_uri": "https://localhost:8080/"
    },
    "id": "XIfKyK95VsxX",
    "outputId": "68971ab3-a442-4950-c108-de4dc3f0a39c"
   },
   "outputs": [
    {
     "name": "stdout",
     "output_type": "stream",
     "text": [
      "Cluster the stuent belongs to is : 6 please scan your voucher at the booth 6\n"
     ]
    }
   ],
   "source": [
    "Prediction(8,5,3,1,2.3)"
   ]
  },
  {
   "cell_type": "markdown",
   "metadata": {
    "id": "thlU9jZyWoFH"
   },
   "source": [
    "6.6) Run 6"
   ]
  },
  {
   "cell_type": "code",
   "execution_count": 251,
   "metadata": {
    "colab": {
     "base_uri": "https://localhost:8080/"
    },
    "id": "1uI-9vzJV3az",
    "outputId": "13b8ff39-f337-4f49-a49c-7b3332f33f04"
   },
   "outputs": [
    {
     "name": "stdout",
     "output_type": "stream",
     "text": [
      "Cluster the stuent belongs to is : 2 please scan your voucher at the booth 2\n"
     ]
    }
   ],
   "source": [
    "Prediction(2,3,2,3,1)"
   ]
  },
  {
   "cell_type": "markdown",
   "metadata": {
    "id": "kXPRJqVDWqkw"
   },
   "source": [
    "6.7) Run 7"
   ]
  },
  {
   "cell_type": "code",
   "execution_count": 252,
   "metadata": {
    "colab": {
     "base_uri": "https://localhost:8080/"
    },
    "id": "lWCWlO4WWy57",
    "outputId": "e8de522f-d28d-4712-d00d-97a80c0f1ff1"
   },
   "outputs": [
    {
     "name": "stdout",
     "output_type": "stream",
     "text": [
      "Cluster the stuent belongs to is : 4 please scan your voucher at the booth 4\n"
     ]
    }
   ],
   "source": [
    "Prediction(9,8,9,8,5)"
   ]
  },
  {
   "cell_type": "markdown",
   "metadata": {
    "id": "f0lhB3zgWtLS"
   },
   "source": [
    "6.8) Run 8"
   ]
  },
  {
   "cell_type": "code",
   "execution_count": 253,
   "metadata": {
    "colab": {
     "base_uri": "https://localhost:8080/"
    },
    "id": "bNXdgH5HXGz3",
    "outputId": "5d7462b2-4be0-442c-bf6b-1d2b37c9167d"
   },
   "outputs": [
    {
     "name": "stdout",
     "output_type": "stream",
     "text": [
      "Cluster the stuent belongs to is : 5 please scan your voucher at the booth 5\n"
     ]
    }
   ],
   "source": [
    "Prediction(6,1,10,8,5)"
   ]
  },
  {
   "cell_type": "code",
   "execution_count": 254,
   "metadata": {
    "colab": {
     "base_uri": "https://localhost:8080/"
    },
    "id": "KnFgnKoLXJ94",
    "outputId": "9dc65752-70a4-44c2-d490-54b0b0f9b6a2"
   },
   "outputs": [
    {
     "name": "stdout",
     "output_type": "stream",
     "text": [
      "Cluster the stuent belongs to is : 6 please scan your voucher at the booth 6\n"
     ]
    }
   ],
   "source": [
    "Prediction(4,4,1,5,5)"
   ]
  },
  {
   "cell_type": "markdown",
   "metadata": {
    "id": "FjwSDp-TWu4S"
   },
   "source": [
    "6.9) Run 9"
   ]
  },
  {
   "cell_type": "code",
   "execution_count": 256,
   "metadata": {
    "colab": {
     "base_uri": "https://localhost:8080/"
    },
    "id": "P8X9pMtFXa9z",
    "outputId": "bd7509d1-9747-4bc3-d1e2-3bf350c8d5bc"
   },
   "outputs": [
    {
     "name": "stdout",
     "output_type": "stream",
     "text": [
      "Cluster the stuent belongs to is : 2 please scan your voucher at the booth 2\n"
     ]
    }
   ],
   "source": [
    "Prediction(0,8,5,2,1)"
   ]
  },
  {
   "cell_type": "markdown",
   "metadata": {
    "id": "1XsbciaTWwvG"
   },
   "source": [
    "6.10) Run 10"
   ]
  },
  {
   "cell_type": "code",
   "execution_count": 257,
   "metadata": {
    "colab": {
     "base_uri": "https://localhost:8080/"
    },
    "id": "-EmUw0ZZXbxM",
    "outputId": "845067ce-8f9c-420b-dd56-3a53a3c0495a"
   },
   "outputs": [
    {
     "name": "stdout",
     "output_type": "stream",
     "text": [
      "Cluster the stuent belongs to is : 8 please scan your voucher at the booth 8\n"
     ]
    }
   ],
   "source": [
    "Prediction(8,9,3,2,1)"
   ]
  },
  {
   "cell_type": "markdown",
   "metadata": {
    "id": "pKVZbF7yZE5h"
   },
   "source": [
    "if we check for what cluster and student the above predictions will belong too we can check from the below code. Like for Run 10 the student will belng to cluster 8 and will have Harsh to discuss familiarities"
   ]
  },
  {
   "cell_type": "code",
   "execution_count": 258,
   "metadata": {
    "colab": {
     "base_uri": "https://localhost:8080/"
    },
    "id": "xXSmbuaYU1hm",
    "outputId": "423ff45e-fa1f-48d2-c013-8d49574bab29"
   },
   "outputs": [
    {
     "name": "stdout",
     "output_type": "stream",
     "text": [
      "\n",
      "Cluster 0\n",
      "Index(['Ali', 'Brandon Inoshita', 'Jay,Patel', 'Parth Kambli', 'Tim Brice'], dtype='object', name='Student Name')\n",
      "\n",
      "Cluster 1\n",
      "Index(['Akbar', 'Harini', 'Mohammed Baleequddin', 'Nayoung', 'Nomondalai',\n",
      "       'Rutvik Gadhiya', 'Sanmukh Sain Karri'],\n",
      "      dtype='object', name='Student Name')\n",
      "\n",
      "Cluster 2\n",
      "Index(['Changhao Dong', 'FRANCIS', 'Jacobson, Brian', 'Pavan Reddy',\n",
      "       'Talantbek', 'anusha reddy'],\n",
      "      dtype='object', name='Student Name')\n",
      "\n",
      "Cluster 3\n",
      "Index(['Jenith Suvagia', 'Saetbyeol Choi', 'Tejender'], dtype='object', name='Student Name')\n",
      "\n",
      "Cluster 4\n",
      "Index(['Jainam, Shah', 'Sanyuja Kadam', 'Sifa'], dtype='object', name='Student Name')\n",
      "\n",
      "Cluster 5\n",
      "Index(['Venkat Patchikura', 'eknath vamsi punna', 'vrushabhkumar shrimali'], dtype='object', name='Student Name')\n",
      "\n",
      "Cluster 6\n",
      "Index(['Anh T', 'Haodong Ma', 'Rene Padilla', 'Wenbo'], dtype='object', name='Student Name')\n",
      "\n",
      "Cluster 7\n",
      "Index(['Clark Blatter', 'Pranjali', 'Purav', 'Tang, Jonathan', 'sai'], dtype='object', name='Student Name')\n",
      "\n",
      "Cluster 8\n",
      "Index(['HARSH'], dtype='object', name='Student Name')\n"
     ]
    }
   ],
   "source": [
    "for i in range(k):\n",
    "    print(\"\\nCluster\", i)\n",
    "    print(final[model.labels_ == i].index)"
   ]
  },
  {
   "cell_type": "markdown",
   "metadata": {
    "id": "jXooGGQQZYK3"
   },
   "source": [
    "7)Summary and Recommendations"
   ]
  },
  {
   "cell_type": "markdown",
   "metadata": {
    "id": "IK5r1EaQgI6Y"
   },
   "source": [
    "MovieBuff was able to cluster and club students into their different clusters based on our dataset. Something that is peculoiar about the analysis is that since \"Spiderman\" was the most preferred movie the scores for \"Action\" and \"Adventure\" are also higher for those students.\n",
    "\n",
    "Any new student who joins the cohort won't be alone as there are many clusters and students that have lots of similarities based on the voting they have done"
   ]
  }
 ],
 "metadata": {
  "colab": {
   "provenance": []
  },
  "kernelspec": {
   "display_name": "Python 3 (ipykernel)",
   "language": "python",
   "name": "python3"
  },
  "language_info": {
   "codemirror_mode": {
    "name": "ipython",
    "version": 3
   },
   "file_extension": ".py",
   "mimetype": "text/x-python",
   "name": "python",
   "nbconvert_exporter": "python",
   "pygments_lexer": "ipython3",
   "version": "3.9.12"
  }
 },
 "nbformat": 4,
 "nbformat_minor": 1
}
